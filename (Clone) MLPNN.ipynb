{
 "cells": [
  {
   "cell_type": "code",
   "execution_count": 0,
   "metadata": {
    "application/vnd.databricks.v1+cell": {
     "cellMetadata": {
      "byteLimit": 2048000,
      "rowLimit": 10000
     },
     "inputWidgets": {},
     "nuid": "7fba89f4-e999-4ee4-a572-28578ad661ef",
     "showTitle": false,
     "tableResultSettingsMap": {},
     "title": ""
    }
   },
   "outputs": [
    {
     "output_type": "display_data",
     "data": {
      "text/html": [
       "<style scoped>\n",
       "  .table-result-container {\n",
       "    max-height: 300px;\n",
       "    overflow: auto;\n",
       "  }\n",
       "  table, th, td {\n",
       "    border: 1px solid black;\n",
       "    border-collapse: collapse;\n",
       "  }\n",
       "  th, td {\n",
       "    padding: 5px;\n",
       "  }\n",
       "  th {\n",
       "    text-align: left;\n",
       "  }\n",
       "</style><div class='table-result-container'><table class='table-result'><thead style='background-color: white'><tr><th>path</th><th>name</th><th>size</th><th>modificationTime</th></tr></thead><tbody><tr><td>dbfs:/mnt/mids-w261/HW5/</td><td>HW5/</td><td>0</td><td>1753754692917</td></tr><tr><td>dbfs:/mnt/mids-w261/OTPW_12M/</td><td>OTPW_12M/</td><td>0</td><td>1753754692917</td></tr><tr><td>dbfs:/mnt/mids-w261/OTPW_1D_CSV/</td><td>OTPW_1D_CSV/</td><td>0</td><td>1753754692917</td></tr><tr><td>dbfs:/mnt/mids-w261/OTPW_36M/</td><td>OTPW_36M/</td><td>0</td><td>1753754692917</td></tr><tr><td>dbfs:/mnt/mids-w261/OTPW_3M/</td><td>OTPW_3M/</td><td>0</td><td>1753754692917</td></tr><tr><td>dbfs:/mnt/mids-w261/OTPW_3M_2015.csv</td><td>OTPW_3M_2015.csv</td><td>1500620247</td><td>1741625185000</td></tr><tr><td>dbfs:/mnt/mids-w261/OTPW_3M_2015_delta/</td><td>OTPW_3M_2015_delta/</td><td>0</td><td>1753754692917</td></tr><tr><td>dbfs:/mnt/mids-w261/OTPW_60M/</td><td>OTPW_60M/</td><td>0</td><td>1753754692917</td></tr><tr><td>dbfs:/mnt/mids-w261/OTPW_60M_Backup/</td><td>OTPW_60M_Backup/</td><td>0</td><td>1753754692917</td></tr><tr><td>dbfs:/mnt/mids-w261/airport-codes_csv.csv</td><td>airport-codes_csv.csv</td><td>6232459</td><td>1740508595000</td></tr><tr><td>dbfs:/mnt/mids-w261/datasets_final_project/</td><td>datasets_final_project/</td><td>0</td><td>1753754692917</td></tr><tr><td>dbfs:/mnt/mids-w261/datasets_final_project_2022/</td><td>datasets_final_project_2022/</td><td>0</td><td>1753754692917</td></tr><tr><td>dbfs:/mnt/mids-w261/final_project_winter_2025/</td><td>final_project_winter_2025/</td><td>0</td><td>1753754692917</td></tr><tr><td>dbfs:/mnt/mids-w261/student-groups/</td><td>student-groups/</td><td>0</td><td>1753754692917</td></tr><tr><td>dbfs:/mnt/mids-w261/students-groups/</td><td>students-groups/</td><td>0</td><td>1753754692917</td></tr></tbody></table></div>"
      ]
     },
     "metadata": {
      "application/vnd.databricks.v1+output": {
       "addedWidgets": {},
       "aggData": [],
       "aggError": "",
       "aggOverflow": false,
       "aggSchema": [],
       "aggSeriesLimitReached": false,
       "aggType": "",
       "arguments": {},
       "columnCustomDisplayInfos": {},
       "data": [
        [
         "dbfs:/mnt/mids-w261/HW5/",
         "HW5/",
         0,
         1753754692917
        ],
        [
         "dbfs:/mnt/mids-w261/OTPW_12M/",
         "OTPW_12M/",
         0,
         1753754692917
        ],
        [
         "dbfs:/mnt/mids-w261/OTPW_1D_CSV/",
         "OTPW_1D_CSV/",
         0,
         1753754692917
        ],
        [
         "dbfs:/mnt/mids-w261/OTPW_36M/",
         "OTPW_36M/",
         0,
         1753754692917
        ],
        [
         "dbfs:/mnt/mids-w261/OTPW_3M/",
         "OTPW_3M/",
         0,
         1753754692917
        ],
        [
         "dbfs:/mnt/mids-w261/OTPW_3M_2015.csv",
         "OTPW_3M_2015.csv",
         1500620247,
         1741625185000
        ],
        [
         "dbfs:/mnt/mids-w261/OTPW_3M_2015_delta/",
         "OTPW_3M_2015_delta/",
         0,
         1753754692917
        ],
        [
         "dbfs:/mnt/mids-w261/OTPW_60M/",
         "OTPW_60M/",
         0,
         1753754692917
        ],
        [
         "dbfs:/mnt/mids-w261/OTPW_60M_Backup/",
         "OTPW_60M_Backup/",
         0,
         1753754692917
        ],
        [
         "dbfs:/mnt/mids-w261/airport-codes_csv.csv",
         "airport-codes_csv.csv",
         6232459,
         1740508595000
        ],
        [
         "dbfs:/mnt/mids-w261/datasets_final_project/",
         "datasets_final_project/",
         0,
         1753754692917
        ],
        [
         "dbfs:/mnt/mids-w261/datasets_final_project_2022/",
         "datasets_final_project_2022/",
         0,
         1753754692917
        ],
        [
         "dbfs:/mnt/mids-w261/final_project_winter_2025/",
         "final_project_winter_2025/",
         0,
         1753754692917
        ],
        [
         "dbfs:/mnt/mids-w261/student-groups/",
         "student-groups/",
         0,
         1753754692917
        ],
        [
         "dbfs:/mnt/mids-w261/students-groups/",
         "students-groups/",
         0,
         1753754692917
        ]
       ],
       "datasetInfos": [],
       "dbfsResultPath": null,
       "isJsonSchema": true,
       "metadata": {},
       "overflow": false,
       "plotOptions": {
        "customPlotOptions": {},
        "displayType": "table",
        "pivotAggregation": null,
        "pivotColumns": null,
        "xColumns": null,
        "yColumns": null
       },
       "removedWidgets": [],
       "schema": [
        {
         "metadata": "{}",
         "name": "path",
         "type": "\"string\""
        },
        {
         "metadata": "{}",
         "name": "name",
         "type": "\"string\""
        },
        {
         "metadata": "{}",
         "name": "size",
         "type": "\"long\""
        },
        {
         "metadata": "{}",
         "name": "modificationTime",
         "type": "\"long\""
        }
       ],
       "type": "table"
      }
     },
     "output_type": "display_data"
    }
   ],
   "source": [
    "from pyspark.sql.functions import col\n",
    "data_BASE_DIR = \"dbfs:/mnt/mids-w261/\"\n",
    "display(dbutils.fs.ls(f\"{data_BASE_DIR}\"))\n",
    "# Airline Data    \n",
    "df_flights1 = spark.read.parquet(f\"dbfs:/mnt/mids-w261/datasets_final_project_2022/parquet_airlines_data/\")\n",
    "# Weather data\n",
    "df_weather1 = spark.read.parquet(f\"dbfs:/mnt/mids-w261/datasets_final_project_2022/parquet_weather_data/\")\n",
    "# Stations data      \n",
    "df_stations = spark.read.parquet(f\"dbfs:/mnt/mids-w261/datasets_final_project_2022/stations_data/stations_with_neighbors.parquet/\")\n",
    "# OTPW\n",
    "df_otpw = spark.read.parquet(f\"dbfs:/FileStore/Group_4_3/Data/Pipeline_Output/OTPW_60M_PARQUET\")"
   ]
  },
  {
   "cell_type": "code",
   "execution_count": 0,
   "metadata": {
    "application/vnd.databricks.v1+cell": {
     "cellMetadata": {
      "byteLimit": 2048000,
      "rowLimit": 10000
     },
     "inputWidgets": {},
     "nuid": "4e551ab1-17b0-44fc-86b3-d4d9764e53a7",
     "showTitle": false,
     "tableResultSettingsMap": {},
     "title": ""
    }
   },
   "outputs": [
    {
     "output_type": "stream",
     "name": "stdout",
     "output_type": "stream",
     "text": [
      "✅ Accuracy: 0.8936\n\uD83C\uDFAF F1 Score: 0.8464\n\uD83D\uDD01 Recall: 0.8936\n\uD83D\uDCC9 MAE: 0.1064\n"
     ]
    }
   ],
   "source": [
    "from pyspark.sql.functions import col, when\n",
    "from pyspark.ml.feature import VectorAssembler, StandardScaler\n",
    "from pyspark.ml.classification import MultilayerPerceptronClassifier\n",
    "from pyspark.ml import Pipeline\n",
    "from pyspark.ml.evaluation import MulticlassClassificationEvaluator, RegressionEvaluator\n",
    "\n",
    "# Step 1: Create binary label column (1 = delayed > 15 min)\n",
    "df_otpw_class = df_otpw.withColumn(\"DEP_DELAY_BIN\", when(col(\"DEP_DELAY\") > 15, 1).otherwise(0))\n",
    "\n",
    "# Step 2: Define numeric input features\n",
    "numeric_features = [\n",
    "    'QUARTER', 'MONTH', 'DAY_OF_MONTH', 'DAY_OF_WEEK', 'CRS_ELAPSED_TIME', 'DISTANCE',\n",
    "    'ELEVATION', 'HourlyDryBulbTemperature', 'HourlyPrecipitation', 'HourlySeaLevelPressure',\n",
    "    'HourlyVisibility', 'HourlyWindGustSpeed', 'HourlyWindSpeed',\n",
    "    'ORIGIN_BETWEENNESS', 'ORIGIN_DEGREE', 'ORIGIN_CLOSENESS',\n",
    "    'DEST_BETWEENNESS', 'DEST_DEGREE', 'DEST_CLOSENESS',\n",
    "    'PREV_FLIGHT_FLAG', 'CRS_DEP_TIME_MINUTES', 'TIME_BETWEEN_ARR_AND_SCHEDULED_DEP',\n",
    "    'PREV_DEP_DELAY', 'CRS_TIME_X_DIST', 'ELEV_X_TEMP',\n",
    "    'UNIQUE_ORIGINS', 'NUM_WITHIN_100_MILES', 'HOLIDAY_WITHIN_3D',\n",
    "    'used_days_so_far', 'calendar_days_so_far', 'tail_num_use'\n",
    "]\n",
    "\n",
    "# Step 3: Cast all to double\n",
    "for col_name in numeric_features:\n",
    "    df_otpw_class = df_otpw_class.withColumn(col_name, col(col_name).cast(\"double\"))\n",
    "\n",
    "# Step 4: Drop rows with nulls in features or label\n",
    "df_otpw_class = df_otpw_class.dropna(subset=numeric_features + [\"DEP_DELAY_BIN\"])\n",
    "\n",
    "# Step 5: Assemble and scale features\n",
    "assembler = VectorAssembler(inputCols=numeric_features, outputCol=\"features_unscaled\")\n",
    "scaler = StandardScaler(inputCol=\"features_unscaled\", outputCol=\"features\", withMean=True, withStd=True)\n",
    "\n",
    "# Step 6: Define MLP architecture\n",
    "input_dim = len(numeric_features)\n",
    "layers = [input_dim, 64, 32, 2]  # 2 output classes (binary)\n",
    "\n",
    "# Step 7: MLP Classifier\n",
    "mlp = MultilayerPerceptronClassifier(\n",
    "    featuresCol=\"features\",\n",
    "    labelCol=\"DEP_DELAY_BIN\",\n",
    "    predictionCol=\"prediction\",\n",
    "    layers=layers,\n",
    "    maxIter=50,\n",
    "    blockSize=128,\n",
    "    seed=42\n",
    ")\n",
    "\n",
    "# Step 8: Build Pipeline\n",
    "pipeline = Pipeline(stages=[assembler, scaler, mlp])\n",
    "\n",
    "# Step 9: Train/test split\n",
    "train, test = df_otpw_class.randomSplit([0.8, 0.2], seed=42)\n",
    "\n",
    "# Step 10: Train model\n",
    "model = pipeline.fit(train)\n",
    "\n",
    "# Step 11: Predict\n",
    "predictions = model.transform(test)\n",
    "\n",
    "# === Evaluation Metrics ===\n",
    "eval_accuracy = MulticlassClassificationEvaluator(labelCol=\"DEP_DELAY_BIN\", predictionCol=\"prediction\", metricName=\"accuracy\")\n",
    "eval_f1 = MulticlassClassificationEvaluator(labelCol=\"DEP_DELAY_BIN\", predictionCol=\"prediction\", metricName=\"f1\")\n",
    "eval_recall = MulticlassClassificationEvaluator(labelCol=\"DEP_DELAY_BIN\", predictionCol=\"prediction\", metricName=\"weightedRecall\")\n",
    "\n",
    "# MAE (using RegressionEvaluator — works with classification if treated as numeric)\n",
    "eval_mae = RegressionEvaluator(labelCol=\"DEP_DELAY_BIN\", predictionCol=\"prediction\", metricName=\"mae\")\n",
    "\n",
    "# === Results ===\n",
    "accuracy = eval_accuracy.evaluate(predictions)\n",
    "f1 = eval_f1.evaluate(predictions)\n",
    "recall = eval_recall.evaluate(predictions)\n",
    "mae = eval_mae.evaluate(predictions)\n",
    "\n",
    "print(f\"✅ Accuracy: {accuracy:.4f}\")\n",
    "print(f\"\uD83C\uDFAF F1 Score: {f1:.4f}\")\n",
    "print(f\"\uD83D\uDD01 Recall: {recall:.4f}\")\n",
    "print(f\"\uD83D\uDCC9 MAE: {mae:.4f}\")\n"
   ]
  },
  {
   "cell_type": "code",
   "execution_count": 0,
   "metadata": {
    "application/vnd.databricks.v1+cell": {
     "cellMetadata": {
      "byteLimit": 2048000,
      "rowLimit": 10000
     },
     "inputWidgets": {},
     "nuid": "07e18fe7-93d2-44af-a242-be3205f462e2",
     "showTitle": false,
     "tableResultSettingsMap": {},
     "title": ""
    }
   },
   "outputs": [
    {
     "output_type": "display_data",
     "data": {
      "image/png": "[encoded data removed]",
      "text/plain": [
       "<Figure size 600x500 with 2 Axes>"
      ]
     },
     "metadata": {},
     "output_type": "display_data"
    }
   ],
   "source": [
    "import pandas as pd\n",
    "import matplotlib.pyplot as plt\n",
    "import seaborn as sns\n",
    "\n",
    "# Collect predictions and labels to Pandas\n",
    "preds_pd = predictions.select(\"DEP_DELAY_BIN\", \"prediction\").toPandas()\n",
    "\n",
    "# Build confusion matrix\n",
    "from sklearn.metrics import confusion_matrix, ConfusionMatrixDisplay\n",
    "\n",
    "cm = confusion_matrix(preds_pd[\"DEP_DELAY_BIN\"], preds_pd[\"prediction\"])\n",
    "disp = ConfusionMatrixDisplay(confusion_matrix=cm, display_labels=[\"On-Time (0)\", \"Delayed (1)\"])\n",
    "\n",
    "# Plot\n",
    "fig, ax = plt.subplots(figsize=(6, 5))\n",
    "disp.plot(cmap=\"Blues\", ax=ax)\n",
    "plt.title(\"MLP Classifier Confusion Matrix\")\n",
    "plt.grid(False)\n",
    "plt.show()\n"
   ]
  },
  {
   "cell_type": "code",
   "execution_count": 0,
   "metadata": {
    "application/vnd.databricks.v1+cell": {
     "cellMetadata": {
      "byteLimit": 2048000,
      "rowLimit": 10000
     },
     "inputWidgets": {},
     "nuid": "dbe18934-c40f-4ccd-ba30-25a154c9d951",
     "showTitle": false,
     "tableResultSettingsMap": {},
     "title": ""
    }
   },
   "outputs": [
    {
     "output_type": "display_data",
     "data": {
      "image/png": "[encoded data removed]",
      "text/plain": [
       "<Figure size 600x400 with 1 Axes>"
      ]
     },
     "metadata": {},
     "output_type": "display_data"
    }
   ],
   "source": [
    "from sklearn.metrics import roc_curve, precision_recall_curve, auc\n",
    "\n",
    "# Only possible if using probabilityCol from another classifier like LogisticRegression\n",
    "preds_proba = predictions.select(\"DEP_DELAY_BIN\", \"probability\").toPandas()\n",
    "preds_proba[\"proba_delayed\"] = preds_proba[\"probability\"].apply(lambda x: x[1])\n",
    "\n",
    "# ROC Curve\n",
    "fpr, tpr, _ = roc_curve(preds_proba[\"DEP_DELAY_BIN\"], preds_proba[\"proba_delayed\"])\n",
    "roc_auc = auc(fpr, tpr)\n",
    "\n",
    "plt.figure(figsize=(6, 4))\n",
    "plt.plot(fpr, tpr, label=f\"ROC Curve (AUC = {roc_auc:.2f})\")\n",
    "plt.plot([0, 1], [0, 1], \"k--\")\n",
    "plt.xlabel(\"False Positive Rate\")\n",
    "plt.ylabel(\"True Positive Rate\")\n",
    "plt.title(\"ROC Curve for MLP Classifier\")\n",
    "plt.legend()\n",
    "plt.grid(True)\n",
    "plt.show()\n"
   ]
  },
  {
   "cell_type": "markdown",
   "metadata": {
    "application/vnd.databricks.v1+cell": {
     "cellMetadata": {},
     "inputWidgets": {},
     "nuid": "668f31ec-8ecc-4f4b-8e6a-7da67f81587e",
     "showTitle": false,
     "tableResultSettingsMap": {},
     "title": ""
    }
   },
   "source": [
    "# Extra Credit For Deep Learning (Keras on Subset bc Entire DF Will cause it to Crash)"
   ]
  },
  {
   "cell_type": "code",
   "execution_count": 0,
   "metadata": {
    "application/vnd.databricks.v1+cell": {
     "cellMetadata": {
      "byteLimit": 2048000,
      "rowLimit": 10000
     },
     "inputWidgets": {},
     "nuid": "aa12b9af-0f17-4181-827f-199d8bfbb9cb",
     "showTitle": false,
     "tableResultSettingsMap": {},
     "title": ""
    }
   },
   "outputs": [
    {
     "output_type": "stream",
     "name": "stderr",
     "output_type": "stream",
     "text": [
      "/databricks/python/lib/python3.12/site-packages/keras/src/layers/core/dense.py:87: UserWarning: Do not pass an `input_shape`/`input_dim` argument to a layer. When using Sequential models, prefer using an `Input(shape)` object as the first layer in the model instead.\n  super().__init__(activity_regularizer=activity_regularizer, **kwargs)\n"
     ]
    },
    {
     "output_type": "stream",
     "name": "stdout",
     "output_type": "stream",
     "text": [
      "Epoch 1/10\n\r\u001B[1m 1/45\u001B[0m \u001B[37m━━━━━━━━━━━━━━━━━━━━\u001B[0m \u001B[1m56s\u001B[0m 1s/step - accuracy: 0.7969 - loss: 0.5334 - precision: 0.0000e+00 - recall: 0.0000e+00\b\b\b\b\b\b\b\b\b\b\b\b\b\b\b\b\b\b\b\b\b\b\b\b\b\b\b\b\b\b\b\b\b\b\b\b\b\b\b\b\b\b\b\b\b\b\b\b\b\b\b\b\b\b\b\b\b\b\b\b\b\b\b\b\b\b\b\b\b\b\b\b\b\b\b\b\b\b\b\b\b\b\b\b\b\b\b\b\b\b\b\b\b\b\b\b\b\b\b\b\b\b\b\b\b\b\b\b\b\b\b\b\b\b\b\b\b\r\u001B[1m31/45\u001B[0m \u001B[32m━━━━━━━━━━━━━\u001B[0m\u001B[37m━━━━━━━\u001B[0m \u001B[1m0s\u001B[0m 2ms/step - accuracy: 0.8895 - loss: 0.3991 - precision: 0.0000e+00 - recall: 0.0000e+00\b\b\b\b\b\b\b\b\b\b\b\b\b\b\b\b\b\b\b\b\b\b\b\b\b\b\b\b\b\b\b\b\b\b\b\b\b\b\b\b\b\b\b\b\b\b\b\b\b\b\b\b\b\b\b\b\b\b\b\b\b\b\b\b\b\b\b\b\b\b\b\b\b\b\b\b\b\b\b\b\b\b\b\b\b\b\b\b\b\b\b\b\b\b\b\b\b\b\b\b\b\b\b\b\b\b\b\b\b\b\b\b\b\b\b\b\b\r\u001B[1m45/45\u001B[0m \u001B[32m━━━━━━━━━━━━━━━━━━━━\u001B[0m\u001B[37m\u001B[0m \u001B[1m2s\u001B[0m 10ms/step - accuracy: 0.8924 - loss: 0.3840 - precision: 0.0000e+00 - recall: 0.0000e+00 - val_accuracy: 0.8911 - val_loss: 0.3365 - val_precision: 0.0000e+00 - val_recall: 0.0000e+00\nEpoch 2/10\n\r\u001B[1m 1/45\u001B[0m \u001B[37m━━━━━━━━━━━━━━━━━━━━\u001B[0m \u001B[1m0s\u001B[0m 17ms/step - accuracy: 0.9219 - loss: 0.2728 - precision: 0.0000e+00 - recall: 0.0000e+00\b\b\b\b\b\b\b\b\b\b\b\b\b\b\b\b\b\b\b\b\b\b\b\b\b\b\b\b\b\b\b\b\b\b\b\b\b\b\b\b\b\b\b\b\b\b\b\b\b\b\b\b\b\b\b\b\b\b\b\b\b\b\b\b\b\b\b\b\b\b\b\b\b\b\b\b\b\b\b\b\b\b\b\b\b\b\b\b\b\b\b\b\b\b\b\b\b\b\b\b\b\b\b\b\b\b\b\b\b\b\b\b\b\b\b\b\b\b\r\u001B[1m33/45\u001B[0m \u001B[32m━━━━━━━━━━━━━━\u001B[0m\u001B[37m━━━━━━\u001B[0m \u001B[1m0s\u001B[0m 2ms/step - accuracy: 0.9024 - loss: 0.2988 - precision: 0.0909 - recall: 4.2956e-04     \b\b\b\b\b\b\b\b\b\b\b\b\b\b\b\b\b\b\b\b\b\b\b\b\b\b\b\b\b\b\b\b\b\b\b\b\b\b\b\b\b\b\b\b\b\b\b\b\b\b\b\b\b\b\b\b\b\b\b\b\b\b\b\b\b\b\b\b\b\b\b\b\b\b\b\b\b\b\b\b\b\b\b\b\b\b\b\b\b\b\b\b\b\b\b\b\b\b\b\b\b\b\b\b\b\b\b\b\b\b\b\b\b\r\u001B[1m45/45\u001B[0m \u001B[32m━━━━━━━━━━━━━━━━━━━━\u001B[0m\u001B[37m\u001B[0m \u001B[1m0s\u001B[0m 3ms/step - accuracy: 0.9013 - loss: 0.3016 - precision: 0.3478 - recall: 0.0024 - val_accuracy: 0.8925 - val_loss: 0.3267 - val_precision: 1.0000 - val_recall: 0.0130\nEpoch 3/10\n\r\u001B[1m 1/45\u001B[0m \u001B[37m━━━━━━━━━━━━━━━━━━━━\u001B[0m \u001B[1m0s\u001B[0m 19ms/step - accuracy: 0.8750 - loss: 0.3786 - precision: 0.0000e+00 - recall: 0.0000e+00\b\b\b\b\b\b\b\b\b\b\b\b\b\b\b\b\b\b\b\b\b\b\b\b\b\b\b\b\b\b\b\b\b\b\b\b\b\b\b\b\b\b\b\b\b\b\b\b\b\b\b\b\b\b\b\b\b\b\b\b\b\b\b\b\b\b\b\b\b\b\b\b\b\b\b\b\b\b\b\b\b\b\b\b\b\b\b\b\b\b\b\b\b\b\b\b\b\b\b\b\b\b\b\b\b\b\b\b\b\b\b\b\b\b\b\b\b\b\r\u001B[1m36/45\u001B[0m \u001B[32m━━━━━━━━━━━━━━━━\u001B[0m\u001B[37m━━━━\u001B[0m \u001B[1m0s\u001B[0m 1ms/step - accuracy: 0.8882 - loss: 0.3196 - precision: 0.3176 - recall: 0.0071         \b\b\b\b\b\b\b\b\b\b\b\b\b\b\b\b\b\b\b\b\b\b\b\b\b\b\b\b\b\b\b\b\b\b\b\b\b\b\b\b\b\b\b\b\b\b\b\b\b\b\b\b\b\b\b\b\b\b\b\b\b\b\b\b\b\b\b\b\b\b\b\b\b\b\b\b\b\b\b\b\b\b\b\b\b\b\b\b\b\b\b\b\b\b\b\b\b\b\b\b\b\b\b\b\b\b\b\b\b\r\u001B[1m45/45\u001B[0m \u001B[32m━━━━━━━━━━━━━━━━━━━━\u001B[0m\u001B[37m\u001B[0m \u001B[1m0s\u001B[0m 3ms/step - accuracy: 0.8894 - loss: 0.3167 - precision: 0.3266 - recall: 0.0082 - val_accuracy: 0.8953 - val_loss: 0.3252 - val_precision: 1.0000 - val_recall: 0.0390\nEpoch 4/10\n\r\u001B[1m 1/45\u001B[0m \u001B[37m━━━━━━━━━━━━━━━━━━━━\u001B[0m \u001B[1m0s\u001B[0m 17ms/step - accuracy: 0.8281 - loss: 0.4291 - precision: 0.0000e+00 - recall: 0.0000e+00\b\b\b\b\b\b\b\b\b\b\b\b\b\b\b\b\b\b\b\b\b\b\b\b\b\b\b\b\b\b\b\b\b\b\b\b\b\b\b\b\b\b\b\b\b\b\b\b\b\b\b\b\b\b\b\b\b\b\b\b\b\b\b\b\b\b\b\b\b\b\b\b\b\b\b\b\b\b\b\b\b\b\b\b\b\b\b\b\b\b\b\b\b\b\b\b\b\b\b\b\b\b\b\b\b\b\b\b\b\b\b\b\b\b\b\b\b\b\r\u001B[1m36/45\u001B[0m \u001B[32m━━━━━━━━━━━━━━━━\u001B[0m\u001B[37m━━━━\u001B[0m \u001B[1m0s\u001B[0m 1ms/step - accuracy: 0.8972 - loss: 0.2930 - precision: 0.3850 - recall: 0.0078         \b\b\b\b\b\b\b\b\b\b\b\b\b\b\b\b\b\b\b\b\b\b\b\b\b\b\b\b\b\b\b\b\b\b\b\b\b\b\b\b\b\b\b\b\b\b\b\b\b\b\b\b\b\b\b\b\b\b\b\b\b\b\b\b\b\b\b\b\b\b\b\b\b\b\b\b\b\b\b\b\b\b\b\b\b\b\b\b\b\b\b\b\b\b\b\b\b\b\b\b\b\b\b\b\b\b\b\b\b\r\u001B[1m45/45\u001B[0m \u001B[32m━━━━━━━━━━━━━━━━━━━━\u001B[0m\u001B[37m\u001B[0m \u001B[1m0s\u001B[0m 3ms/step - accuracy: 0.8976 - loss: 0.2924 - precision: 0.4301 - recall: 0.0114 - val_accuracy: 0.8939 - val_loss: 0.3243 - val_precision: 0.7500 - val_recall: 0.0390\nEpoch 5/10\n\r\u001B[1m 1/45\u001B[0m \u001B[37m━━━━━━━━━━━━━━━━━━━━\u001B[0m \u001B[1m0s\u001B[0m 18ms/step - accuracy: 0.8906 - loss: 0.3007 - precision: 0.0000e+00 - recall: 0.0000e+00\b\b\b\b\b\b\b\b\b\b\b\b\b\b\b\b\b\b\b\b\b\b\b\b\b\b\b\b\b\b\b\b\b\b\b\b\b\b\b\b\b\b\b\b\b\b\b\b\b\b\b\b\b\b\b\b\b\b\b\b\b\b\b\b\b\b\b\b\b\b\b\b\b\b\b\b\b\b\b\b\b\b\b\b\b\b\b\b\b\b\b\b\b\b\b\b\b\b\b\b\b\b\b\b\b\b\b\b\b\b\b\b\b\b\b\b\b\b\r\u001B[1m37/45\u001B[0m \u001B[32m━━━━━━━━━━━━━━━━\u001B[0m\u001B[37m━━━━\u001B[0m \u001B[1m0s\u001B[0m 1ms/step - accuracy: 0.9062 - loss: 0.2761 - precision: 0.8887 - recall: 0.0611         \b\b\b\b\b\b\b\b\b\b\b\b\b\b\b\b\b\b\b\b\b\b\b\b\b\b\b\b\b\b\b\b\b\b\b\b\b\b\b\b\b\b\b\b\b\b\b\b\b\b\b\b\b\b\b\b\b\b\b\b\b\b\b\b\b\b\b\b\b\b\b\b\b\b\b\b\b\b\b\b\b\b\b\b\b\b\b\b\b\b\b\b\b\b\b\b\b\b\b\b\b\b\b\b\b\b\b\b\b\r\u001B[1m45/45\u001B[0m \u001B[32m━━━━━━━━━━━━━━━━━━━━\u001B[0m\u001B[37m\u001B[0m \u001B[1m0s\u001B[0m 3ms/step - accuracy: 0.9050 - loss: 0.2779 - precision: 0.8576 - recall: 0.0575 - val_accuracy: 0.8925 - val_loss: 0.3240 - val_precision: 0.6000 - val_recall: 0.0390\nEpoch 6/10\n\r\u001B[1m 1/45\u001B[0m \u001B[37m━━━━━━━━━━━━━━━━━━━━\u001B[0m \u001B[1m0s\u001B[0m 17ms/step - accuracy: 0.8906 - loss: 0.2624 - precision: 0.0000e+00 - recall: 0.0000e+00\b\b\b\b\b\b\b\b\b\b\b\b\b\b\b\b\b\b\b\b\b\b\b\b\b\b\b\b\b\b\b\b\b\b\b\b\b\b\b\b\b\b\b\b\b\b\b\b\b\b\b\b\b\b\b\b\b\b\b\b\b\b\b\b\b\b\b\b\b\b\b\b\b\b\b\b\b\b\b\b\b\b\b\b\b\b\b\b\b\b\b\b\b\b\b\b\b\b\b\b\b\b\b\b\b\b\b\b\b\b\b\b\b\b\b\b\b\b\r\u001B[1m37/45\u001B[0m \u001B[32m━━━━━━━━━━━━━━━━\u001B[0m\u001B[37m━━━━\u001B[0m \u001B[1m0s\u001B[0m 1ms/step - accuracy: 0.9064 - loss: 0.2729 - precision: 0.5639 - recall: 0.0552         \b\b\b\b\b\b\b\b\b\b\b\b\b\b\b\b\b\b\b\b\b\b\b\b\b\b\b\b\b\b\b\b\b\b\b\b\b\b\b\b\b\b\b\b\b\b\b\b\b\b\b\b\b\b\b\b\b\b\b\b\b\b\b\b\b\b\b\b\b\b\b\b\b\b\b\b\b\b\b\b\b\b\b\b\b\b\b\b\b\b\b\b\b\b\b\b\b\b\b\b\b\b\b\b\b\b\b\b\b\r\u001B[1m45/45\u001B[0m \u001B[32m━━━━━━━━━━━━━━━━━━━━\u001B[0m\u001B[37m\u001B[0m \u001B[1m0s\u001B[0m 3ms/step - accuracy: 0.9050 - loss: 0.2749 - precision: 0.5831 - recall: 0.0552 - val_accuracy: 0.8911 - val_loss: 0.3238 - val_precision: 0.5000 - val_recall: 0.0390\nEpoch 7/10\n\r\u001B[1m 1/45\u001B[0m \u001B[37m━━━━━━━━━━━━━━━━━━━━\u001B[0m \u001B[1m0s\u001B[0m 18ms/step - accuracy: 0.9062 - loss: 0.2558 - precision: 1.0000 - recall: 0.2500\b\b\b\b\b\b\b\b\b\b\b\b\b\b\b\b\b\b\b\b\b\b\b\b\b\b\b\b\b\b\b\b\b\b\b\b\b\b\b\b\b\b\b\b\b\b\b\b\b\b\b\b\b\b\b\b\b\b\b\b\b\b\b\b\b\b\b\b\b\b\b\b\b\b\b\b\b\b\b\b\b\b\b\b\b\b\b\b\b\b\b\b\b\b\b\b\b\b\b\b\b\b\b\b\b\b\b\b\b\b\r\u001B[1m36/45\u001B[0m \u001B[32m━━━━━━━━━━━━━━━━\u001B[0m\u001B[37m━━━━\u001B[0m \u001B[1m0s\u001B[0m 1ms/step - accuracy: 0.8973 - loss: 0.2803 - precision: 0.7052 - recall: 0.0748 \b\b\b\b\b\b\b\b\b\b\b\b\b\b\b\b\b\b\b\b\b\b\b\b\b\b\b\b\b\b\b\b\b\b\b\b\b\b\b\b\b\b\b\b\b\b\b\b\b\b\b\b\b\b\b\b\b\b\b\b\b\b\b\b\b\b\b\b\b\b\b\b\b\b\b\b\b\b\b\b\b\b\b\b\b\b\b\b\b\b\b\b\b\b\b\b\b\b\b\b\b\b\b\b\b\b\b\b\b\r\u001B[1m45/45\u001B[0m \u001B[32m━━━━━━━━━━━━━━━━━━━━\u001B[0m\u001B[37m\u001B[0m \u001B[1m0s\u001B[0m 3ms/step - accuracy: 0.8977 - loss: 0.2798 - precision: 0.7113 - recall: 0.0695 - val_accuracy: 0.8911 - val_loss: 0.3254 - val_precision: 0.5000 - val_recall: 0.0390\nEpoch 8/10\n\r\u001B[1m 1/45\u001B[0m \u001B[37m━━━━━━━━━━━━━━━━━━━━\u001B[0m \u001B[1m0s\u001B[0m 18ms/step - accuracy: 0.9375 - loss: 0.2245 - precision: 1.0000 - recall: 0.2000\b\b\b\b\b\b\b\b\b\b\b\b\b\b\b\b\b\b\b\b\b\b\b\b\b\b\b\b\b\b\b\b\b\b\b\b\b\b\b\b\b\b\b\b\b\b\b\b\b\b\b\b\b\b\b\b\b\b\b\b\b\b\b\b\b\b\b\b\b\b\b\b\b\b\b\b\b\b\b\b\b\b\b\b\b\b\b\b\b\b\b\b\b\b\b\b\b\b\b\b\b\b\b\b\b\b\b\b\b\b\r\u001B[1m36/45\u001B[0m \u001B[32m━━━━━━━━━━━━━━━━\u001B[0m\u001B[37m━━━━\u001B[0m \u001B[1m0s\u001B[0m 1ms/step - accuracy: 0.9116 - loss: 0.2566 - precision: 0.8769 - recall: 0.0928 \b\b\b\b\b\b\b\b\b\b\b\b\b\b\b\b\b\b\b\b\b\b\b\b\b\b\b\b\b\b\b\b\b\b\b\b\b\b\b\b\b\b\b\b\b\b\b\b\b\b\b\b\b\b\b\b\b\b\b\b\b\b\b\b\b\b\b\b\b\b\b\b\b\b\b\b\b\b\b\b\b\b\b\b\b\b\b\b\b\b\b\b\b\b\b\b\b\b\b\b\b\b\b\b\b\b\b\b\b\r\u001B[1m45/45\u001B[0m \u001B[32m━━━━━━━━━━━━━━━━━━━━\u001B[0m\u001B[37m\u001B[0m \u001B[1m0s\u001B[0m 3ms/step - accuracy: 0.9093 - loss: 0.2598 - precision: 0.8554 - recall: 0.0850 - val_accuracy: 0.8939 - val_loss: 0.3259 - val_precision: 0.6667 - val_recall: 0.0519\nEpoch 9/10\n\r\u001B[1m 1/45\u001B[0m \u001B[37m━━━━━━━━━━━━━━━━━━━━\u001B[0m \u001B[1m0s\u001B[0m 17ms/step - accuracy: 0.8594 - loss: 0.3521 - precision: 0.0000e+00 - recall: 0.0000e+00\b\b\b\b\b\b\b\b\b\b\b\b\b\b\b\b\b\b\b\b\b\b\b\b\b\b\b\b\b\b\b\b\b\b\b\b\b\b\b\b\b\b\b\b\b\b\b\b\b\b\b\b\b\b\b\b\b\b\b\b\b\b\b\b\b\b\b\b\b\b\b\b\b\b\b\b\b\b\b\b\b\b\b\b\b\b\b\b\b\b\b\b\b\b\b\b\b\b\b\b\b\b\b\b\b\b\b\b\b\b\b\b\b\b\b\b\b\b\r\u001B[1m37/45\u001B[0m \u001B[32m━━━━━━━━━━━━━━━━\u001B[0m\u001B[37m━━━━\u001B[0m \u001B[1m0s\u001B[0m 1ms/step - accuracy: 0.8980 - loss: 0.2688 - precision: 0.7117 - recall: 0.0605         \b\b\b\b\b\b\b\b\b\b\b\b\b\b\b\b\b\b\b\b\b\b\b\b\b\b\b\b\b\b\b\b\b\b\b\b\b\b\b\b\b\b\b\b\b\b\b\b\b\b\b\b\b\b\b\b\b\b\b\b\b\b\b\b\b\b\b\b\b\b\b\b\b\b\b\b\b\b\b\b\b\b\b\b\b\b\b\b\b\b\b\b\b\b\b\b\b\b\b\b\b\b\b\b\b\b\b\b\b\r\u001B[1m45/45\u001B[0m \u001B[32m━━━━━━━━━━━━━━━━━━━━\u001B[0m\u001B[37m\u001B[0m \u001B[1m0s\u001B[0m 3ms/step - accuracy: 0.8986 - loss: 0.2677 - precision: 0.7175 - recall: 0.0626 - val_accuracy: 0.8939 - val_loss: 0.3239 - val_precision: 0.6667 - val_recall: 0.0519\nEpoch 10/10\n\r\u001B[1m 1/45\u001B[0m \u001B[37m━━━━━━━━━━━━━━━━━━━━\u001B[0m \u001B[1m0s\u001B[0m 17ms/step - accuracy: 0.9688 - loss: 0.1248 - precision: 0.0000e+00 - recall: 0.0000e+00\b\b\b\b\b\b\b\b\b\b\b\b\b\b\b\b\b\b\b\b\b\b\b\b\b\b\b\b\b\b\b\b\b\b\b\b\b\b\b\b\b\b\b\b\b\b\b\b\b\b\b\b\b\b\b\b\b\b\b\b\b\b\b\b\b\b\b\b\b\b\b\b\b\b\b\b\b\b\b\b\b\b\b\b\b\b\b\b\b\b\b\b\b\b\b\b\b\b\b\b\b\b\b\b\b\b\b\b\b\b\b\b\b\b\b\b\b\b\r\u001B[1m37/45\u001B[0m \u001B[32m━━━━━━━━━━━━━━━━\u001B[0m\u001B[37m━━━━\u001B[0m \u001B[1m0s\u001B[0m 1ms/step - accuracy: 0.9175 - loss: 0.2327 - precision: 0.7008 - recall: 0.0987         \b\b\b\b\b\b\b\b\b\b\b\b\b\b\b\b\b\b\b\b\b\b\b\b\b\b\b\b\b\b\b\b\b\b\b\b\b\b\b\b\b\b\b\b\b\b\b\b\b\b\b\b\b\b\b\b\b\b\b\b\b\b\b\b\b\b\b\b\b\b\b\b\b\b\b\b\b\b\b\b\b\b\b\b\b\b\b\b\b\b\b\b\b\b\b\b\b\b\b\b\b\b\b\b\b\b\b\b\b\r\u001B[1m45/45\u001B[0m \u001B[32m━━━━━━━━━━━━━━━━━━━━\u001B[0m\u001B[37m\u001B[0m \u001B[1m0s\u001B[0m 3ms/step - accuracy: 0.9155 - loss: 0.2373 - precision: 0.7268 - recall: 0.1012 - val_accuracy: 0.8939 - val_loss: 0.3242 - val_precision: 0.6667 - val_recall: 0.0519\n\r\u001B[1m 1/28\u001B[0m \u001B[37m━━━━━━━━━━━━━━━━━━━━\u001B[0m \u001B[1m0s\u001B[0m 18ms/step - accuracy: 0.8750 - loss: 0.3643 - precision: 0.0000e+00 - recall: 0.0000e+00\b\b\b\b\b\b\b\b\b\b\b\b\b\b\b\b\b\b\b\b\b\b\b\b\b\b\b\b\b\b\b\b\b\b\b\b\b\b\b\b\b\b\b\b\b\b\b\b\b\b\b\b\b\b\b\b\b\b\b\b\b\b\b\b\b\b\b\b\b\b\b\b\b\b\b\b\b\b\b\b\b\b\b\b\b\b\b\b\b\b\b\b\b\b\b\b\b\b\b\b\b\b\b\b\b\b\b\b\b\b\b\b\b\b\b\b\b\b\r\u001B[1m28/28\u001B[0m \u001B[32m━━━━━━━━━━━━━━━━━━━━\u001B[0m\u001B[37m\u001B[0m \u001B[1m0s\u001B[0m 2ms/step - accuracy: 0.8885 - loss: 0.3453 - precision: 0.0000e+00 - recall: 0.0000e+00 \n\n✅ Test Accuracy:  0.8969\n\uD83D\uDD01 Test Recall:    0.0000\n\uD83C\uDFAF Test Precision: 0.0000\n"
     ]
    }
   ],
   "source": [
    "import pandas as pd\n",
    "import numpy as np\n",
    "from sklearn.model_selection import train_test_split\n",
    "from sklearn.preprocessing import StandardScaler\n",
    "from tensorflow.keras.models import Sequential\n",
    "from tensorflow.keras.layers import Dense\n",
    "from tensorflow.keras.metrics import Recall, Precision\n",
    "\n",
    "# Step 1: Sample and collect a manageable subset\n",
    "sampled_df = df_otpw.select(numeric_features + [\"DEP_DELAY\"]).dropna().sample(fraction=0.01, seed=42)\n",
    "pandas_df = sampled_df.toPandas()\n",
    "\n",
    "# Step 2: Convert all numeric features and DEP_DELAY to numeric (handle 'T', '', etc.)\n",
    "for col_name in numeric_features + [\"DEP_DELAY\"]:\n",
    "    pandas_df[col_name] = pd.to_numeric(pandas_df[col_name], errors='coerce')\n",
    "\n",
    "# Step 3: Drop rows with any NaNs in features or target\n",
    "pandas_df = pandas_df.dropna(subset=numeric_features + [\"DEP_DELAY\"])\n",
    "\n",
    "# Step 4: Create binary classification target\n",
    "pandas_df[\"DEP_DELAY_BIN\"] = (pandas_df[\"DEP_DELAY\"] > 15).astype(int)\n",
    "\n",
    "\n",
    "# Step 5: Prepare features and labels\n",
    "X = pandas_df[numeric_features].values\n",
    "y = pandas_df[\"DEP_DELAY_BIN\"].values\n",
    "\n",
    "# Step 6: Train/test split\n",
    "X_train, X_test, y_train, y_test = train_test_split(\n",
    "    X, y, test_size=0.2, random_state=42\n",
    ")\n",
    "\n",
    "# Step 7: Normalize features\n",
    "scaler = StandardScaler()\n",
    "X_train = scaler.fit_transform(X_train)\n",
    "X_test = scaler.transform(X_test)\n",
    "\n",
    "# Step 8: Define Keras MLP model\n",
    "model = Sequential([\n",
    "    Dense(128, activation='relu', input_shape=(X.shape[1],)),\n",
    "    Dense(64, activation='relu'),\n",
    "    Dense(1, activation='sigmoid')  # Binary classification\n",
    "])\n",
    "\n",
    "model.compile(\n",
    "    optimizer='adam',\n",
    "    loss='binary_crossentropy',\n",
    "    metrics=['accuracy', Recall(), Precision()]\n",
    ")\n",
    "\n",
    "# Step 9: Train model\n",
    "model.fit(X_train, y_train, epochs=10, batch_size=64, validation_split=0.2)\n",
    "\n",
    "# Step 10: Evaluate model\n",
    "results = model.evaluate(X_test, y_test)\n",
    "print(f\"\\n✅ Test Accuracy:  {results[1]:.4f}\")\n",
    "print(f\"\uD83D\uDD01 Test Recall:    {results[2]:.4f}\")\n",
    "print(f\"\uD83C\uDFAF Test Precision: {results[3]:.4f}\")\n"
   ]
  },
  {
   "cell_type": "markdown",
   "metadata": {
    "application/vnd.databricks.v1+cell": {
     "cellMetadata": {},
     "inputWidgets": {},
     "nuid": "b0f8863a-979e-4e72-9d39-9d610675cd00",
     "showTitle": false,
     "tableResultSettingsMap": {},
     "title": ""
    }
   },
   "source": [
    "#Imbalance in Delays "
   ]
  },
  {
   "cell_type": "code",
   "execution_count": 0,
   "metadata": {
    "application/vnd.databricks.v1+cell": {
     "cellMetadata": {
      "byteLimit": 2048000,
      "rowLimit": 10000
     },
     "inputWidgets": {},
     "nuid": "6099f421-bbed-4643-9d16-feeeca075fdc",
     "showTitle": false,
     "tableResultSettingsMap": {},
     "title": ""
    }
   },
   "outputs": [
    {
     "output_type": "stream",
     "name": "stderr",
     "output_type": "stream",
     "text": [
      "/databricks/python/lib/python3.12/site-packages/keras/src/layers/core/dense.py:87: UserWarning: Do not pass an `input_shape`/`input_dim` argument to a layer. When using Sequential models, prefer using an `Input(shape)` object as the first layer in the model instead.\n  super().__init__(activity_regularizer=activity_regularizer, **kwargs)\n"
     ]
    },
    {
     "output_type": "stream",
     "name": "stdout",
     "output_type": "stream",
     "text": [
      "Epoch 1/10\n\r\u001B[1m 1/10\u001B[0m \u001B[32m━━\u001B[0m\u001B[37m━━━━━━━━━━━━━━━━━━\u001B[0m \u001B[1m10s\u001B[0m 1s/step - accuracy: 0.4844 - loss: 0.7616 - precision_1: 0.4706 - recall_1: 0.8000\b\b\b\b\b\b\b\b\b\b\b\b\b\b\b\b\b\b\b\b\b\b\b\b\b\b\b\b\b\b\b\b\b\b\b\b\b\b\b\b\b\b\b\b\b\b\b\b\b\b\b\b\b\b\b\b\b\b\b\b\b\b\b\b\b\b\b\b\b\b\b\b\b\b\b\b\b\b\b\b\b\b\b\b\b\b\b\b\b\b\b\b\b\b\b\b\b\b\b\b\b\b\b\b\b\b\b\b\b\b\b\b\b\r\u001B[1m10/10\u001B[0m \u001B[32m━━━━━━━━━━━━━━━━━━━━\u001B[0m\u001B[37m\u001B[0m \u001B[1m2s\u001B[0m 43ms/step - accuracy: 0.5104 - loss: 0.7358 - precision_1: 0.4993 - recall_1: 0.7723 - val_accuracy: 0.5685 - val_loss: 0.6655 - val_precision_1: 0.5455 - val_recall_1: 0.7500\nEpoch 2/10\n\r\u001B[1m 1/10\u001B[0m \u001B[32m━━\u001B[0m\u001B[37m━━━━━━━━━━━━━━━━━━\u001B[0m \u001B[1m0s\u001B[0m 18ms/step - accuracy: 0.5781 - loss: 0.6551 - precision_1: 0.5946 - recall_1: 0.6471\b\b\b\b\b\b\b\b\b\b\b\b\b\b\b\b\b\b\b\b\b\b\b\b\b\b\b\b\b\b\b\b\b\b\b\b\b\b\b\b\b\b\b\b\b\b\b\b\b\b\b\b\b\b\b\b\b\b\b\b\b\b\b\b\b\b\b\b\b\b\b\b\b\b\b\b\b\b\b\b\b\b\b\b\b\b\b\b\b\b\b\b\b\b\b\b\b\b\b\b\b\b\b\b\b\b\b\b\b\b\b\b\b\b\r\u001B[1m10/10\u001B[0m \u001B[32m━━━━━━━━━━━━━━━━━━━━\u001B[0m\u001B[37m\u001B[0m \u001B[1m0s\u001B[0m 8ms/step - accuracy: 0.5769 - loss: 0.6752 - precision_1: 0.5918 - recall_1: 0.6488 - val_accuracy: 0.6164 - val_loss: 0.6577 - val_precision_1: 0.5833 - val_recall_1: 0.7778\nEpoch 3/10\n\r\u001B[1m 1/10\u001B[0m \u001B[32m━━\u001B[0m\u001B[37m━━━━━━━━━━━━━━━━━━\u001B[0m \u001B[1m0s\u001B[0m 17ms/step - accuracy: 0.4844 - loss: 0.6749 - precision_1: 0.5128 - recall_1: 0.5882\b\b\b\b\b\b\b\b\b\b\b\b\b\b\b\b\b\b\b\b\b\b\b\b\b\b\b\b\b\b\b\b\b\b\b\b\b\b\b\b\b\b\b\b\b\b\b\b\b\b\b\b\b\b\b\b\b\b\b\b\b\b\b\b\b\b\b\b\b\b\b\b\b\b\b\b\b\b\b\b\b\b\b\b\b\b\b\b\b\b\b\b\b\b\b\b\b\b\b\b\b\b\b\b\b\b\b\b\b\b\b\b\b\b\r\u001B[1m10/10\u001B[0m \u001B[32m━━━━━━━━━━━━━━━━━━━━\u001B[0m\u001B[37m\u001B[0m \u001B[1m0s\u001B[0m 7ms/step - accuracy: 0.5572 - loss: 0.6724 - precision_1: 0.5591 - recall_1: 0.6145 - val_accuracy: 0.6233 - val_loss: 0.6529 - val_precision_1: 0.5914 - val_recall_1: 0.7639\nEpoch 4/10\n\r\u001B[1m 1/10\u001B[0m \u001B[32m━━\u001B[0m\u001B[37m━━━━━━━━━━━━━━━━━━\u001B[0m \u001B[1m0s\u001B[0m 17ms/step - accuracy: 0.6719 - loss: 0.6396 - precision_1: 0.6429 - recall_1: 0.6207\b\b\b\b\b\b\b\b\b\b\b\b\b\b\b\b\b\b\b\b\b\b\b\b\b\b\b\b\b\b\b\b\b\b\b\b\b\b\b\b\b\b\b\b\b\b\b\b\b\b\b\b\b\b\b\b\b\b\b\b\b\b\b\b\b\b\b\b\b\b\b\b\b\b\b\b\b\b\b\b\b\b\b\b\b\b\b\b\b\b\b\b\b\b\b\b\b\b\b\b\b\b\b\b\b\b\b\b\b\b\b\b\b\b\r\u001B[1m10/10\u001B[0m \u001B[32m━━━━━━━━━━━━━━━━━━━━\u001B[0m\u001B[37m\u001B[0m \u001B[1m0s\u001B[0m 7ms/step - accuracy: 0.6423 - loss: 0.6466 - precision_1: 0.6322 - recall_1: 0.6728 - val_accuracy: 0.5616 - val_loss: 0.6596 - val_precision_1: 0.5377 - val_recall_1: 0.7917\nEpoch 5/10\n\r\u001B[1m 1/10\u001B[0m \u001B[32m━━\u001B[0m\u001B[37m━━━━━━━━━━━━━━━━━━\u001B[0m \u001B[1m0s\u001B[0m 17ms/step - accuracy: 0.6094 - loss: 0.6521 - precision_1: 0.6562 - recall_1: 0.6000\b\b\b\b\b\b\b\b\b\b\b\b\b\b\b\b\b\b\b\b\b\b\b\b\b\b\b\b\b\b\b\b\b\b\b\b\b\b\b\b\b\b\b\b\b\b\b\b\b\b\b\b\b\b\b\b\b\b\b\b\b\b\b\b\b\b\b\b\b\b\b\b\b\b\b\b\b\b\b\b\b\b\b\b\b\b\b\b\b\b\b\b\b\b\b\b\b\b\b\b\b\b\b\b\b\b\b\b\b\b\b\b\b\b\r\u001B[1m10/10\u001B[0m \u001B[32m━━━━━━━━━━━━━━━━━━━━\u001B[0m\u001B[37m\u001B[0m \u001B[1m0s\u001B[0m 7ms/step - accuracy: 0.6381 - loss: 0.6368 - precision_1: 0.6406 - recall_1: 0.7211 - val_accuracy: 0.5753 - val_loss: 0.6605 - val_precision_1: 0.5481 - val_recall_1: 0.7917\nEpoch 6/10\n\r\u001B[1m 1/10\u001B[0m \u001B[32m━━\u001B[0m\u001B[37m━━━━━━━━━━━━━━━━━━\u001B[0m \u001B[1m0s\u001B[0m 17ms/step - accuracy: 0.6094 - loss: 0.6330 - precision_1: 0.4828 - recall_1: 0.5833\b\b\b\b\b\b\b\b\b\b\b\b\b\b\b\b\b\b\b\b\b\b\b\b\b\b\b\b\b\b\b\b\b\b\b\b\b\b\b\b\b\b\b\b\b\b\b\b\b\b\b\b\b\b\b\b\b\b\b\b\b\b\b\b\b\b\b\b\b\b\b\b\b\b\b\b\b\b\b\b\b\b\b\b\b\b\b\b\b\b\b\b\b\b\b\b\b\b\b\b\b\b\b\b\b\b\b\b\b\b\b\b\b\b\r\u001B[1m10/10\u001B[0m \u001B[32m━━━━━━━━━━━━━━━━━━━━\u001B[0m\u001B[37m\u001B[0m \u001B[1m0s\u001B[0m 7ms/step - accuracy: 0.6487 - loss: 0.6250 - precision_1: 0.6132 - recall_1: 0.7345 - val_accuracy: 0.6096 - val_loss: 0.6594 - val_precision_1: 0.5789 - val_recall_1: 0.7639\nEpoch 7/10\n\r\u001B[1m 1/10\u001B[0m \u001B[32m━━\u001B[0m\u001B[37m━━━━━━━━━━━━━━━━━━\u001B[0m \u001B[1m0s\u001B[0m 17ms/step - accuracy: 0.6406 - loss: 0.6464 - precision_1: 0.5385 - recall_1: 0.8077\b\b\b\b\b\b\b\b\b\b\b\b\b\b\b\b\b\b\b\b\b\b\b\b\b\b\b\b\b\b\b\b\b\b\b\b\b\b\b\b\b\b\b\b\b\b\b\b\b\b\b\b\b\b\b\b\b\b\b\b\b\b\b\b\b\b\b\b\b\b\b\b\b\b\b\b\b\b\b\b\b\b\b\b\b\b\b\b\b\b\b\b\b\b\b\b\b\b\b\b\b\b\b\b\b\b\b\b\b\b\b\b\b\b\r\u001B[1m10/10\u001B[0m \u001B[32m━━━━━━━━━━━━━━━━━━━━\u001B[0m\u001B[37m\u001B[0m \u001B[1m0s\u001B[0m 7ms/step - accuracy: 0.6759 - loss: 0.6148 - precision_1: 0.6479 - recall_1: 0.7749 - val_accuracy: 0.6233 - val_loss: 0.6603 - val_precision_1: 0.5914 - val_recall_1: 0.7639\nEpoch 8/10\n\r\u001B[1m 1/10\u001B[0m \u001B[32m━━\u001B[0m\u001B[37m━━━━━━━━━━━━━━━━━━\u001B[0m \u001B[1m0s\u001B[0m 18ms/step - accuracy: 0.5781 - loss: 0.6642 - precision_1: 0.5366 - recall_1: 0.7333\b\b\b\b\b\b\b\b\b\b\b\b\b\b\b\b\b\b\b\b\b\b\b\b\b\b\b\b\b\b\b\b\b\b\b\b\b\b\b\b\b\b\b\b\b\b\b\b\b\b\b\b\b\b\b\b\b\b\b\b\b\b\b\b\b\b\b\b\b\b\b\b\b\b\b\b\b\b\b\b\b\b\b\b\b\b\b\b\b\b\b\b\b\b\b\b\b\b\b\b\b\b\b\b\b\b\b\b\b\b\b\b\b\b\r\u001B[1m10/10\u001B[0m \u001B[32m━━━━━━━━━━━━━━━━━━━━\u001B[0m\u001B[37m\u001B[0m \u001B[1m0s\u001B[0m 7ms/step - accuracy: 0.6690 - loss: 0.6135 - precision_1: 0.6624 - recall_1: 0.7473 - val_accuracy: 0.6301 - val_loss: 0.6568 - val_precision_1: 0.6000 - val_recall_1: 0.7500\nEpoch 9/10\n\r\u001B[1m 1/10\u001B[0m \u001B[32m━━\u001B[0m\u001B[37m━━━━━━━━━━━━━━━━━━\u001B[0m \u001B[1m0s\u001B[0m 19ms/step - accuracy: 0.7031 - loss: 0.5799 - precision_1: 0.7879 - recall_1: 0.6842\b\b\b\b\b\b\b\b\b\b\b\b\b\b\b\b\b\b\b\b\b\b\b\b\b\b\b\b\b\b\b\b\b\b\b\b\b\b\b\b\b\b\b\b\b\b\b\b\b\b\b\b\b\b\b\b\b\b\b\b\b\b\b\b\b\b\b\b\b\b\b\b\b\b\b\b\b\b\b\b\b\b\b\b\b\b\b\b\b\b\b\b\b\b\b\b\b\b\b\b\b\b\b\b\b\b\b\b\b\b\b\b\b\b\r\u001B[1m10/10\u001B[0m \u001B[32m━━━━━━━━━━━━━━━━━━━━\u001B[0m\u001B[37m\u001B[0m \u001B[1m0s\u001B[0m 7ms/step - accuracy: 0.6929 - loss: 0.5912 - precision_1: 0.7197 - recall_1: 0.6987 - val_accuracy: 0.6438 - val_loss: 0.6539 - val_precision_1: 0.6190 - val_recall_1: 0.7222\nEpoch 10/10\n\r\u001B[1m 1/10\u001B[0m \u001B[32m━━\u001B[0m\u001B[37m━━━━━━━━━━━━━━━━━━\u001B[0m \u001B[1m0s\u001B[0m 18ms/step - accuracy: 0.7500 - loss: 0.5474 - precision_1: 0.7667 - recall_1: 0.7188\b\b\b\b\b\b\b\b\b\b\b\b\b\b\b\b\b\b\b\b\b\b\b\b\b\b\b\b\b\b\b\b\b\b\b\b\b\b\b\b\b\b\b\b\b\b\b\b\b\b\b\b\b\b\b\b\b\b\b\b\b\b\b\b\b\b\b\b\b\b\b\b\b\b\b\b\b\b\b\b\b\b\b\b\b\b\b\b\b\b\b\b\b\b\b\b\b\b\b\b\b\b\b\b\b\b\b\b\b\b\b\b\b\b\r\u001B[1m10/10\u001B[0m \u001B[32m━━━━━━━━━━━━━━━━━━━━\u001B[0m\u001B[37m\u001B[0m \u001B[1m0s\u001B[0m 7ms/step - accuracy: 0.7161 - loss: 0.5794 - precision_1: 0.7434 - recall_1: 0.6840 - val_accuracy: 0.6507 - val_loss: 0.6555 - val_precision_1: 0.6207 - val_recall_1: 0.7500\n\r\u001B[1m1/6\u001B[0m \u001B[32m━━━\u001B[0m\u001B[37m━━━━━━━━━━━━━━━━━\u001B[0m \u001B[1m0s\u001B[0m 18ms/step - accuracy: 0.5938 - loss: 0.6712 - precision_1: 0.6667 - recall_1: 0.5556\b\b\b\b\b\b\b\b\b\b\b\b\b\b\b\b\b\b\b\b\b\b\b\b\b\b\b\b\b\b\b\b\b\b\b\b\b\b\b\b\b\b\b\b\b\b\b\b\b\b\b\b\b\b\b\b\b\b\b\b\b\b\b\b\b\b\b\b\b\b\b\b\b\b\b\b\b\b\b\b\b\b\b\b\b\b\b\b\b\b\b\b\b\b\b\b\b\b\b\b\b\b\b\b\b\b\b\b\b\b\b\b\r\u001B[1m6/6\u001B[0m \u001B[32m━━━━━━━━━━━━━━━━━━━━\u001B[0m\u001B[37m\u001B[0m \u001B[1m0s\u001B[0m 5ms/step - accuracy: 0.5872 - loss: 0.6843 - precision_1: 0.5759 - recall_1: 0.5288 \n"
     ]
    },
    {
     "output_type": "stream",
     "name": "stderr",
     "output_type": "stream",
     "text": [
      "/databricks/python/lib/python3.12/site-packages/keras/src/layers/core/dense.py:87: UserWarning: Do not pass an `input_shape`/`input_dim` argument to a layer. When using Sequential models, prefer using an `Input(shape)` object as the first layer in the model instead.\n  super().__init__(activity_regularizer=activity_regularizer, **kwargs)\n"
     ]
    },
    {
     "output_type": "stream",
     "name": "stdout",
     "output_type": "stream",
     "text": [
      "Epoch 1/10\n\r\u001B[1m 1/45\u001B[0m \u001B[37m━━━━━━━━━━━━━━━━━━━━\u001B[0m \u001B[1m52s\u001B[0m 1s/step - accuracy: 0.9219 - loss: 0.4171 - precision_2: 0.0000e+00 - recall_2: 0.0000e+00\b\b\b\b\b\b\b\b\b\b\b\b\b\b\b\b\b\b\b\b\b\b\b\b\b\b\b\b\b\b\b\b\b\b\b\b\b\b\b\b\b\b\b\b\b\b\b\b\b\b\b\b\b\b\b\b\b\b\b\b\b\b\b\b\b\b\b\b\b\b\b\b\b\b\b\b\b\b\b\b\b\b\b\b\b\b\b\b\b\b\b\b\b\b\b\b\b\b\b\b\b\b\b\b\b\b\b\b\b\b\b\b\b\b\b\b\b\b\b\b\b\r\u001B[1m36/45\u001B[0m \u001B[32m━━━━━━━━━━━━━━━━\u001B[0m\u001B[37m━━━━\u001B[0m \u001B[1m0s\u001B[0m 1ms/step - accuracy: 0.8072 - loss: 0.7450 - precision_2: 0.0882 - recall_2: 0.1071        \b\b\b\b\b\b\b\b\b\b\b\b\b\b\b\b\b\b\b\b\b\b\b\b\b\b\b\b\b\b\b\b\b\b\b\b\b\b\b\b\b\b\b\b\b\b\b\b\b\b\b\b\b\b\b\b\b\b\b\b\b\b\b\b\b\b\b\b\b\b\b\b\b\b\b\b\b\b\b\b\b\b\b\b\b\b\b\b\b\b\b\b\b\b\b\b\b\b\b\b\b\b\b\b\b\b\b\b\b\b\b\b\b\r\u001B[1m45/45\u001B[0m \u001B[32m━━━━━━━━━━━━━━━━━━━━\u001B[0m\u001B[37m\u001B[0m \u001B[1m2s\u001B[0m 10ms/step - accuracy: 0.7710 - loss: 0.7407 - precision_2: 0.0911 - recall_2: 0.1522 - val_accuracy: 0.5050 - val_loss: 0.7225 - val_precision_2: 0.1340 - val_recall_2: 0.6494\nEpoch 2/10\n\r\u001B[1m 1/45\u001B[0m \u001B[37m━━━━━━━━━━━━━━━━━━━━\u001B[0m \u001B[1m0s\u001B[0m 19ms/step - accuracy: 0.4688 - loss: 0.6279 - precision_2: 0.0606 - recall_2: 0.4000\b\b\b\b\b\b\b\b\b\b\b\b\b\b\b\b\b\b\b\b\b\b\b\b\b\b\b\b\b\b\b\b\b\b\b\b\b\b\b\b\b\b\b\b\b\b\b\b\b\b\b\b\b\b\b\b\b\b\b\b\b\b\b\b\b\b\b\b\b\b\b\b\b\b\b\b\b\b\b\b\b\b\b\b\b\b\b\b\b\b\b\b\b\b\b\b\b\b\b\b\b\b\b\b\b\b\b\b\b\b\b\b\b\b\r\u001B[1m37/45\u001B[0m \u001B[32m━━━━━━━━━━━━━━━━\u001B[0m\u001B[37m━━━━\u001B[0m \u001B[1m0s\u001B[0m 1ms/step - accuracy: 0.5661 - loss: 0.6439 - precision_2: 0.1307 - recall_2: 0.6179 \b\b\b\b\b\b\b\b\b\b\b\b\b\b\b\b\b\b\b\b\b\b\b\b\b\b\b\b\b\b\b\b\b\b\b\b\b\b\b\b\b\b\b\b\b\b\b\b\b\b\b\b\b\b\b\b\b\b\b\b\b\b\b\b\b\b\b\b\b\b\b\b\b\b\b\b\b\b\b\b\b\b\b\b\b\b\b\b\b\b\b\b\b\b\b\b\b\b\b\b\b\b\b\b\b\b\b\b\b\b\b\b\b\r\u001B[1m45/45\u001B[0m \u001B[32m━━━━━━━━━━━━━━━━━━━━\u001B[0m\u001B[37m\u001B[0m \u001B[1m0s\u001B[0m 3ms/step - accuracy: 0.5784 - loss: 0.6468 - precision_2: 0.1355 - recall_2: 0.6123 - val_accuracy: 0.6139 - val_loss: 0.6765 - val_precision_2: 0.1573 - val_recall_2: 0.5844\nEpoch 3/10\n\r\u001B[1m 1/45\u001B[0m \u001B[37m━━━━━━━━━━━━━━━━━━━━\u001B[0m \u001B[1m0s\u001B[0m 18ms/step - accuracy: 0.6562 - loss: 0.6427 - precision_2: 0.1364 - recall_2: 0.5000\b\b\b\b\b\b\b\b\b\b\b\b\b\b\b\b\b\b\b\b\b\b\b\b\b\b\b\b\b\b\b\b\b\b\b\b\b\b\b\b\b\b\b\b\b\b\b\b\b\b\b\b\b\b\b\b\b\b\b\b\b\b\b\b\b\b\b\b\b\b\b\b\b\b\b\b\b\b\b\b\b\b\b\b\b\b\b\b\b\b\b\b\b\b\b\b\b\b\b\b\b\b\b\b\b\b\b\b\b\b\b\b\b\b\r\u001B[1m38/45\u001B[0m \u001B[32m━━━━━━━━━━━━━━━━\u001B[0m\u001B[37m━━━━\u001B[0m \u001B[1m0s\u001B[0m 1ms/step - accuracy: 0.6695 - loss: 0.6226 - precision_2: 0.1764 - recall_2: 0.6359 \b\b\b\b\b\b\b\b\b\b\b\b\b\b\b\b\b\b\b\b\b\b\b\b\b\b\b\b\b\b\b\b\b\b\b\b\b\b\b\b\b\b\b\b\b\b\b\b\b\b\b\b\b\b\b\b\b\b\b\b\b\b\b\b\b\b\b\b\b\b\b\b\b\b\b\b\b\b\b\b\b\b\b\b\b\b\b\b\b\b\b\b\b\b\b\b\b\b\b\b\b\b\b\b\b\b\b\b\b\b\b\b\b\r\u001B[1m45/45\u001B[0m \u001B[32m━━━━━━━━━━━━━━━━━━━━\u001B[0m\u001B[37m\u001B[0m \u001B[1m0s\u001B[0m 3ms/step - accuracy: 0.6718 - loss: 0.6246 - precision_2: 0.1781 - recall_2: 0.6321 - val_accuracy: 0.6450 - val_loss: 0.6573 - val_precision_2: 0.1679 - val_recall_2: 0.5714\nEpoch 4/10\n\r\u001B[1m 1/45\u001B[0m \u001B[37m━━━━━━━━━━━━━━━━━━━━\u001B[0m \u001B[1m0s\u001B[0m 19ms/step - accuracy: 0.7188 - loss: 0.5177 - precision_2: 0.0000e+00 - recall_2: 0.0000e+00\b\b\b\b\b\b\b\b\b\b\b\b\b\b\b\b\b\b\b\b\b\b\b\b\b\b\b\b\b\b\b\b\b\b\b\b\b\b\b\b\b\b\b\b\b\b\b\b\b\b\b\b\b\b\b\b\b\b\b\b\b\b\b\b\b\b\b\b\b\b\b\b\b\b\b\b\b\b\b\b\b\b\b\b\b\b\b\b\b\b\b\b\b\b\b\b\b\b\b\b\b\b\b\b\b\b\b\b\b\b\b\b\b\b\b\b\b\b\b\b\b\b\r\u001B[1m38/45\u001B[0m \u001B[32m━━━━━━━━━━━━━━━━\u001B[0m\u001B[37m━━━━\u001B[0m \u001B[1m0s\u001B[0m 1ms/step - accuracy: 0.7138 - loss: 0.6086 - precision_2: 0.1931 - recall_2: 0.6010         \b\b\b\b\b\b\b\b\b\b\b\b\b\b\b\b\b\b\b\b\b\b\b\b\b\b\b\b\b\b\b\b\b\b\b\b\b\b\b\b\b\b\b\b\b\b\b\b\b\b\b\b\b\b\b\b\b\b\b\b\b\b\b\b\b\b\b\b\b\b\b\b\b\b\b\b\b\b\b\b\b\b\b\b\b\b\b\b\b\b\b\b\b\b\b\b\b\b\b\b\b\b\b\b\b\b\b\b\b\b\b\b\b\r\u001B[1m45/45\u001B[0m \u001B[32m━━━━━━━━━━━━━━━━━━━━\u001B[0m\u001B[37m\u001B[0m \u001B[1m0s\u001B[0m 3ms/step - accuracy: 0.7135 - loss: 0.6102 - precision_2: 0.1953 - recall_2: 0.6055 - val_accuracy: 0.6676 - val_loss: 0.6415 - val_precision_2: 0.1762 - val_recall_2: 0.5584\nEpoch 5/10\n\r\u001B[1m 1/45\u001B[0m \u001B[37m━━━━━━━━━━━━━━━━━━━━\u001B[0m \u001B[1m0s\u001B[0m 18ms/step - accuracy: 0.7500 - loss: 0.6282 - precision_2: 0.1875 - recall_2: 0.5000\b\b\b\b\b\b\b\b\b\b\b\b\b\b\b\b\b\b\b\b\b\b\b\b\b\b\b\b\b\b\b\b\b\b\b\b\b\b\b\b\b\b\b\b\b\b\b\b\b\b\b\b\b\b\b\b\b\b\b\b\b\b\b\b\b\b\b\b\b\b\b\b\b\b\b\b\b\b\b\b\b\b\b\b\b\b\b\b\b\b\b\b\b\b\b\b\b\b\b\b\b\b\b\b\b\b\b\b\b\b\b\b\b\b\r\u001B[1m37/45\u001B[0m \u001B[32m━━━━━━━━━━━━━━━━\u001B[0m\u001B[37m━━━━\u001B[0m \u001B[1m0s\u001B[0m 1ms/step - accuracy: 0.7370 - loss: 0.6024 - precision_2: 0.2163 - recall_2: 0.5953 \b\b\b\b\b\b\b\b\b\b\b\b\b\b\b\b\b\b\b\b\b\b\b\b\b\b\b\b\b\b\b\b\b\b\b\b\b\b\b\b\b\b\b\b\b\b\b\b\b\b\b\b\b\b\b\b\b\b\b\b\b\b\b\b\b\b\b\b\b\b\b\b\b\b\b\b\b\b\b\b\b\b\b\b\b\b\b\b\b\b\b\b\b\b\b\b\b\b\b\b\b\b\b\b\b\b\b\b\b\b\b\b\b\r\u001B[1m45/45\u001B[0m \u001B[32m━━━━━━━━━━━━━━━━━━━━\u001B[0m\u001B[37m\u001B[0m \u001B[1m0s\u001B[0m 3ms/step - accuracy: 0.7356 - loss: 0.6030 - precision_2: 0.2165 - recall_2: 0.5993 - val_accuracy: 0.6860 - val_loss: 0.6312 - val_precision_2: 0.1778 - val_recall_2: 0.5195\nEpoch 6/10\n\r\u001B[1m 1/45\u001B[0m \u001B[37m━━━━━━━━━━━━━━━━━━━━\u001B[0m \u001B[1m0s\u001B[0m 18ms/step - accuracy: 0.6875 - loss: 0.7456 - precision_2: 0.2105 - recall_2: 0.4444\b\b\b\b\b\b\b\b\b\b\b\b\b\b\b\b\b\b\b\b\b\b\b\b\b\b\b\b\b\b\b\b\b\b\b\b\b\b\b\b\b\b\b\b\b\b\b\b\b\b\b\b\b\b\b\b\b\b\b\b\b\b\b\b\b\b\b\b\b\b\b\b\b\b\b\b\b\b\b\b\b\b\b\b\b\b\b\b\b\b\b\b\b\b\b\b\b\b\b\b\b\b\b\b\b\b\b\b\b\b\b\b\b\b\r\u001B[1m39/45\u001B[0m \u001B[32m━━━━━━━━━━━━━━━━━\u001B[0m\u001B[37m━━━\u001B[0m \u001B[1m0s\u001B[0m 1ms/step - accuracy: 0.7234 - loss: 0.5643 - precision_2: 0.2058 - recall_2: 0.6382 \b\b\b\b\b\b\b\b\b\b\b\b\b\b\b\b\b\b\b\b\b\b\b\b\b\b\b\b\b\b\b\b\b\b\b\b\b\b\b\b\b\b\b\b\b\b\b\b\b\b\b\b\b\b\b\b\b\b\b\b\b\b\b\b\b\b\b\b\b\b\b\b\b\b\b\b\b\b\b\b\b\b\b\b\b\b\b\b\b\b\b\b\b\b\b\b\b\b\b\b\b\b\b\b\b\b\b\b\b\b\b\b\b\r\u001B[1m45/45\u001B[0m \u001B[32m━━━━━━━━━━━━━━━━━━━━\u001B[0m\u001B[37m\u001B[0m \u001B[1m0s\u001B[0m 3ms/step - accuracy: 0.7239 - loss: 0.5682 - precision_2: 0.2074 - recall_2: 0.6365 - val_accuracy: 0.6365 - val_loss: 0.6677 - val_precision_2: 0.1715 - val_recall_2: 0.6104\nEpoch 7/10\n\r\u001B[1m 1/45\u001B[0m \u001B[37m━━━━━━━━━━━━━━━━━━━━\u001B[0m \u001B[1m0s\u001B[0m 18ms/step - accuracy: 0.7656 - loss: 0.4541 - precision_2: 0.2105 - recall_2: 1.0000\b\b\b\b\b\b\b\b\b\b\b\b\b\b\b\b\b\b\b\b\b\b\b\b\b\b\b\b\b\b\b\b\b\b\b\b\b\b\b\b\b\b\b\b\b\b\b\b\b\b\b\b\b\b\b\b\b\b\b\b\b\b\b\b\b\b\b\b\b\b\b\b\b\b\b\b\b\b\b\b\b\b\b\b\b\b\b\b\b\b\b\b\b\b\b\b\b\b\b\b\b\b\b\b\b\b\b\b\b\b\b\b\b\b\r\u001B[1m38/45\u001B[0m \u001B[32m━━━━━━━━━━━━━━━━\u001B[0m\u001B[37m━━━━\u001B[0m \u001B[1m0s\u001B[0m 1ms/step - accuracy: 0.7343 - loss: 0.5548 - precision_2: 0.2251 - recall_2: 0.7139 \b\b\b\b\b\b\b\b\b\b\b\b\b\b\b\b\b\b\b\b\b\b\b\b\b\b\b\b\b\b\b\b\b\b\b\b\b\b\b\b\b\b\b\b\b\b\b\b\b\b\b\b\b\b\b\b\b\b\b\b\b\b\b\b\b\b\b\b\b\b\b\b\b\b\b\b\b\b\b\b\b\b\b\b\b\b\b\b\b\b\b\b\b\b\b\b\b\b\b\b\b\b\b\b\b\b\b\b\b\b\b\b\b\r\u001B[1m45/45\u001B[0m \u001B[32m━━━━━━━━━━━━━━━━━━━━\u001B[0m\u001B[37m\u001B[0m \u001B[1m0s\u001B[0m 3ms/step - accuracy: 0.7359 - loss: 0.5591 - precision_2: 0.2271 - recall_2: 0.7054 - val_accuracy: 0.6690 - val_loss: 0.6373 - val_precision_2: 0.1796 - val_recall_2: 0.5714\nEpoch 8/10\n\r\u001B[1m 1/45\u001B[0m \u001B[37m━━━━━━━━━━━━━━━━━━━━\u001B[0m \u001B[1m0s\u001B[0m 18ms/step - accuracy: 0.7500 - loss: 0.3569 - precision_2: 0.1579 - recall_2: 1.0000\b\b\b\b\b\b\b\b\b\b\b\b\b\b\b\b\b\b\b\b\b\b\b\b\b\b\b\b\b\b\b\b\b\b\b\b\b\b\b\b\b\b\b\b\b\b\b\b\b\b\b\b\b\b\b\b\b\b\b\b\b\b\b\b\b\b\b\b\b\b\b\b\b\b\b\b\b\b\b\b\b\b\b\b\b\b\b\b\b\b\b\b\b\b\b\b\b\b\b\b\b\b\b\b\b\b\b\b\b\b\b\b\b\b\r\u001B[1m38/45\u001B[0m \u001B[32m━━━━━━━━━━━━━━━━\u001B[0m\u001B[37m━━━━\u001B[0m \u001B[1m0s\u001B[0m 1ms/step - accuracy: 0.7710 - loss: 0.5263 - precision_2: 0.2222 - recall_2: 0.6422 \b\b\b\b\b\b\b\b\b\b\b\b\b\b\b\b\b\b\b\b\b\b\b\b\b\b\b\b\b\b\b\b\b\b\b\b\b\b\b\b\b\b\b\b\b\b\b\b\b\b\b\b\b\b\b\b\b\b\b\b\b\b\b\b\b\b\b\b\b\b\b\b\b\b\b\b\b\b\b\b\b\b\b\b\b\b\b\b\b\b\b\b\b\b\b\b\b\b\b\b\b\b\b\b\b\b\b\b\b\b\b\b\b\r\u001B[1m45/45\u001B[0m \u001B[32m━━━━━━━━━━━━━━━━━━━━\u001B[0m\u001B[37m\u001B[0m \u001B[1m0s\u001B[0m 3ms/step - accuracy: 0.7707 - loss: 0.5331 - precision_2: 0.2267 - recall_2: 0.6384 - val_accuracy: 0.6747 - val_loss: 0.6308 - val_precision_2: 0.1772 - val_recall_2: 0.5455\nEpoch 9/10\n\r\u001B[1m 1/45\u001B[0m \u001B[37m━━━━━━━━━━━━━━━━━━━━\u001B[0m \u001B[1m0s\u001B[0m 18ms/step - accuracy: 0.5938 - loss: 0.6799 - precision_2: 0.1200 - recall_2: 0.4286\b\b\b\b\b\b\b\b\b\b\b\b\b\b\b\b\b\b\b\b\b\b\b\b\b\b\b\b\b\b\b\b\b\b\b\b\b\b\b\b\b\b\b\b\b\b\b\b\b\b\b\b\b\b\b\b\b\b\b\b\b\b\b\b\b\b\b\b\b\b\b\b\b\b\b\b\b\b\b\b\b\b\b\b\b\b\b\b\b\b\b\b\b\b\b\b\b\b\b\b\b\b\b\b\b\b\b\b\b\b\b\b\b\b\r\u001B[1m39/45\u001B[0m \u001B[32m━━━━━━━━━━━━━━━━━\u001B[0m\u001B[37m━━━\u001B[0m \u001B[1m0s\u001B[0m 1ms/step - accuracy: 0.7277 - loss: 0.5726 - precision_2: 0.2320 - recall_2: 0.6635 \b\b\b\b\b\b\b\b\b\b\b\b\b\b\b\b\b\b\b\b\b\b\b\b\b\b\b\b\b\b\b\b\b\b\b\b\b\b\b\b\b\b\b\b\b\b\b\b\b\b\b\b\b\b\b\b\b\b\b\b\b\b\b\b\b\b\b\b\b\b\b\b\b\b\b\b\b\b\b\b\b\b\b\b\b\b\b\b\b\b\b\b\b\b\b\b\b\b\b\b\b\b\b\b\b\b\b\b\b\b\b\b\b\r\u001B[1m45/45\u001B[0m \u001B[32m━━━━━━━━━━━━━━━━━━━━\u001B[0m\u001B[37m\u001B[0m \u001B[1m0s\u001B[0m 3ms/step - accuracy: 0.7323 - loss: 0.5703 - precision_2: 0.2348 - recall_2: 0.6642 - val_accuracy: 0.7228 - val_loss: 0.5841 - val_precision_2: 0.1784 - val_recall_2: 0.4286\nEpoch 10/10\n\r\u001B[1m 1/45\u001B[0m \u001B[37m━━━━━━━━━━━━━━━━━━━━\u001B[0m \u001B[1m0s\u001B[0m 19ms/step - accuracy: 0.7188 - loss: 0.6013 - precision_2: 0.2105 - recall_2: 0.5714\b\b\b\b\b\b\b\b\b\b\b\b\b\b\b\b\b\b\b\b\b\b\b\b\b\b\b\b\b\b\b\b\b\b\b\b\b\b\b\b\b\b\b\b\b\b\b\b\b\b\b\b\b\b\b\b\b\b\b\b\b\b\b\b\b\b\b\b\b\b\b\b\b\b\b\b\b\b\b\b\b\b\b\b\b\b\b\b\b\b\b\b\b\b\b\b\b\b\b\b\b\b\b\b\b\b\b\b\b\b\b\b\b\b\r\u001B[1m38/45\u001B[0m \u001B[32m━━━━━━━━━━━━━━━━\u001B[0m\u001B[37m━━━━\u001B[0m \u001B[1m0s\u001B[0m 1ms/step - accuracy: 0.7641 - loss: 0.5693 - precision_2: 0.2595 - recall_2: 0.6327 \b\b\b\b\b\b\b\b\b\b\b\b\b\b\b\b\b\b\b\b\b\b\b\b\b\b\b\b\b\b\b\b\b\b\b\b\b\b\b\b\b\b\b\b\b\b\b\b\b\b\b\b\b\b\b\b\b\b\b\b\b\b\b\b\b\b\b\b\b\b\b\b\b\b\b\b\b\b\b\b\b\b\b\b\b\b\b\b\b\b\b\b\b\b\b\b\b\b\b\b\b\b\b\b\b\b\b\b\b\b\b\b\b\r\u001B[1m45/45\u001B[0m \u001B[32m━━━━━━━━━━━━━━━━━━━━\u001B[0m\u001B[37m\u001B[0m \u001B[1m0s\u001B[0m 3ms/step - accuracy: 0.7653 - loss: 0.5655 - precision_2: 0.2598 - recall_2: 0.6374 - val_accuracy: 0.7185 - val_loss: 0.5854 - val_precision_2: 0.1823 - val_recall_2: 0.4545\n\r\u001B[1m 1/28\u001B[0m \u001B[37m━━━━━━━━━━━━━━━━━━━━\u001B[0m \u001B[1m0s\u001B[0m 17ms/step - accuracy: 0.7812 - loss: 0.5254 - precision_2: 0.2857 - recall_2: 0.5000\b\b\b\b\b\b\b\b\b\b\b\b\b\b\b\b\b\b\b\b\b\b\b\b\b\b\b\b\b\b\b\b\b\b\b\b\b\b\b\b\b\b\b\b\b\b\b\b\b\b\b\b\b\b\b\b\b\b\b\b\b\b\b\b\b\b\b\b\b\b\b\b\b\b\b\b\b\b\b\b\b\b\b\b\b\b\b\b\b\b\b\b\b\b\b\b\b\b\b\b\b\b\b\b\b\b\b\b\b\b\b\b\b\b\r\u001B[1m28/28\u001B[0m \u001B[32m━━━━━━━━━━━━━━━━━━━━\u001B[0m\u001B[37m\u001B[0m \u001B[1m0s\u001B[0m 2ms/step - accuracy: 0.7180 - loss: 0.5948 - precision_2: 0.1663 - recall_2: 0.4146 \n\n\uD83D\uDCCA Comparison of Methods\nMethod: Downsampling\n - Accuracy:  0.5989\n - Recall:    0.5476\n - Precision: 0.5679\n\nMethod: Class Weights\n - Accuracy:  0.7305\n - Recall:    0.4713\n - Precision: 0.1760\n"
     ]
    }
   ],
   "source": [
    "import pandas as pd\n",
    "import numpy as np\n",
    "from sklearn.model_selection import train_test_split\n",
    "from sklearn.preprocessing import StandardScaler\n",
    "from sklearn.utils import resample, class_weight\n",
    "from tensorflow.keras.models import Sequential\n",
    "from tensorflow.keras.layers import Dense\n",
    "from tensorflow.keras.metrics import Recall, Precision\n",
    "\n",
    "# Replace this with your actual sampled and cleaned DataFrame\n",
    "# pandas_df = your_clean_sampled_dataframe\n",
    "\n",
    "# Step 1: Convert all columns to numeric again (defensive)\n",
    "for col_name in numeric_features + [\"DEP_DELAY\"]:\n",
    "    pandas_df[col_name] = pd.to_numeric(pandas_df[col_name], errors='coerce')\n",
    "pandas_df = pandas_df.dropna(subset=numeric_features + [\"DEP_DELAY\"])\n",
    "pandas_df[\"DEP_DELAY_BIN\"] = (pandas_df[\"DEP_DELAY\"] > 15).astype(int)\n",
    "\n",
    "# ========== Method 1: Downsampling ==========\n",
    "df_majority = pandas_df[pandas_df.DEP_DELAY_BIN == 0]\n",
    "df_minority = pandas_df[pandas_df.DEP_DELAY_BIN == 1]\n",
    "\n",
    "df_majority_downsampled = resample(\n",
    "    df_majority, replace=False, n_samples=len(df_minority), random_state=42\n",
    ")\n",
    "df_balanced = pd.concat([df_majority_downsampled, df_minority])\n",
    "\n",
    "X_bal = df_balanced[numeric_features].values\n",
    "y_bal = df_balanced[\"DEP_DELAY_BIN\"].values\n",
    "\n",
    "X_train_bal, X_test_bal, y_train_bal, y_test_bal = train_test_split(X_bal, y_bal, test_size=0.2, random_state=42)\n",
    "\n",
    "scaler_bal = StandardScaler()\n",
    "X_train_bal = scaler_bal.fit_transform(X_train_bal)\n",
    "X_test_bal = scaler_bal.transform(X_test_bal)\n",
    "\n",
    "model_bal = Sequential([\n",
    "    Dense(64, activation='relu', input_shape=(X_train_bal.shape[1],)),\n",
    "    Dense(32, activation='relu'),\n",
    "    Dense(1, activation='sigmoid')\n",
    "])\n",
    "model_bal.compile(optimizer='adam', loss='binary_crossentropy', metrics=['accuracy', Recall(), Precision()])\n",
    "model_bal.fit(X_train_bal, y_train_bal, epochs=10, batch_size=64, validation_split=0.2)\n",
    "results_bal = model_bal.evaluate(X_test_bal, y_test_bal)\n",
    "\n",
    "# ========== Method 2: Class Weights ==========\n",
    "X = pandas_df[numeric_features].values\n",
    "y = pandas_df[\"DEP_DELAY_BIN\"].values\n",
    "X_train, X_test, y_train, y_test = train_test_split(X, y, test_size=0.2, random_state=42)\n",
    "\n",
    "scaler = StandardScaler()\n",
    "X_train = scaler.fit_transform(X_train)\n",
    "X_test = scaler.transform(X_test)\n",
    "\n",
    "cw = class_weight.compute_class_weight('balanced', classes=np.unique(y_train), y=y_train)\n",
    "class_weight_dict = dict(enumerate(cw))\n",
    "\n",
    "model_cw = Sequential([\n",
    "    Dense(64, activation='relu', input_shape=(X_train.shape[1],)),\n",
    "    Dense(32, activation='relu'),\n",
    "    Dense(1, activation='sigmoid')\n",
    "])\n",
    "model_cw.compile(optimizer='adam', loss='binary_crossentropy', metrics=['accuracy', Recall(), Precision()])\n",
    "model_cw.fit(X_train, y_train, epochs=10, batch_size=64, validation_split=0.2, class_weight=class_weight_dict)\n",
    "results_cw = model_cw.evaluate(X_test, y_test)\n",
    "\n",
    "# ========== Compare Results ==========\n",
    "print(\"\\n\uD83D\uDCCA Comparison of Methods\")\n",
    "print(f\"Method: Downsampling\")\n",
    "print(f\" - Accuracy:  {results_bal[1]:.4f}\")\n",
    "print(f\" - Recall:    {results_bal[2]:.4f}\")\n",
    "print(f\" - Precision: {results_bal[3]:.4f}\")\n",
    "\n",
    "print(f\"\\nMethod: Class Weights\")\n",
    "print(f\" - Accuracy:  {results_cw[1]:.4f}\")\n",
    "print(f\" - Recall:    {results_cw[2]:.4f}\")\n",
    "print(f\" - Precision: {results_cw[3]:.4f}\")\n"
   ]
  },
  {
   "cell_type": "code",
   "execution_count": 0,
   "metadata": {
    "application/vnd.databricks.v1+cell": {
     "cellMetadata": {
      "byteLimit": 2048000,
      "rowLimit": 10000
     },
     "inputWidgets": {},
     "nuid": "b418ed0a-69a1-4106-87ce-f2ada224ef58",
     "showTitle": false,
     "tableResultSettingsMap": {},
     "title": ""
    }
   },
   "outputs": [
    {
     "output_type": "display_data",
     "data": {
      "image/png": "[encoded data removed]",
      "text/plain": [
       "<Figure size 800x500 with 1 Axes>"
      ]
     },
     "metadata": {},
     "output_type": "display_data"
    }
   ],
   "source": [
    "import matplotlib.pyplot as plt\n",
    "\n",
    "# Define metrics\n",
    "metrics = ['Accuracy', 'Recall', 'Precision']\n",
    "downsampling_scores = [results_bal[1], results_bal[2], results_bal[3]]\n",
    "class_weight_scores = [results_cw[1], results_cw[2], results_cw[3]]\n",
    "\n",
    "# Bar chart setup\n",
    "x = np.arange(len(metrics))\n",
    "width = 0.35\n",
    "\n",
    "fig, ax = plt.subplots(figsize=(8, 5))\n",
    "bars1 = ax.bar(x - width/2, downsampling_scores, width, label='Downsampling')\n",
    "bars2 = ax.bar(x + width/2, class_weight_scores, width, label='Class Weights')\n",
    "\n",
    "# Labels and title\n",
    "ax.set_ylabel('Score')\n",
    "ax.set_title('Comparison of Class Imbalance Strategies')\n",
    "ax.set_xticks(x)\n",
    "ax.set_xticklabels(metrics)\n",
    "ax.legend()\n",
    "\n",
    "# Show value labels\n",
    "for bar in bars1 + bars2:\n",
    "    height = bar.get_height()\n",
    "    ax.annotate(f'{height:.2f}', xy=(bar.get_x() + bar.get_width() / 2, height),\n",
    "                xytext=(0, 3), textcoords='offset points', ha='center', va='bottom')\n",
    "\n",
    "plt.tight_layout()\n",
    "plt.show()\n"
   ]
  },
  {
   "cell_type": "markdown",
   "metadata": {
    "application/vnd.databricks.v1+cell": {
     "cellMetadata": {},
     "inputWidgets": {},
     "nuid": "22fe18ef-f90a-4272-97aa-ec8d81a97f71",
     "showTitle": false,
     "tableResultSettingsMap": {},
     "title": ""
    }
   },
   "source": [
    "# Adding Hidden Layer to Original MLP"
   ]
  },
  {
   "cell_type": "code",
   "execution_count": 0,
   "metadata": {
    "application/vnd.databricks.v1+cell": {
     "cellMetadata": {
      "byteLimit": 2048000,
      "rowLimit": 10000
     },
     "inputWidgets": {},
     "nuid": "d960329a-ad05-4e44-98cd-bd8f4be55f14",
     "showTitle": false,
     "tableResultSettingsMap": {},
     "title": ""
    }
   },
   "outputs": [
    {
     "output_type": "stream",
     "name": "stdout",
     "output_type": "stream",
     "text": [
      "✅ Accuracy: 0.8934\n\uD83C\uDFAF F1 Score: 0.8459\n\uD83D\uDD01 Recall: 0.8934\n\uD83D\uDCC9 MAE: 0.1066\n"
     ]
    }
   ],
   "source": [
    "from pyspark.sql.functions import col, when\n",
    "from pyspark.ml.feature import VectorAssembler, StandardScaler\n",
    "from pyspark.ml.classification import MultilayerPerceptronClassifier\n",
    "from pyspark.ml import Pipeline\n",
    "from pyspark.ml.evaluation import MulticlassClassificationEvaluator, RegressionEvaluator\n",
    "\n",
    "# Step 1: Create binary label column (1 = delayed > 15 min)\n",
    "df_otpw_class = df_otpw.withColumn(\"DEP_DELAY_BIN\", when(col(\"DEP_DELAY\") > 15, 1).otherwise(0))\n",
    "\n",
    "# Step 2: Define numeric input features\n",
    "numeric_features = [\n",
    "    'QUARTER', 'MONTH', 'DAY_OF_MONTH', 'DAY_OF_WEEK', 'CRS_ELAPSED_TIME', 'DISTANCE',\n",
    "    'ELEVATION', 'HourlyDryBulbTemperature', 'HourlyPrecipitation', 'HourlySeaLevelPressure',\n",
    "    'HourlyVisibility', 'HourlyWindGustSpeed', 'HourlyWindSpeed',\n",
    "    'ORIGIN_BETWEENNESS', 'ORIGIN_DEGREE', 'ORIGIN_CLOSENESS',\n",
    "    'DEST_BETWEENNESS', 'DEST_DEGREE', 'DEST_CLOSENESS',\n",
    "    'PREV_FLIGHT_FLAG', 'CRS_DEP_TIME_MINUTES', 'TIME_BETWEEN_ARR_AND_SCHEDULED_DEP',\n",
    "    'PREV_DEP_DELAY', 'CRS_TIME_X_DIST', 'ELEV_X_TEMP',\n",
    "    'UNIQUE_ORIGINS', 'NUM_WITHIN_100_MILES', 'HOLIDAY_WITHIN_3D',\n",
    "    'used_days_so_far', 'calendar_days_so_far', 'tail_num_use'\n",
    "]\n",
    "\n",
    "# Step 3: Cast all to double\n",
    "for col_name in numeric_features:\n",
    "    df_otpw_class = df_otpw_class.withColumn(col_name, col(col_name).cast(\"double\"))\n",
    "\n",
    "# Step 4: Drop rows with nulls in features or label\n",
    "df_otpw_class = df_otpw_class.dropna(subset=numeric_features + [\"DEP_DELAY_BIN\"])\n",
    "\n",
    "# Step 5: Assemble and scale features\n",
    "assembler = VectorAssembler(inputCols=numeric_features, outputCol=\"features_unscaled\")\n",
    "scaler = StandardScaler(inputCol=\"features_unscaled\", outputCol=\"features\", withMean=True, withStd=True)\n",
    "\n",
    "# Step 6: Define MLP architecture with an added hidden layer\n",
    "input_dim = len(numeric_features)\n",
    "layers = [input_dim, 128, 64, 32, 2]  # added 128-unit layer\n",
    "\n",
    "# Step 7: MLP Classifier\n",
    "mlp = MultilayerPerceptronClassifier(\n",
    "    featuresCol=\"features\",\n",
    "    labelCol=\"DEP_DELAY_BIN\",\n",
    "    predictionCol=\"prediction\",\n",
    "    layers=layers,\n",
    "    maxIter=50,\n",
    "    blockSize=128,\n",
    "    seed=42\n",
    ")\n",
    "\n",
    "# Step 8: Build Pipeline\n",
    "pipeline = Pipeline(stages=[assembler, scaler, mlp])\n",
    "\n",
    "# Step 9: Train/test split\n",
    "train, test = df_otpw_class.randomSplit([0.8, 0.2], seed=42)\n",
    "\n",
    "# Step 10: Train model\n",
    "model = pipeline.fit(train)\n",
    "\n",
    "# Step 11: Predict\n",
    "predictions = model.transform(test)\n",
    "\n",
    "# === Evaluation Metrics ===\n",
    "eval_accuracy = MulticlassClassificationEvaluator(labelCol=\"DEP_DELAY_BIN\", predictionCol=\"prediction\", metricName=\"accuracy\")\n",
    "eval_f1 = MulticlassClassificationEvaluator(labelCol=\"DEP_DELAY_BIN\", predictionCol=\"prediction\", metricName=\"f1\")\n",
    "eval_recall = MulticlassClassificationEvaluator(labelCol=\"DEP_DELAY_BIN\", predictionCol=\"prediction\", metricName=\"weightedRecall\")\n",
    "eval_mae = RegressionEvaluator(labelCol=\"DEP_DELAY_BIN\", predictionCol=\"prediction\", metricName=\"mae\")\n",
    "\n",
    "# === Results ===\n",
    "accuracy = eval_accuracy.evaluate(predictions)\n",
    "f1 = eval_f1.evaluate(predictions)\n",
    "recall = eval_recall.evaluate(predictions)\n",
    "mae = eval_mae.evaluate(predictions)\n",
    "\n",
    "print(f\"✅ Accuracy: {accuracy:.4f}\")\n",
    "print(f\"\uD83C\uDFAF F1 Score: {f1:.4f}\")\n",
    "print(f\"\uD83D\uDD01 Recall: {recall:.4f}\")\n",
    "print(f\"\uD83D\uDCC9 MAE: {mae:.4f}\")\n"
   ]
  },
  {
   "cell_type": "markdown",
   "metadata": {
    "application/vnd.databricks.v1+cell": {
     "cellMetadata": {},
     "inputWidgets": {},
     "nuid": "c14f088c-e4eb-4421-8246-ad6907aa8cdc",
     "showTitle": false,
     "tableResultSettingsMap": {},
     "title": ""
    }
   },
   "source": [
    "# Loop Through Different MLP Architectures and Identify Optimal Config"
   ]
  },
  {
   "cell_type": "code",
   "execution_count": 0,
   "metadata": {
    "application/vnd.databricks.v1+cell": {
     "cellMetadata": {
      "byteLimit": 2048000,
      "rowLimit": 10000
     },
     "inputWidgets": {},
     "nuid": "2189acef-4061-4f56-887d-6a1072cea8df",
     "showTitle": false,
     "tableResultSettingsMap": {},
     "title": ""
    }
   },
   "outputs": [
    {
     "output_type": "stream",
     "name": "stdout",
     "output_type": "stream",
     "text": [
      "\n\uD83D\uDE80 Training MLP Model 1 with layers: [31, 64, 32, 2]\n✅ Accuracy: 0.8939, \uD83C\uDFAF F1: 0.8478, \uD83D\uDD01 Recall: 0.8939, \uD83D\uDCC9 MAE: 0.1061\n\n\uD83D\uDE80 Training MLP Model 2 with layers: [31, 128, 64, 32, 2]\n✅ Accuracy: 0.8941, \uD83C\uDFAF F1: 0.8472, \uD83D\uDD01 Recall: 0.8941, \uD83D\uDCC9 MAE: 0.1059\n\n\uD83D\uDE80 Training MLP Model 3 with layers: [31, 256, 128, 64, 2]\n✅ Accuracy: 0.8943, \uD83C\uDFAF F1: 0.8476, \uD83D\uDD01 Recall: 0.8943, \uD83D\uDCC9 MAE: 0.1057\n\n\uD83D\uDE80 Training MLP Model 4 with layers: [31, 64, 64, 32, 2]\n✅ Accuracy: 0.8939, \uD83C\uDFAF F1: 0.8472, \uD83D\uDD01 Recall: 0.8939, \uD83D\uDCC9 MAE: 0.1061\n\n\uD83D\uDE80 Training MLP Model 5 with layers: [31, 128, 128, 64, 32, 2]\n✅ Accuracy: 0.8942, \uD83C\uDFAF F1: 0.8473, \uD83D\uDD01 Recall: 0.8942, \uD83D\uDCC9 MAE: 0.1058\n\n\uD83D\uDCCA Summary of MLP Architectures:\nModel 1: Layers=[31, 64, 32, 2]\n - Accuracy:  0.8939\n - F1 Score:  0.8478\n - Recall:    0.8939\n - MAE:       0.1061\n--------------------------------------------------\nModel 2: Layers=[31, 128, 64, 32, 2]\n - Accuracy:  0.8941\n - F1 Score:  0.8472\n - Recall:    0.8941\n - MAE:       0.1059\n--------------------------------------------------\nModel 3: Layers=[31, 256, 128, 64, 2]\n - Accuracy:  0.8943\n - F1 Score:  0.8476\n - Recall:    0.8943\n - MAE:       0.1057\n--------------------------------------------------\nModel 4: Layers=[31, 64, 64, 32, 2]\n - Accuracy:  0.8939\n - F1 Score:  0.8472\n - Recall:    0.8939\n - MAE:       0.1061\n--------------------------------------------------\nModel 5: Layers=[31, 128, 128, 64, 32, 2]\n - Accuracy:  0.8942\n - F1 Score:  0.8473\n - Recall:    0.8942\n - MAE:       0.1058\n--------------------------------------------------\n"
     ]
    }
   ],
   "source": [
    "from pyspark.sql.functions import col, when\n",
    "from pyspark.ml.feature import VectorAssembler, StandardScaler\n",
    "from pyspark.ml.classification import MultilayerPerceptronClassifier\n",
    "from pyspark.ml import Pipeline\n",
    "from pyspark.ml.evaluation import MulticlassClassificationEvaluator, RegressionEvaluator\n",
    "\n",
    "# Step 1: Binary label\n",
    "df_otpw_class = df_otpw.withColumn(\"DEP_DELAY_BIN\", when(col(\"DEP_DELAY\") > 15, 1).otherwise(0))\n",
    "\n",
    "# Step 2: Define numeric features\n",
    "numeric_features = [\n",
    "    'QUARTER', 'MONTH', 'DAY_OF_MONTH', 'DAY_OF_WEEK', 'CRS_ELAPSED_TIME', 'DISTANCE',\n",
    "    'ELEVATION', 'HourlyDryBulbTemperature', 'HourlyPrecipitation', 'HourlySeaLevelPressure',\n",
    "    'HourlyVisibility', 'HourlyWindGustSpeed', 'HourlyWindSpeed',\n",
    "    'ORIGIN_BETWEENNESS', 'ORIGIN_DEGREE', 'ORIGIN_CLOSENESS',\n",
    "    'DEST_BETWEENNESS', 'DEST_DEGREE', 'DEST_CLOSENESS',\n",
    "    'PREV_FLIGHT_FLAG', 'CRS_DEP_TIME_MINUTES', 'TIME_BETWEEN_ARR_AND_SCHEDULED_DEP',\n",
    "    'PREV_DEP_DELAY', 'CRS_TIME_X_DIST', 'ELEV_X_TEMP',\n",
    "    'UNIQUE_ORIGINS', 'NUM_WITHIN_100_MILES', 'HOLIDAY_WITHIN_3D',\n",
    "    'used_days_so_far', 'calendar_days_so_far', 'tail_num_use'\n",
    "]\n",
    "\n",
    "# Step 3: Cast all to double\n",
    "for col_name in numeric_features:\n",
    "    df_otpw_class = df_otpw_class.withColumn(col_name, col(col_name).cast(\"double\"))\n",
    "\n",
    "df_otpw_class = df_otpw_class.dropna(subset=numeric_features + [\"DEP_DELAY_BIN\"])\n",
    "\n",
    "# Step 4: Assemble and scale features\n",
    "assembler = VectorAssembler(inputCols=numeric_features, outputCol=\"features_unscaled\")\n",
    "scaler = StandardScaler(inputCol=\"features_unscaled\", outputCol=\"features\", withMean=True, withStd=True)\n",
    "\n",
    "# Step 5: Train/test split\n",
    "train, test = df_otpw_class.randomSplit([0.8, 0.2], seed=42)\n",
    "\n",
    "# Step 6: Define architectures to test\n",
    "input_dim = len(numeric_features)\n",
    "architectures = [\n",
    "    [input_dim, 64, 32, 2],\n",
    "    [input_dim, 128, 64, 32, 2],\n",
    "    [input_dim, 256, 128, 64, 2],\n",
    "    [input_dim, 64, 64, 32, 2],\n",
    "    [input_dim, 128, 128, 64, 32, 2]\n",
    "]\n",
    "\n",
    "# Step 7: Evaluators\n",
    "eval_accuracy = MulticlassClassificationEvaluator(labelCol=\"DEP_DELAY_BIN\", predictionCol=\"prediction\", metricName=\"accuracy\")\n",
    "eval_f1 = MulticlassClassificationEvaluator(labelCol=\"DEP_DELAY_BIN\", predictionCol=\"prediction\", metricName=\"f1\")\n",
    "eval_recall = MulticlassClassificationEvaluator(labelCol=\"DEP_DELAY_BIN\", predictionCol=\"prediction\", metricName=\"weightedRecall\")\n",
    "eval_mae = RegressionEvaluator(labelCol=\"DEP_DELAY_BIN\", predictionCol=\"prediction\", metricName=\"mae\")\n",
    "\n",
    "# Step 8: Loop through architectures\n",
    "results = []\n",
    "for i, layers in enumerate(architectures, 1):\n",
    "    print(f\"\\n\uD83D\uDE80 Training MLP Model {i} with layers: {layers}\")\n",
    "    mlp = MultilayerPerceptronClassifier(\n",
    "        featuresCol=\"features\",\n",
    "        labelCol=\"DEP_DELAY_BIN\",\n",
    "        predictionCol=\"prediction\",\n",
    "        layers=layers,\n",
    "        maxIter=100,\n",
    "        blockSize=128,\n",
    "        seed=42\n",
    "    )\n",
    "    pipeline = Pipeline(stages=[assembler, scaler, mlp])\n",
    "    model = pipeline.fit(train)\n",
    "    predictions = model.transform(test)\n",
    "    \n",
    "    accuracy = eval_accuracy.evaluate(predictions)\n",
    "    f1 = eval_f1.evaluate(predictions)\n",
    "    recall = eval_recall.evaluate(predictions)\n",
    "    mae = eval_mae.evaluate(predictions)\n",
    "    \n",
    "    results.append((layers, accuracy, f1, recall, mae))\n",
    "    print(f\"✅ Accuracy: {accuracy:.4f}, \uD83C\uDFAF F1: {f1:.4f}, \uD83D\uDD01 Recall: {recall:.4f}, \uD83D\uDCC9 MAE: {mae:.4f}\")\n",
    "\n",
    "# Step 9: Display summary\n",
    "print(\"\\n\uD83D\uDCCA Summary of MLP Architectures:\")\n",
    "for i, (layers, accuracy, f1, recall, mae) in enumerate(results, 1):\n",
    "    print(f\"Model {i}: Layers={layers}\")\n",
    "    print(f\" - Accuracy:  {accuracy:.4f}\")\n",
    "    print(f\" - F1 Score:  {f1:.4f}\")\n",
    "    print(f\" - Recall:    {recall:.4f}\")\n",
    "    print(f\" - MAE:       {mae:.4f}\")\n",
    "    print(\"-\" * 50)\n"
   ]
  },
  {
   "cell_type": "code",
   "execution_count": 0,
   "metadata": {
    "application/vnd.databricks.v1+cell": {
     "cellMetadata": {
      "byteLimit": 2048000,
      "rowLimit": 10000
     },
     "inputWidgets": {},
     "nuid": "5005257a-61b0-41c4-b9de-14dee25f7866",
     "showTitle": false,
     "tableResultSettingsMap": {},
     "title": ""
    }
   },
   "outputs": [
    {
     "output_type": "display_data",
     "data": {
      "image/png": "[encoded data removed]",
      "text/plain": [
       "<Figure size 1200x600 with 1 Axes>"
      ]
     },
     "metadata": {},
     "output_type": "display_data"
    }
   ],
   "source": [
    "import pandas as pd\n",
    "import matplotlib.pyplot as plt\n",
    "\n",
    "# Step 1: Define results manually (from your output)\n",
    "results = [\n",
    "    {\"Model\": \"Model 1\", \"Layers\": \"[31, 64, 32, 2]\", \"Accuracy\": 0.8939, \"F1\": 0.8478, \"Recall\": 0.8939, \"MAE\": 0.1061},\n",
    "    {\"Model\": \"Model 2\", \"Layers\": \"[31, 128, 64, 32, 2]\", \"Accuracy\": 0.8941, \"F1\": 0.8472, \"Recall\": 0.8941, \"MAE\": 0.1059},\n",
    "    {\"Model\": \"Model 3\", \"Layers\": \"[31, 256, 128, 64, 2]\", \"Accuracy\": 0.8943, \"F1\": 0.8476, \"Recall\": 0.8943, \"MAE\": 0.1057},\n",
    "    {\"Model\": \"Model 4\", \"Layers\": \"[31, 64, 64, 32, 2]\", \"Accuracy\": 0.8939, \"F1\": 0.8472, \"Recall\": 0.8939, \"MAE\": 0.1061},\n",
    "    {\"Model\": \"Model 5\", \"Layers\": \"[31, 128, 128, 64, 32, 2]\", \"Accuracy\": 0.8942, \"F1\": 0.8473, \"Recall\": 0.8942, \"MAE\": 0.1058}\n",
    "]\n",
    "\n",
    "df_results = pd.DataFrame(results)\n",
    "\n",
    "# Step 2: Plot each metric\n",
    "metrics = [\"Accuracy\", \"F1\", \"Recall\", \"MAE\"]\n",
    "plt.figure(figsize=(12, 6))\n",
    "\n",
    "for metric in metrics:\n",
    "    plt.plot(df_results[\"Model\"], df_results[metric], marker='o', label=metric)\n",
    "\n",
    "plt.title(\"MLP Model Performance by Architecture\")\n",
    "plt.xlabel(\"Model\")\n",
    "plt.ylabel(\"Score\")\n",
    "plt.ylim(0.84, 0.90)\n",
    "plt.legend()\n",
    "plt.grid(True)\n",
    "plt.xticks(rotation=45)\n",
    "plt.tight_layout()\n",
    "plt.show()\n"
   ]
  },
  {
   "cell_type": "markdown",
   "metadata": {
    "application/vnd.databricks.v1+cell": {
     "cellMetadata": {},
     "inputWidgets": {},
     "nuid": "55175439-74b2-468b-a4b5-f2fa0d7d37ab",
     "showTitle": false,
     "tableResultSettingsMap": {},
     "title": ""
    }
   },
   "source": [
    "# Metrics Arent Changing much. likely class imbalance and model is just predicting 'no delay'. basically the model is unable to predict any delays. not a legit model"
   ]
  },
  {
   "cell_type": "code",
   "execution_count": 0,
   "metadata": {
    "application/vnd.databricks.v1+cell": {
     "cellMetadata": {
      "byteLimit": 2048000,
      "rowLimit": 10000
     },
     "inputWidgets": {},
     "nuid": "e8f55862-e706-4538-8be2-9d796bd8897b",
     "showTitle": false,
     "tableResultSettingsMap": {},
     "title": ""
    }
   },
   "outputs": [
    {
     "output_type": "stream",
     "name": "stdout",
     "output_type": "stream",
     "text": [
      "+-------------+----------+-----+\n|DEP_DELAY_BIN|prediction|count|\n+-------------+----------+-----+\n|            1|       0.0| 9263|\n|            0|       0.0|78260|\n|            1|       1.0|  170|\n|            0|       1.0|  109|\n+-------------+----------+-----+\n\n"
     ]
    }
   ],
   "source": [
    "from pyspark.sql.functions import col\n",
    "conf_matrix = predictions.groupBy(\"DEP_DELAY_BIN\", \"prediction\").count()\n",
    "conf_matrix.show()\n"
   ]
  },
  {
   "cell_type": "markdown",
   "metadata": {
    "application/vnd.databricks.v1+cell": {
     "cellMetadata": {},
     "inputWidgets": {},
     "nuid": "a91f113c-3e51-4cf5-a88f-785bff11b4a5",
     "showTitle": false,
     "tableResultSettingsMap": {},
     "title": ""
    }
   },
   "source": [
    "# upsample the minority class (dep_delay = 1) and use binaryclassificationevaluator for AUC and recall"
   ]
  },
  {
   "cell_type": "code",
   "execution_count": 0,
   "metadata": {
    "application/vnd.databricks.v1+cell": {
     "cellMetadata": {
      "byteLimit": 2048000,
      "rowLimit": 10000
     },
     "inputWidgets": {},
     "nuid": "90125c37-f340-4eda-8386-ea50bc241dad",
     "showTitle": false,
     "tableResultSettingsMap": {},
     "title": ""
    }
   },
   "outputs": [
    {
     "output_type": "stream",
     "name": "stdout",
     "output_type": "stream",
     "text": [
      "✅ ROC AUC: 0.7415\n\uD83C\uDFAF PR AUC (Recall-focused): 0.7656\n+-------------+----------+-----+\n|DEP_DELAY_BIN|prediction|count|\n+-------------+----------+-----+\n|            0|       0.0|55465|\n|            0|       1.0|23088|\n|            1|       0.0|30251|\n|            1|       1.0|57450|\n+-------------+----------+-----+\n\n"
     ]
    }
   ],
   "source": [
    "from pyspark.sql.functions import col, when\n",
    "from pyspark.ml.feature import VectorAssembler\n",
    "from pyspark.ml import Pipeline\n",
    "from pyspark.ml.classification import RandomForestClassifier\n",
    "from pyspark.ml.evaluation import BinaryClassificationEvaluator\n",
    "from pyspark.sql import DataFrame\n",
    "import random\n",
    "\n",
    "# Step 1: Label and feature prep\n",
    "df_class = df_otpw.withColumn(\"DEP_DELAY_BIN\", when(col(\"DEP_DELAY\") > 15, 1).otherwise(0))\n",
    "\n",
    "numeric_features = [\n",
    "    'QUARTER', 'MONTH', 'DAY_OF_MONTH', 'DAY_OF_WEEK', 'CRS_ELAPSED_TIME', 'DISTANCE',\n",
    "    'ELEVATION', 'HourlyDryBulbTemperature', 'HourlyPrecipitation', 'HourlySeaLevelPressure',\n",
    "    'HourlyVisibility', 'HourlyWindGustSpeed', 'HourlyWindSpeed',\n",
    "    'ORIGIN_BETWEENNESS', 'ORIGIN_DEGREE', 'ORIGIN_CLOSENESS',\n",
    "    'DEST_BETWEENNESS', 'DEST_DEGREE', 'DEST_CLOSENESS',\n",
    "    'PREV_FLIGHT_FLAG', 'CRS_DEP_TIME_MINUTES', 'TIME_BETWEEN_ARR_AND_SCHEDULED_DEP',\n",
    "    'PREV_DEP_DELAY', 'CRS_TIME_X_DIST', 'ELEV_X_TEMP',\n",
    "    'UNIQUE_ORIGINS', 'NUM_WITHIN_100_MILES', 'HOLIDAY_WITHIN_3D',\n",
    "    'used_days_so_far', 'calendar_days_so_far', 'tail_num_use'\n",
    "]\n",
    "\n",
    "for col_name in numeric_features:\n",
    "    df_class = df_class.withColumn(col_name, col(col_name).cast(\"double\"))\n",
    "\n",
    "df_class = df_class.dropna(subset=numeric_features + [\"DEP_DELAY_BIN\"])\n",
    "\n",
    "# Step 2: Manual resampling (upsample class 1 to match class 0)\n",
    "major = df_class.filter(col(\"DEP_DELAY_BIN\") == 0)\n",
    "minor = df_class.filter(col(\"DEP_DELAY_BIN\") == 1)\n",
    "ratio = major.count() // minor.count()\n",
    "extra = major.count() % minor.count()\n",
    "\n",
    "minor_upsampled = minor.unionAll(minor.sample(withReplacement=True, fraction=float(ratio), seed=42))\n",
    "if extra > 0:\n",
    "    minor_upsampled = minor_upsampled.unionAll(\n",
    "        minor.sample(withReplacement=True, fraction=float(extra) / minor.count(), seed=42)\n",
    "    )\n",
    "\n",
    "df_balanced = major.unionAll(minor_upsampled)\n",
    "\n",
    "# Step 3: VectorAssembler\n",
    "assembler = VectorAssembler(inputCols=numeric_features, outputCol=\"features\")\n",
    "\n",
    "# Step 4: Random Forest Classifier\n",
    "rf = RandomForestClassifier(\n",
    "    featuresCol=\"features\",\n",
    "    labelCol=\"DEP_DELAY_BIN\",\n",
    "    predictionCol=\"prediction\",\n",
    "    numTrees=100,\n",
    "    maxDepth=10,\n",
    "    seed=42\n",
    ")\n",
    "\n",
    "# Step 5: Pipeline\n",
    "pipeline = Pipeline(stages=[assembler, rf])\n",
    "\n",
    "# Step 6: Train-test split\n",
    "train, test = df_balanced.randomSplit([0.8, 0.2], seed=42)\n",
    "model = pipeline.fit(train)\n",
    "predictions = model.transform(test)\n",
    "\n",
    "# Step 7: Evaluation\n",
    "evaluator_auc = BinaryClassificationEvaluator(labelCol=\"DEP_DELAY_BIN\", metricName=\"areaUnderROC\")\n",
    "evaluator_recall = BinaryClassificationEvaluator(labelCol=\"DEP_DELAY_BIN\", metricName=\"areaUnderPR\")\n",
    "\n",
    "auc = evaluator_auc.evaluate(predictions)\n",
    "recall_pr = evaluator_recall.evaluate(predictions)\n",
    "\n",
    "print(f\"✅ ROC AUC: {auc:.4f}\")\n",
    "print(f\"\uD83C\uDFAF PR AUC (Recall-focused): {recall_pr:.4f}\")\n",
    "\n",
    "# Step 8: Confusion Matrix\n",
    "conf_matrix = predictions.groupBy(\"DEP_DELAY_BIN\", \"prediction\").count()\n",
    "conf_matrix.show()\n"
   ]
  },
  {
   "cell_type": "code",
   "execution_count": 0,
   "metadata": {
    "application/vnd.databricks.v1+cell": {
     "cellMetadata": {},
     "inputWidgets": {},
     "nuid": "5eb4a17b-ca4f-4f8d-9dfb-b3b904e3a9be",
     "showTitle": false,
     "tableResultSettingsMap": {},
     "title": ""
    }
   },
   "outputs": [],
   "source": []
  }
 ],
 "metadata": {
  "application/vnd.databricks.v1+notebook": {
   "computePreferences": null,
   "dashboards": [],
   "environmentMetadata": {
    "base_environment": "",
    "environment_version": "2"
   },
   "inputWidgetPreferences": null,
   "language": "python",
   "notebookMetadata": {
    "pythonIndentUnit": 4
   },
   "notebookName": "(Clone) MLPNN",
   "widgets": {}
  },
  "language_info": {
   "name": "python"
  }
 },
 "nbformat": 4,
 "nbformat_minor": 0
}