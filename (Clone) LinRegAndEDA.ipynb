{
 "cells": [
  {
   "cell_type": "code",
   "execution_count": 0,
   "metadata": {
    "application/vnd.databricks.v1+cell": {
     "cellMetadata": {
      "byteLimit": 2048000,
      "rowLimit": 10000
     },
     "inputWidgets": {},
     "nuid": "5590579d-f578-4695-97e0-2795b4fc1218",
     "showTitle": false,
     "tableResultSettingsMap": {},
     "title": ""
    }
   },
   "outputs": [
    {
     "output_type": "display_data",
     "data": {
      "text/html": [
       "<style scoped>\n",
       "  .table-result-container {\n",
       "    max-height: 300px;\n",
       "    overflow: auto;\n",
       "  }\n",
       "  table, th, td {\n",
       "    border: 1px solid black;\n",
       "    border-collapse: collapse;\n",
       "  }\n",
       "  th, td {\n",
       "    padding: 5px;\n",
       "  }\n",
       "  th {\n",
       "    text-align: left;\n",
       "  }\n",
       "</style><div class='table-result-container'><table class='table-result'><thead style='background-color: white'><tr><th>path</th><th>name</th><th>size</th><th>modificationTime</th></tr></thead><tbody><tr><td>dbfs:/mnt/mids-w261/HW5/</td><td>HW5/</td><td>0</td><td>1752850182466</td></tr><tr><td>dbfs:/mnt/mids-w261/OTPW_12M/</td><td>OTPW_12M/</td><td>0</td><td>1752850182466</td></tr><tr><td>dbfs:/mnt/mids-w261/OTPW_1D_CSV/</td><td>OTPW_1D_CSV/</td><td>0</td><td>1752850182466</td></tr><tr><td>dbfs:/mnt/mids-w261/OTPW_36M/</td><td>OTPW_36M/</td><td>0</td><td>1752850182466</td></tr><tr><td>dbfs:/mnt/mids-w261/OTPW_3M/</td><td>OTPW_3M/</td><td>0</td><td>1752850182466</td></tr><tr><td>dbfs:/mnt/mids-w261/OTPW_3M_2015.csv</td><td>OTPW_3M_2015.csv</td><td>1500620247</td><td>1741625185000</td></tr><tr><td>dbfs:/mnt/mids-w261/OTPW_3M_2015_delta/</td><td>OTPW_3M_2015_delta/</td><td>0</td><td>1752850182466</td></tr><tr><td>dbfs:/mnt/mids-w261/OTPW_60M/</td><td>OTPW_60M/</td><td>0</td><td>1752850182466</td></tr><tr><td>dbfs:/mnt/mids-w261/OTPW_60M_Backup/</td><td>OTPW_60M_Backup/</td><td>0</td><td>1752850182466</td></tr><tr><td>dbfs:/mnt/mids-w261/airport-codes_csv.csv</td><td>airport-codes_csv.csv</td><td>6232459</td><td>1740508595000</td></tr><tr><td>dbfs:/mnt/mids-w261/datasets_final_project/</td><td>datasets_final_project/</td><td>0</td><td>1752850182466</td></tr><tr><td>dbfs:/mnt/mids-w261/datasets_final_project_2022/</td><td>datasets_final_project_2022/</td><td>0</td><td>1752850182466</td></tr><tr><td>dbfs:/mnt/mids-w261/final_project_winter_2025/</td><td>final_project_winter_2025/</td><td>0</td><td>1752850182466</td></tr><tr><td>dbfs:/mnt/mids-w261/student-groups/</td><td>student-groups/</td><td>0</td><td>1752850182466</td></tr><tr><td>dbfs:/mnt/mids-w261/students-groups/</td><td>students-groups/</td><td>0</td><td>1752850182466</td></tr></tbody></table></div>"
      ]
     },
     "metadata": {
      "application/vnd.databricks.v1+output": {
       "addedWidgets": {},
       "aggData": [],
       "aggError": "",
       "aggOverflow": false,
       "aggSchema": [],
       "aggSeriesLimitReached": false,
       "aggType": "",
       "arguments": {},
       "columnCustomDisplayInfos": {},
       "data": [
        [
         "dbfs:/mnt/mids-w261/HW5/",
         "HW5/",
         0,
         1752850182466
        ],
        [
         "dbfs:/mnt/mids-w261/OTPW_12M/",
         "OTPW_12M/",
         0,
         1752850182466
        ],
        [
         "dbfs:/mnt/mids-w261/OTPW_1D_CSV/",
         "OTPW_1D_CSV/",
         0,
         1752850182466
        ],
        [
         "dbfs:/mnt/mids-w261/OTPW_36M/",
         "OTPW_36M/",
         0,
         1752850182466
        ],
        [
         "dbfs:/mnt/mids-w261/OTPW_3M/",
         "OTPW_3M/",
         0,
         1752850182466
        ],
        [
         "dbfs:/mnt/mids-w261/OTPW_3M_2015.csv",
         "OTPW_3M_2015.csv",
         1500620247,
         1741625185000
        ],
        [
         "dbfs:/mnt/mids-w261/OTPW_3M_2015_delta/",
         "OTPW_3M_2015_delta/",
         0,
         1752850182466
        ],
        [
         "dbfs:/mnt/mids-w261/OTPW_60M/",
         "OTPW_60M/",
         0,
         1752850182466
        ],
        [
         "dbfs:/mnt/mids-w261/OTPW_60M_Backup/",
         "OTPW_60M_Backup/",
         0,
         1752850182466
        ],
        [
         "dbfs:/mnt/mids-w261/airport-codes_csv.csv",
         "airport-codes_csv.csv",
         6232459,
         1740508595000
        ],
        [
         "dbfs:/mnt/mids-w261/datasets_final_project/",
         "datasets_final_project/",
         0,
         1752850182466
        ],
        [
         "dbfs:/mnt/mids-w261/datasets_final_project_2022/",
         "datasets_final_project_2022/",
         0,
         1752850182466
        ],
        [
         "dbfs:/mnt/mids-w261/final_project_winter_2025/",
         "final_project_winter_2025/",
         0,
         1752850182466
        ],
        [
         "dbfs:/mnt/mids-w261/student-groups/",
         "student-groups/",
         0,
         1752850182466
        ],
        [
         "dbfs:/mnt/mids-w261/students-groups/",
         "students-groups/",
         0,
         1752850182466
        ]
       ],
       "datasetInfos": [],
       "dbfsResultPath": null,
       "isJsonSchema": true,
       "metadata": {},
       "overflow": false,
       "plotOptions": {
        "customPlotOptions": {},
        "displayType": "table",
        "pivotAggregation": null,
        "pivotColumns": null,
        "xColumns": null,
        "yColumns": null
       },
       "removedWidgets": [],
       "schema": [
        {
         "metadata": "{}",
         "name": "path",
         "type": "\"string\""
        },
        {
         "metadata": "{}",
         "name": "name",
         "type": "\"string\""
        },
        {
         "metadata": "{}",
         "name": "size",
         "type": "\"long\""
        },
        {
         "metadata": "{}",
         "name": "modificationTime",
         "type": "\"long\""
        }
       ],
       "type": "table"
      }
     },
     "output_type": "display_data"
    }
   ],
   "source": [
    "from pyspark.sql.functions import col\n",
    "data_BASE_DIR = \"dbfs:/mnt/mids-w261/\"\n",
    "display(dbutils.fs.ls(f\"{data_BASE_DIR}\"))\n",
    "# Airline Data    \n",
    "df_flights = spark.read.parquet(f\"dbfs:/mnt/mids-w261/datasets_final_project_2022/parquet_airlines_data/\")\n",
    "# Weather data\n",
    "df_weather = spark.read.parquet(f\"dbfs:/mnt/mids-w261/datasets_final_project_2022/parquet_weather_data/\")\n",
    "# Stations data      \n",
    "df_stations = spark.read.parquet(f\"dbfs:/mnt/mids-w261/datasets_final_project_2022/stations_data/stations_with_neighbors.parquet/\")\n",
    "\n"
   ]
  },
  {
   "cell_type": "code",
   "execution_count": 0,
   "metadata": {
    "application/vnd.databricks.v1+cell": {
     "cellMetadata": {
      "byteLimit": 2048000,
      "rowLimit": 10000
     },
     "inputWidgets": {},
     "nuid": "cdce05c7-2e93-48ad-90a5-66f9f3589726",
     "showTitle": false,
     "tableResultSettingsMap": {},
     "title": ""
    }
   },
   "outputs": [
    {
     "output_type": "display_data",
     "data": {
      "image/png": "[encoded data removed]",
      "text/plain": [
       "<Figure size 1000x600 with 1 Axes>"
      ]
     },
     "metadata": {},
     "output_type": "display_data"
    },
    {
     "output_type": "display_data",
     "data": {
      "image/png": "[encoded data removed]",
      "text/plain": [
       "<Figure size 1000x600 with 1 Axes>"
      ]
     },
     "metadata": {},
     "output_type": "display_data"
    }
   ],
   "source": [
    "import pandas as pd\n",
    "import seaborn as sns\n",
    "import matplotlib.pyplot as plt\n",
    "\n",
    "pdf = df_flights.select(\"ARR_DELAY\", \"DEP_DELAY\").dropna().sample(False, 0.01, seed=42).toPandas()\n",
    "\n",
    "plt.figure(figsize=(10, 6))\n",
    "sns.kdeplot(pdf[\"ARR_DELAY\"], fill=True)\n",
    "plt.title(\"KDE Plot of ARR_DELAY\")\n",
    "plt.xlabel(\"Arrival Delay (minutes)\")\n",
    "plt.ylabel(\"Density\")\n",
    "plt.show()\n",
    "\n",
    "plt.figure(figsize=(10, 6))\n",
    "sns.kdeplot(pdf[\"DEP_DELAY\"], fill=True)\n",
    "plt.title(\"KDE Plot of DEP_DELAY\")\n",
    "plt.xlabel(\"Departure Delay (minutes)\")\n",
    "plt.ylabel(\"Density\")\n",
    "plt.show()"
   ]
  },
  {
   "cell_type": "code",
   "execution_count": 0,
   "metadata": {
    "application/vnd.databricks.v1+cell": {
     "cellMetadata": {
      "byteLimit": 2048000,
      "rowLimit": 10000
     },
     "inputWidgets": {},
     "nuid": "c75acbd8-4837-4721-9349-3fb4e70631cb",
     "showTitle": false,
     "tableResultSettingsMap": {},
     "title": ""
    }
   },
   "outputs": [
    {
     "output_type": "display_data",
     "data": {
      "image/png": "[encoded data removed]",
      "text/plain": [
       "<Figure size 1200x600 with 1 Axes>"
      ]
     },
     "metadata": {},
     "output_type": "display_data"
    }
   ],
   "source": [
    "import pandas as pd\n",
    "import matplotlib.pyplot as plt\n",
    "\n",
    "pdf_avg_delay = (\n",
    "    df_flights\n",
    "    .groupBy(\"OP_UNIQUE_CARRIER\")\n",
    "    .agg({\"ARR_DELAY\": \"avg\", \"DEP_DELAY\": \"avg\"})\n",
    "    .withColumnRenamed(\"avg(ARR_DELAY)\", \"AVG_ARR_DELAY\")\n",
    "    .withColumnRenamed(\"avg(DEP_DELAY)\", \"AVG_DEP_DELAY\")\n",
    "    .orderBy(\"OP_UNIQUE_CARRIER\")\n",
    "    .toPandas()\n",
    ")\n",
    "\n",
    "plt.figure(figsize=(12, 6))\n",
    "plt.bar(pdf_avg_delay[\"OP_UNIQUE_CARRIER\"], pdf_avg_delay[\"AVG_ARR_DELAY\"], alpha=0.7, label=\"Arrival Delay\")\n",
    "plt.bar(pdf_avg_delay[\"OP_UNIQUE_CARRIER\"], pdf_avg_delay[\"AVG_DEP_DELAY\"], alpha=0.7, label=\"Departure Delay\")\n",
    "plt.xlabel(\"Carrier\")\n",
    "plt.ylabel(\"Average Delay (minutes)\")\n",
    "plt.title(\"Average Arrival and Departure Delay by Carrier\")\n",
    "plt.legend()\n",
    "plt.xticks(rotation=45)\n",
    "plt.tight_layout()\n",
    "plt.show()"
   ]
  },
  {
   "cell_type": "code",
   "execution_count": 0,
   "metadata": {
    "application/vnd.databricks.v1+cell": {
     "cellMetadata": {
      "byteLimit": 2048000,
      "rowLimit": 10000
     },
     "inputWidgets": {},
     "nuid": "751a5a07-7448-48ec-8609-c5e6fa3afc33",
     "showTitle": false,
     "tableResultSettingsMap": {},
     "title": ""
    }
   },
   "outputs": [
    {
     "output_type": "display_data",
     "data": {
      "text/html": [
       "<style scoped>\n",
       "  .table-result-container {\n",
       "    max-height: 300px;\n",
       "    overflow: auto;\n",
       "  }\n",
       "  table, th, td {\n",
       "    border: 1px solid black;\n",
       "    border-collapse: collapse;\n",
       "  }\n",
       "  th, td {\n",
       "    padding: 5px;\n",
       "  }\n",
       "  th {\n",
       "    text-align: left;\n",
       "  }\n",
       "</style><div class='table-result-container'><table class='table-result'><thead style='background-color: white'><tr><th>DAY_OF_WEEK</th><th>MONTH</th><th>FLIGHT_COUNT</th><th>AVG_ARR_DELAY</th><th>AVG_DEP_DELAY</th></tr></thead><tbody><tr><td>1</td><td>1</td><td>885596</td><td>5.852569251042199</td><td>11.397712918715582</td></tr><tr><td>2</td><td>1</td><td>874873</td><td>1.5848200057157844</td><td>7.768080060798543</td></tr><tr><td>3</td><td>1</td><td>881903</td><td>1.1700715080506021</td><td>7.105880922747402</td></tr><tr><td>4</td><td>1</td><td>906862</td><td>2.109414542277273</td><td>7.91595589389155</td></tr><tr><td>5</td><td>1</td><td>912356</td><td>3.4749238106368443</td><td>9.049064666627824</td></tr><tr><td>6</td><td>1</td><td>713253</td><td>1.9576220966366513</td><td>8.453559481308634</td></tr><tr><td>7</td><td>1</td><td>833761</td><td>5.098425075491077</td><td>10.87584409648502</td></tr><tr><td>1</td><td>2</td><td>860286</td><td>4.604451321977344</td><td>10.0568196197002</td></tr><tr><td>2</td><td>2</td><td>788918</td><td>2.7897831928826737</td><td>8.386594592626025</td></tr><tr><td>3</td><td>2</td><td>799735</td><td>4.064513637609914</td><td>9.10672769301421</td></tr><tr><td>4</td><td>2</td><td>834927</td><td>5.773105926936002</td><td>10.956172768359643</td></tr><tr><td>5</td><td>2</td><td>838000</td><td>5.119352117716224</td><td>10.757075130964738</td></tr><tr><td>6</td><td>2</td><td>668210</td><td>-0.19234959503421</td><td>6.736239208638563</td></tr><tr><td>7</td><td>2</td><td>751666</td><td>3.5170404321042814</td><td>9.457410223738474</td></tr><tr><td>1</td><td>3</td><td>942604</td><td>2.0817400276240354</td><td>7.942299104442152</td></tr><tr><td>2</td><td>3</td><td>937724</td><td>-0.030044261635445074</td><td>5.793457036150678</td></tr><tr><td>3</td><td>3</td><td>928578</td><td>1.0616836002389558</td><td>6.743009014994961</td></tr><tr><td>4</td><td>3</td><td>982184</td><td>3.9795268425841672</td><td>8.929427858187504</td></tr><tr><td>5</td><td>3</td><td>993618</td><td>4.664868968386023</td><td>9.750806824856225</td></tr><tr><td>6</td><td>3</td><td>806274</td><td>0.534987177674248</td><td>7.061795573822401</td></tr><tr><td>7</td><td>3</td><td>933907</td><td>1.7212505997404257</td><td>7.7929753770873</td></tr><tr><td>1</td><td>4</td><td>920439</td><td>5.264980220062363</td><td>10.757244756972916</td></tr><tr><td>2</td><td>4</td><td>839056</td><td>-0.03680470064300323</td><td>5.60114897522178</td></tr><tr><td>3</td><td>4</td><td>856897</td><td>0.021474928115491006</td><td>5.669619334747287</td></tr><tr><td>4</td><td>4</td><td>898312</td><td>3.3709385162042</td><td>8.464878757454763</td></tr><tr><td>5</td><td>4</td><td>888847</td><td>6.300192052693361</td><td>10.8943421893886</td></tr><tr><td>6</td><td>4</td><td>736643</td><td>0.8157822233462518</td><td>7.2030380824095</td></tr><tr><td>7</td><td>4</td><td>870183</td><td>3.239152782912547</td><td>9.028016383015402</td></tr><tr><td>1</td><td>5</td><td>899857</td><td>5.094287721073302</td><td>10.341883793686488</td></tr><tr><td>2</td><td>5</td><td>900499</td><td>3.5740264081941975</td><td>8.732398359576731</td></tr><tr><td>3</td><td>5</td><td>920783</td><td>4.578972082679921</td><td>9.552939294128032</td></tr><tr><td>4</td><td>5</td><td>914743</td><td>7.947652045165034</td><td>12.115345250411501</td></tr><tr><td>5</td><td>5</td><td>917214</td><td>4.512142326765494</td><td>9.687566364802148</td></tr><tr><td>6</td><td>5</td><td>708592</td><td>0.23443995575227572</td><td>6.774159436008677</td></tr><tr><td>7</td><td>5</td><td>845979</td><td>3.532993706347379</td><td>9.302291392010785</td></tr><tr><td>1</td><td>6</td><td>906435</td><td>10.033064391053472</td><td>14.5499299760127</td></tr><tr><td>2</td><td>6</td><td>898298</td><td>9.380967073503962</td><td>13.931352906293123</td></tr><tr><td>3</td><td>6</td><td>897242</td><td>7.17116480815538</td><td>11.793278885457173</td></tr><tr><td>4</td><td>6</td><td>932789</td><td>10.027895583344593</td><td>13.894846240345249</td></tr><tr><td>5</td><td>6</td><td>944464</td><td>8.472070315017119</td><td>12.925603078685244</td></tr><tr><td>6</td><td>6</td><td>809037</td><td>6.471278670163945</td><td>12.023503221177524</td></tr><tr><td>7</td><td>6</td><td>878959</td><td>9.854948178333519</td><td>14.560166090414137</td></tr><tr><td>1</td><td>7</td><td>995966</td><td>9.425872903310433</td><td>14.169425310570569</td></tr><tr><td>2</td><td>7</td><td>943140</td><td>7.445358620168267</td><td>12.318955883507593</td></tr><tr><td>3</td><td>7</td><td>950828</td><td>7.887985810020279</td><td>12.69214261603736</td></tr><tr><td>4</td><td>7</td><td>942041</td><td>10.011362254514502</td><td>14.461158488330357</td></tr><tr><td>5</td><td>7</td><td>976600</td><td>9.531466122800023</td><td>14.185340637472981</td></tr><tr><td>6</td><td>7</td><td>840369</td><td>6.245673204290565</td><td>12.09814734934562</td></tr><tr><td>7</td><td>7</td><td>960348</td><td>6.322080308350273</td><td>11.869573497814564</td></tr><tr><td>1</td><td>8</td><td>982001</td><td>7.6034530119428885</td><td>12.394078908483456</td></tr><tr><td>2</td><td>8</td><td>933318</td><td>7.431444626705402</td><td>11.878070039216887</td></tr><tr><td>3</td><td>8</td><td>968675</td><td>5.973755688589884</td><td>10.559274123556795</td></tr><tr><td>4</td><td>8</td><td>1006081</td><td>9.0283369742064</td><td>12.98341009915768</td></tr><tr><td>5</td><td>8</td><td>973907</td><td>8.149749829917889</td><td>12.679839792515438</td></tr><tr><td>6</td><td>8</td><td>817881</td><td>3.863462313082137</td><td>9.7932730375046</td></tr><tr><td>7</td><td>8</td><td>918967</td><td>4.97829658490543</td><td>10.573469784369673</td></tr><tr><td>1</td><td>9</td><td>884806</td><td>-0.14431619254128672</td><td>5.5812545279819235</td></tr><tr><td>2</td><td>9</td><td>845193</td><td>-0.7052552646529229</td><td>4.920094238461252</td></tr><tr><td>3</td><td>9</td><td>870861</td><td>-0.009737649023384089</td><td>5.068287562513716</td></tr><tr><td>4</td><td>9</td><td>899673</td><td>3.15142827774182</td><td>7.7215474791672065</td></tr><tr><td>5</td><td>9</td><td>914333</td><td>2.8472846373172898</td><td>7.900386076384957</td></tr><tr><td>6</td><td>9</td><td>723038</td><td>-3.831895032349484</td><td>3.237899607403253</td></tr><tr><td>7</td><td>9</td><td>864052</td><td>-1.7288698671486966</td><td>4.80735979626732</td></tr><tr><td>1</td><td>10</td><td>957477</td><td>1.7663474144784992</td><td>7.166639163424963</td></tr><tr><td>2</td><td>10</td><td>917714</td><td>-1.2540422707914896</td><td>4.373913997246946</td></tr><tr><td>3</td><td>10</td><td>897791</td><td>-1.0733781583468271</td><td>4.240756893908771</td></tr><tr><td>4</td><td>10</td><td>943607</td><td>3.329045850554388</td><td>8.036818814931253</td></tr><tr><td>5</td><td>10</td><td>925818</td><td>4.197208246303132</td><td>8.976102326861456</td></tr><tr><td>6</td><td>10</td><td>754413</td><td>-1.623852559887837</td><td>4.907980535474913</td></tr><tr><td>7</td><td>10</td><td>901480</td><td>1.994808276258012</td><td>7.614210914949319</td></tr><tr><td>1</td><td>11</td><td>911395</td><td>1.7308665011745497</td><td>7.881479150135867</td></tr><tr><td>2</td><td>11</td><td>858338</td><td>-0.3093199051576402</td><td>5.984576968100502</td></tr><tr><td>3</td><td>11</td><td>892336</td><td>-0.9967621939861253</td><td>4.932203829091495</td></tr><tr><td>4</td><td>11</td><td>843582</td><td>0.597552477694286</td><td>6.342360733675365</td></tr><tr><td>5</td><td>11</td><td>889908</td><td>1.3329370094075976</td><td>7.289125160053748</td></tr><tr><td>6</td><td>11</td><td>760644</td><td>-1.8723467098274715</td><td>5.124248216207071</td></tr><tr><td>7</td><td>11</td><td>879129</td><td>-0.276855288526567</td><td>6.3173734218851</td></tr><tr><td>1</td><td>12</td><td>898540</td><td>6.37586180668057</td><td>11.971723150574082</td></tr><tr><td>2</td><td>12</td><td>866109</td><td>3.3928974715653384</td><td>9.621719002056402</td></tr><tr><td>3</td><td>12</td><td>872049</td><td>4.163051558558014</td><td>9.863122854347461</td></tr><tr><td>4</td><td>12</td><td>921556</td><td>5.236871447010683</td><td>10.775214275462433</td></tr><tr><td>5</td><td>12</td><td>910708</td><td>5.702689385705288</td><td>11.065021038179989</td></tr><tr><td>6</td><td>12</td><td>790863</td><td>4.978790574274123</td><td>11.181775325001409</td></tr><tr><td>7</td><td>12</td><td>911395</td><td>6.022888471375084</td><td>11.958090653309558</td></tr></tbody></table></div>"
      ]
     },
     "metadata": {
      "application/vnd.databricks.v1+output": {
       "addedWidgets": {},
       "aggData": [],
       "aggError": "",
       "aggOverflow": false,
       "aggSchema": [],
       "aggSeriesLimitReached": false,
       "aggType": "",
       "arguments": {},
       "columnCustomDisplayInfos": {},
       "data": [
        [
         1,
         1,
         885596,
         5.852569251042199,
         11.397712918715582
        ],
        [
         2,
         1,
         874873,
         1.5848200057157844,
         7.768080060798543
        ],
        [
         3,
         1,
         881903,
         1.1700715080506021,
         7.105880922747402
        ],
        [
         4,
         1,
         906862,
         2.109414542277273,
         7.91595589389155
        ],
        [
         5,
         1,
         912356,
         3.4749238106368443,
         9.049064666627824
        ],
        [
         6,
         1,
         713253,
         1.9576220966366513,
         8.453559481308634
        ],
        [
         7,
         1,
         833761,
         5.098425075491077,
         10.87584409648502
        ],
        [
         1,
         2,
         860286,
         4.604451321977344,
         10.0568196197002
        ],
        [
         2,
         2,
         788918,
         2.7897831928826737,
         8.386594592626025
        ],
        [
         3,
         2,
         799735,
         4.064513637609914,
         9.10672769301421
        ],
        [
         4,
         2,
         834927,
         5.773105926936002,
         10.956172768359643
        ],
        [
         5,
         2,
         838000,
         5.119352117716224,
         10.757075130964738
        ],
        [
         6,
         2,
         668210,
         -0.19234959503421,
         6.736239208638563
        ],
        [
         7,
         2,
         751666,
         3.5170404321042814,
         9.457410223738474
        ],
        [
         1,
         3,
         942604,
         2.0817400276240354,
         7.942299104442152
        ],
        [
         2,
         3,
         937724,
         -0.030044261635445074,
         5.793457036150678
        ],
        [
         3,
         3,
         928578,
         1.0616836002389558,
         6.743009014994961
        ],
        [
         4,
         3,
         982184,
         3.9795268425841672,
         8.929427858187504
        ],
        [
         5,
         3,
         993618,
         4.664868968386023,
         9.750806824856225
        ],
        [
         6,
         3,
         806274,
         0.534987177674248,
         7.061795573822401
        ],
        [
         7,
         3,
         933907,
         1.7212505997404257,
         7.7929753770873
        ],
        [
         1,
         4,
         920439,
         5.264980220062363,
         10.757244756972916
        ],
        [
         2,
         4,
         839056,
         -0.03680470064300323,
         5.60114897522178
        ],
        [
         3,
         4,
         856897,
         0.021474928115491006,
         5.669619334747287
        ],
        [
         4,
         4,
         898312,
         3.3709385162042,
         8.464878757454763
        ],
        [
         5,
         4,
         888847,
         6.300192052693361,
         10.8943421893886
        ],
        [
         6,
         4,
         736643,
         0.8157822233462518,
         7.2030380824095
        ],
        [
         7,
         4,
         870183,
         3.239152782912547,
         9.028016383015402
        ],
        [
         1,
         5,
         899857,
         5.094287721073302,
         10.341883793686488
        ],
        [
         2,
         5,
         900499,
         3.5740264081941975,
         8.732398359576731
        ],
        [
         3,
         5,
         920783,
         4.578972082679921,
         9.552939294128032
        ],
        [
         4,
         5,
         914743,
         7.947652045165034,
         12.115345250411501
        ],
        [
         5,
         5,
         917214,
         4.512142326765494,
         9.687566364802148
        ],
        [
         6,
         5,
         708592,
         0.23443995575227572,
         6.774159436008677
        ],
        [
         7,
         5,
         845979,
         3.532993706347379,
         9.302291392010785
        ],
        [
         1,
         6,
         906435,
         10.033064391053472,
         14.5499299760127
        ],
        [
         2,
         6,
         898298,
         9.380967073503962,
         13.931352906293123
        ],
        [
         3,
         6,
         897242,
         7.17116480815538,
         11.793278885457173
        ],
        [
         4,
         6,
         932789,
         10.027895583344593,
         13.894846240345249
        ],
        [
         5,
         6,
         944464,
         8.472070315017119,
         12.925603078685244
        ],
        [
         6,
         6,
         809037,
         6.471278670163945,
         12.023503221177524
        ],
        [
         7,
         6,
         878959,
         9.854948178333519,
         14.560166090414137
        ],
        [
         1,
         7,
         995966,
         9.425872903310433,
         14.169425310570569
        ],
        [
         2,
         7,
         943140,
         7.445358620168267,
         12.318955883507593
        ],
        [
         3,
         7,
         950828,
         7.887985810020279,
         12.69214261603736
        ],
        [
         4,
         7,
         942041,
         10.011362254514502,
         14.461158488330357
        ],
        [
         5,
         7,
         976600,
         9.531466122800023,
         14.185340637472981
        ],
        [
         6,
         7,
         840369,
         6.245673204290565,
         12.09814734934562
        ],
        [
         7,
         7,
         960348,
         6.322080308350273,
         11.869573497814564
        ],
        [
         1,
         8,
         982001,
         7.6034530119428885,
         12.394078908483456
        ],
        [
         2,
         8,
         933318,
         7.431444626705402,
         11.878070039216887
        ],
        [
         3,
         8,
         968675,
         5.973755688589884,
         10.559274123556795
        ],
        [
         4,
         8,
         1006081,
         9.0283369742064,
         12.98341009915768
        ],
        [
         5,
         8,
         973907,
         8.149749829917889,
         12.679839792515438
        ],
        [
         6,
         8,
         817881,
         3.863462313082137,
         9.7932730375046
        ],
        [
         7,
         8,
         918967,
         4.97829658490543,
         10.573469784369673
        ],
        [
         1,
         9,
         884806,
         -0.14431619254128672,
         5.5812545279819235
        ],
        [
         2,
         9,
         845193,
         -0.7052552646529229,
         4.920094238461252
        ],
        [
         3,
         9,
         870861,
         -0.009737649023384089,
         5.068287562513716
        ],
        [
         4,
         9,
         899673,
         3.15142827774182,
         7.7215474791672065
        ],
        [
         5,
         9,
         914333,
         2.8472846373172898,
         7.900386076384957
        ],
        [
         6,
         9,
         723038,
         -3.831895032349484,
         3.237899607403253
        ],
        [
         7,
         9,
         864052,
         -1.7288698671486966,
         4.80735979626732
        ],
        [
         1,
         10,
         957477,
         1.7663474144784992,
         7.166639163424963
        ],
        [
         2,
         10,
         917714,
         -1.2540422707914896,
         4.373913997246946
        ],
        [
         3,
         10,
         897791,
         -1.0733781583468271,
         4.240756893908771
        ],
        [
         4,
         10,
         943607,
         3.329045850554388,
         8.036818814931253
        ],
        [
         5,
         10,
         925818,
         4.197208246303132,
         8.976102326861456
        ],
        [
         6,
         10,
         754413,
         -1.623852559887837,
         4.907980535474913
        ],
        [
         7,
         10,
         901480,
         1.994808276258012,
         7.614210914949319
        ],
        [
         1,
         11,
         911395,
         1.7308665011745497,
         7.881479150135867
        ],
        [
         2,
         11,
         858338,
         -0.3093199051576402,
         5.984576968100502
        ],
        [
         3,
         11,
         892336,
         -0.9967621939861253,
         4.932203829091495
        ],
        [
         4,
         11,
         843582,
         0.597552477694286,
         6.342360733675365
        ],
        [
         5,
         11,
         889908,
         1.3329370094075976,
         7.289125160053748
        ],
        [
         6,
         11,
         760644,
         -1.8723467098274715,
         5.124248216207071
        ],
        [
         7,
         11,
         879129,
         -0.276855288526567,
         6.3173734218851
        ],
        [
         1,
         12,
         898540,
         6.37586180668057,
         11.971723150574082
        ],
        [
         2,
         12,
         866109,
         3.3928974715653384,
         9.621719002056402
        ],
        [
         3,
         12,
         872049,
         4.163051558558014,
         9.863122854347461
        ],
        [
         4,
         12,
         921556,
         5.236871447010683,
         10.775214275462433
        ],
        [
         5,
         12,
         910708,
         5.702689385705288,
         11.065021038179989
        ],
        [
         6,
         12,
         790863,
         4.978790574274123,
         11.181775325001409
        ],
        [
         7,
         12,
         911395,
         6.022888471375084,
         11.958090653309558
        ]
       ],
       "datasetInfos": [],
       "dbfsResultPath": null,
       "isJsonSchema": true,
       "metadata": {},
       "overflow": false,
       "plotOptions": {
        "customPlotOptions": {},
        "displayType": "table",
        "pivotAggregation": null,
        "pivotColumns": null,
        "xColumns": null,
        "yColumns": null
       },
       "removedWidgets": [],
       "schema": [
        {
         "metadata": "{}",
         "name": "DAY_OF_WEEK",
         "type": "\"integer\""
        },
        {
         "metadata": "{}",
         "name": "MONTH",
         "type": "\"integer\""
        },
        {
         "metadata": "{}",
         "name": "FLIGHT_COUNT",
         "type": "\"long\""
        },
        {
         "metadata": "{}",
         "name": "AVG_ARR_DELAY",
         "type": "\"double\""
        },
        {
         "metadata": "{}",
         "name": "AVG_DEP_DELAY",
         "type": "\"double\""
        }
       ],
       "type": "table"
      }
     },
     "output_type": "display_data"
    }
   ],
   "source": [
    "df_trends = (\n",
    "    df_flights\n",
    "    .groupBy(\"DAY_OF_WEEK\", \"MONTH\")\n",
    "    .agg(\n",
    "        {\"ARR_DELAY\": \"avg\", \"DEP_DELAY\": \"avg\", \"*\": \"count\"}\n",
    "    )\n",
    "    .withColumnRenamed(\"avg(ARR_DELAY)\", \"AVG_ARR_DELAY\")\n",
    "    .withColumnRenamed(\"avg(DEP_DELAY)\", \"AVG_DEP_DELAY\")\n",
    "    .withColumnRenamed(\"count(1)\", \"FLIGHT_COUNT\")\n",
    "    .orderBy(\"MONTH\", \"DAY_OF_WEEK\")\n",
    ")\n",
    "\n",
    "display(df_trends)"
   ]
  },
  {
   "cell_type": "code",
   "execution_count": 0,
   "metadata": {
    "application/vnd.databricks.v1+cell": {
     "cellMetadata": {
      "byteLimit": 2048000,
      "rowLimit": 10000
     },
     "inputWidgets": {},
     "nuid": "3b3b33ae-9e37-441c-99b8-76e28bfad141",
     "showTitle": false,
     "tableResultSettingsMap": {},
     "title": ""
    }
   },
   "outputs": [],
   "source": [
    "from pyspark.sql.functions import to_date, col, row_number\n",
    "from pyspark.sql.window import Window\n",
    "\n",
    "# Step 1: Extract weather date\n",
    "df_weather = df_weather.withColumn(\"weather_date\", to_date(col(\"DATE\")))\n",
    "\n",
    "# Step 2: Convert flight date\n",
    "df_flights = df_flights.withColumn(\"flight_date\", to_date(col(\"FL_DATE\")))\n",
    "\n",
    "# Step 3: Filter df_weather to only records matching city names\n",
    "df_joined = df_flights.join(\n",
    "    df_weather,\n",
    "    (df_flights.flight_date == df_weather.weather_date) &\n",
    "    (col(\"NAME\").contains(col(\"ORIGIN_CITY_NAME\").substr(1, 10))),  # Loose match on city name prefix\n",
    "    how=\"inner\"\n",
    ")\n"
   ]
  },
  {
   "cell_type": "markdown",
   "metadata": {
    "application/vnd.databricks.v1+cell": {
     "cellMetadata": {
      "byteLimit": 2048000,
      "rowLimit": 10000
     },
     "inputWidgets": {},
     "nuid": "1b0ac458-599a-4c86-8365-a4ec7a6ebef6",
     "showTitle": false,
     "tableResultSettingsMap": {},
     "title": ""
    }
   },
   "source": [
    "# Need to create clean df before even running model. processing cannot handle such large amounts of data"
   ]
  },
  {
   "cell_type": "code",
   "execution_count": 0,
   "metadata": {
    "application/vnd.databricks.v1+cell": {
     "cellMetadata": {
      "byteLimit": 2048000,
      "rowLimit": 10000
     },
     "inputWidgets": {},
     "nuid": "e87c2bbb-fd59-44e9-b438-ad4571bf6a71",
     "showTitle": false,
     "tableResultSettingsMap": {},
     "title": ""
    }
   },
   "outputs": [
    {
     "output_type": "stream",
     "name": "stdout",
     "output_type": "stream",
     "text": [
      "root\n |-- QUARTER: integer (nullable = true)\n |-- MONTH: integer (nullable = true)\n |-- DAY_OF_MONTH: integer (nullable = true)\n |-- DAY_OF_WEEK: integer (nullable = true)\n |-- FL_DATE: string (nullable = true)\n |-- OP_UNIQUE_CARRIER: string (nullable = true)\n |-- OP_CARRIER_AIRLINE_ID: integer (nullable = true)\n |-- OP_CARRIER: string (nullable = true)\n |-- OP_CARRIER_FL_NUM: integer (nullable = true)\n |-- ORIGIN_AIRPORT_ID: integer (nullable = true)\n |-- ORIGIN_AIRPORT_SEQ_ID: integer (nullable = true)\n |-- ORIGIN_CITY_MARKET_ID: integer (nullable = true)\n |-- ORIGIN: string (nullable = true)\n |-- ORIGIN_CITY_NAME: string (nullable = true)\n |-- ORIGIN_STATE_ABR: string (nullable = true)\n |-- ORIGIN_STATE_FIPS: integer (nullable = true)\n |-- ORIGIN_STATE_NM: string (nullable = true)\n |-- ORIGIN_WAC: integer (nullable = true)\n |-- DEST_AIRPORT_ID: integer (nullable = true)\n |-- DEST_AIRPORT_SEQ_ID: integer (nullable = true)\n |-- DEST_CITY_MARKET_ID: integer (nullable = true)\n |-- DEST: string (nullable = true)\n |-- DEST_CITY_NAME: string (nullable = true)\n |-- DEST_STATE_ABR: string (nullable = true)\n |-- DEST_STATE_FIPS: integer (nullable = true)\n |-- DEST_STATE_NM: string (nullable = true)\n |-- DEST_WAC: integer (nullable = true)\n |-- CRS_DEP_TIME: integer (nullable = true)\n |-- DEP_TIME_BLK: string (nullable = true)\n |-- CRS_ARR_TIME: integer (nullable = true)\n |-- ARR_TIME_BLK: string (nullable = true)\n |-- CANCELLED: double (nullable = true)\n |-- DIVERTED: double (nullable = true)\n |-- FLIGHTS: double (nullable = true)\n |-- DISTANCE: double (nullable = true)\n |-- DISTANCE_GROUP: integer (nullable = true)\n |-- YEAR: integer (nullable = true)\n |-- flight_date: date (nullable = true)\n\n+-------+-----+------------+-----------+----------+-----------------+---------------------+----------+-----------------+-----------------+---------------------+---------------------+------+----------------+----------------+-----------------+---------------+----------+---------------+-------------------+-------------------+----+----------------+--------------+---------------+-------------+--------+------------+------------+------------+------------+---------+--------+-------+--------+--------------+----+-----------+\n|QUARTER|MONTH|DAY_OF_MONTH|DAY_OF_WEEK|   FL_DATE|OP_UNIQUE_CARRIER|OP_CARRIER_AIRLINE_ID|OP_CARRIER|OP_CARRIER_FL_NUM|ORIGIN_AIRPORT_ID|ORIGIN_AIRPORT_SEQ_ID|ORIGIN_CITY_MARKET_ID|ORIGIN|ORIGIN_CITY_NAME|ORIGIN_STATE_ABR|ORIGIN_STATE_FIPS|ORIGIN_STATE_NM|ORIGIN_WAC|DEST_AIRPORT_ID|DEST_AIRPORT_SEQ_ID|DEST_CITY_MARKET_ID|DEST|  DEST_CITY_NAME|DEST_STATE_ABR|DEST_STATE_FIPS|DEST_STATE_NM|DEST_WAC|CRS_DEP_TIME|DEP_TIME_BLK|CRS_ARR_TIME|ARR_TIME_BLK|CANCELLED|DIVERTED|FLIGHTS|DISTANCE|DISTANCE_GROUP|YEAR|flight_date|\n+-------+-----+------------+-----------+----------+-----------------+---------------------+----------+-----------------+-----------------+---------------------+---------------------+------+----------------+----------------+-----------------+---------------+----------+---------------+-------------------+-------------------+----+----------------+--------------+---------------+-------------+--------+------------+------------+------------+------------+---------+--------+-------+--------+--------------+----+-----------+\n|      2|    6|           4|          2|2019-06-04|               YX|                20452|        YX|             5927|            14100|              1410005|                34100|   PHL|Philadelphia, PA|              PA|               42|   Pennsylvania|        23|          10721|            1072102|              30721| BOS|      Boston, MA|            MA|             25|Massachusetts|      13|        1640|   1600-1659|        1814|   1800-1859|      0.0|     0.0|    1.0|   280.0|             2|2019| 2019-06-04|\n|      2|    5|          19|          7|2019-05-19|               UA|                19977|        UA|              226|            13487|              1348702|                31650|   MSP| Minneapolis, MN|              MN|               27|      Minnesota|        63|          13930|            1393007|              30977| ORD|     Chicago, IL|            IL|             17|     Illinois|      41|        1830|   1800-1859|        2007|   2000-2059|      0.0|     0.0|    1.0|   334.0|             2|2019| 2019-05-19|\n|      2|    6|           4|          2|2019-06-04|               YX|                20452|        YX|             5928|            14122|              1412202|                30198|   PIT|  Pittsburgh, PA|              PA|               42|   Pennsylvania|        23|          12953|            1295304|              31703| LGA|    New York, NY|            NY|             36|     New York|      22|        1610|   1600-1659|        1745|   1700-1759|      0.0|     0.0|    1.0|   335.0|             2|2019| 2019-06-04|\n|      2|    5|          19|          7|2019-05-19|               UA|                19977|        UA|              225|            12266|              1226603|                31453|   IAH|     Houston, TX|              TX|               48|          Texas|        74|          13303|            1330303|              32467| MIA|       Miami, FL|            FL|             12|      Florida|      33|        1155|   1100-1159|        1525|   1500-1559|      0.0|     0.0|    1.0|   964.0|             4|2019| 2019-05-19|\n|      2|    6|           4|          2|2019-06-04|               YX|                20452|        YX|             5929|            10721|              1072102|                30721|   BOS|      Boston, MA|              MA|               25|  Massachusetts|        13|          12451|            1245102|              31136| JAX|Jacksonville, FL|            FL|             12|      Florida|      33|        1454|   1400-1459|        1752|   1700-1759|      0.0|     0.0|    1.0|  1010.0|             5|2019| 2019-06-04|\n+-------+-----+------------+-----------+----------+-----------------+---------------------+----------+-----------------+-----------------+---------------------+---------------------+------+----------------+----------------+-----------------+---------------+----------+---------------+-------------------+-------------------+----+----------------+--------------+---------------+-------------+--------+------------+------------+------------+------------+---------+--------+-------+--------+--------------+----+-----------+\nonly showing top 5 rows\nlength: 74177433\n"
     ]
    }
   ],
   "source": [
    "import pyspark.sql.functions as F\n",
    "\n",
    "# Step 1: Compute NULL counts per column\n",
    "null_counts_row = df_flights.select([\n",
    "    F.count(F.when(F.col(column).isNull(), column)).alias(column) \n",
    "    for column in df_flights.columns\n",
    "]).first()\n",
    "\n",
    "# Step 2: Identify columns with zero NULLs\n",
    "non_null_cols = [col for col, null_count in null_counts_row.asDict().items() if null_count == 0]\n",
    "\n",
    "# Step 3: Create new DataFrame with only non-null columns\n",
    "df_no_null_cols = df_flights.select(non_null_cols)\n",
    "\n",
    "# Optional: Check schema or display\n",
    "df_no_null_cols.printSchema()\n",
    "df_no_null_cols.show(5)\n",
    "print(\"length:\", df_no_null_cols.count())\n"
   ]
  },
  {
   "cell_type": "code",
   "execution_count": 0,
   "metadata": {
    "application/vnd.databricks.v1+cell": {
     "cellMetadata": {
      "byteLimit": 2048000,
      "rowLimit": 10000
     },
     "inputWidgets": {},
     "nuid": "b687173a-ee3f-456d-89af-0ba7737b8abe",
     "showTitle": false,
     "tableResultSettingsMap": {
      "0": {
       "dataGridStateBlob": "{\"version\":1,\"tableState\":{\"columnPinning\":{\"left\":[\"#row_number#\"],\"right\":[]},\"columnSizing\":{\"path\":358},\"columnVisibility\":{}},\"settings\":{\"columns\":{}},\"syncTimestamp\":1752802132276}",
       "filterBlob": null,
       "queryPlanFiltersBlob": null,
       "tableResultIndex": 0
      }
     },
     "title": ""
    }
   },
   "outputs": [
    {
     "output_type": "display_data",
     "data": {
      "text/html": [
       "<style scoped>\n",
       "  .table-result-container {\n",
       "    max-height: 300px;\n",
       "    overflow: auto;\n",
       "  }\n",
       "  table, th, td {\n",
       "    border: 1px solid black;\n",
       "    border-collapse: collapse;\n",
       "  }\n",
       "  th, td {\n",
       "    padding: 5px;\n",
       "  }\n",
       "  th {\n",
       "    text-align: left;\n",
       "  }\n",
       "</style><div class='table-result-container'><table class='table-result'><thead style='background-color: white'><tr><th>path</th><th>name</th><th>size</th><th>modificationTime</th></tr></thead><tbody><tr><td>dbfs:/mnt/mids-w261/HW5/</td><td>HW5/</td><td>0</td><td>1752850207738</td></tr><tr><td>dbfs:/mnt/mids-w261/OTPW_12M/</td><td>OTPW_12M/</td><td>0</td><td>1752850207738</td></tr><tr><td>dbfs:/mnt/mids-w261/OTPW_1D_CSV/</td><td>OTPW_1D_CSV/</td><td>0</td><td>1752850207738</td></tr><tr><td>dbfs:/mnt/mids-w261/OTPW_36M/</td><td>OTPW_36M/</td><td>0</td><td>1752850207738</td></tr><tr><td>dbfs:/mnt/mids-w261/OTPW_3M/</td><td>OTPW_3M/</td><td>0</td><td>1752850207738</td></tr><tr><td>dbfs:/mnt/mids-w261/OTPW_3M_2015.csv</td><td>OTPW_3M_2015.csv</td><td>1500620247</td><td>1741625185000</td></tr><tr><td>dbfs:/mnt/mids-w261/OTPW_3M_2015_delta/</td><td>OTPW_3M_2015_delta/</td><td>0</td><td>1752850207738</td></tr><tr><td>dbfs:/mnt/mids-w261/OTPW_60M/</td><td>OTPW_60M/</td><td>0</td><td>1752850207738</td></tr><tr><td>dbfs:/mnt/mids-w261/OTPW_60M_Backup/</td><td>OTPW_60M_Backup/</td><td>0</td><td>1752850207738</td></tr><tr><td>dbfs:/mnt/mids-w261/airport-codes_csv.csv</td><td>airport-codes_csv.csv</td><td>6232459</td><td>1740508595000</td></tr><tr><td>dbfs:/mnt/mids-w261/datasets_final_project/</td><td>datasets_final_project/</td><td>0</td><td>1752850207738</td></tr><tr><td>dbfs:/mnt/mids-w261/datasets_final_project_2022/</td><td>datasets_final_project_2022/</td><td>0</td><td>1752850207738</td></tr><tr><td>dbfs:/mnt/mids-w261/final_project_winter_2025/</td><td>final_project_winter_2025/</td><td>0</td><td>1752850207738</td></tr><tr><td>dbfs:/mnt/mids-w261/student-groups/</td><td>student-groups/</td><td>0</td><td>1752850207738</td></tr><tr><td>dbfs:/mnt/mids-w261/students-groups/</td><td>students-groups/</td><td>0</td><td>1752850207738</td></tr></tbody></table></div>"
      ]
     },
     "metadata": {
      "application/vnd.databricks.v1+output": {
       "addedWidgets": {},
       "aggData": [],
       "aggError": "",
       "aggOverflow": false,
       "aggSchema": [],
       "aggSeriesLimitReached": false,
       "aggType": "",
       "arguments": {},
       "columnCustomDisplayInfos": {},
       "data": [
        [
         "dbfs:/mnt/mids-w261/HW5/",
         "HW5/",
         0,
         1752850207738
        ],
        [
         "dbfs:/mnt/mids-w261/OTPW_12M/",
         "OTPW_12M/",
         0,
         1752850207738
        ],
        [
         "dbfs:/mnt/mids-w261/OTPW_1D_CSV/",
         "OTPW_1D_CSV/",
         0,
         1752850207738
        ],
        [
         "dbfs:/mnt/mids-w261/OTPW_36M/",
         "OTPW_36M/",
         0,
         1752850207738
        ],
        [
         "dbfs:/mnt/mids-w261/OTPW_3M/",
         "OTPW_3M/",
         0,
         1752850207738
        ],
        [
         "dbfs:/mnt/mids-w261/OTPW_3M_2015.csv",
         "OTPW_3M_2015.csv",
         1500620247,
         1741625185000
        ],
        [
         "dbfs:/mnt/mids-w261/OTPW_3M_2015_delta/",
         "OTPW_3M_2015_delta/",
         0,
         1752850207738
        ],
        [
         "dbfs:/mnt/mids-w261/OTPW_60M/",
         "OTPW_60M/",
         0,
         1752850207738
        ],
        [
         "dbfs:/mnt/mids-w261/OTPW_60M_Backup/",
         "OTPW_60M_Backup/",
         0,
         1752850207738
        ],
        [
         "dbfs:/mnt/mids-w261/airport-codes_csv.csv",
         "airport-codes_csv.csv",
         6232459,
         1740508595000
        ],
        [
         "dbfs:/mnt/mids-w261/datasets_final_project/",
         "datasets_final_project/",
         0,
         1752850207738
        ],
        [
         "dbfs:/mnt/mids-w261/datasets_final_project_2022/",
         "datasets_final_project_2022/",
         0,
         1752850207738
        ],
        [
         "dbfs:/mnt/mids-w261/final_project_winter_2025/",
         "final_project_winter_2025/",
         0,
         1752850207738
        ],
        [
         "dbfs:/mnt/mids-w261/student-groups/",
         "student-groups/",
         0,
         1752850207738
        ],
        [
         "dbfs:/mnt/mids-w261/students-groups/",
         "students-groups/",
         0,
         1752850207738
        ]
       ],
       "datasetInfos": [],
       "dbfsResultPath": null,
       "isJsonSchema": true,
       "metadata": {},
       "overflow": false,
       "plotOptions": {
        "customPlotOptions": {},
        "displayType": "table",
        "pivotAggregation": null,
        "pivotColumns": null,
        "xColumns": null,
        "yColumns": null
       },
       "removedWidgets": [],
       "schema": [
        {
         "metadata": "{}",
         "name": "path",
         "type": "\"string\""
        },
        {
         "metadata": "{}",
         "name": "name",
         "type": "\"string\""
        },
        {
         "metadata": "{}",
         "name": "size",
         "type": "\"long\""
        },
        {
         "metadata": "{}",
         "name": "modificationTime",
         "type": "\"long\""
        }
       ],
       "type": "table"
      }
     },
     "output_type": "display_data"
    }
   ],
   "source": [
    "from pyspark.sql.functions import col\n",
    "data_BASE_DIR = \"dbfs:/mnt/mids-w261/\"\n",
    "display(dbutils.fs.ls(f\"{data_BASE_DIR}\"))\n",
    "# Airline Data    \n",
    "df_flights1 = spark.read.parquet(f\"dbfs:/mnt/mids-w261/datasets_final_project_2022/parquet_airlines_data_1y/\")\n",
    "# Weather data\n",
    "df_weather1 = spark.read.parquet(f\"dbfs:/mnt/mids-w261/datasets_final_project_2022/parquet_weather_data_1y/\")\n",
    "# Stations data      \n",
    "#df_stations = spark.read.parquet(f\"dbfs:/mnt/mids-w261/datasets_final_project_2022/stations_data/stations_with_neighbors.parquet/\")\n",
    "# OTPW\n",
    "#df_otpw = spark.read.format(\"csv\").option(\"header\",\"true\").load(f\"dbfs:/mnt/mids-w261/OTPW_3M_2015.csv\")\n",
    "    "
   ]
  },
  {
   "cell_type": "code",
   "execution_count": 0,
   "metadata": {
    "application/vnd.databricks.v1+cell": {
     "cellMetadata": {
      "byteLimit": 2048000,
      "rowLimit": 10000
     },
     "inputWidgets": {},
     "nuid": "5b99d8db-52f0-4535-b84a-1e65c229b8fc",
     "showTitle": false,
     "tableResultSettingsMap": {},
     "title": ""
    }
   },
   "outputs": [
    {
     "output_type": "execute_result",
     "data": {
      "text/plain": [
       "['QUARTER',\n",
       " 'MONTH',\n",
       " 'DAY_OF_MONTH',\n",
       " 'DAY_OF_WEEK',\n",
       " 'FL_DATE',\n",
       " 'OP_UNIQUE_CARRIER',\n",
       " 'OP_CARRIER_AIRLINE_ID',\n",
       " 'OP_CARRIER',\n",
       " 'TAIL_NUM',\n",
       " 'OP_CARRIER_FL_NUM',\n",
       " 'ORIGIN_AIRPORT_ID',\n",
       " 'ORIGIN_AIRPORT_SEQ_ID',\n",
       " 'ORIGIN_CITY_MARKET_ID',\n",
       " 'ORIGIN',\n",
       " 'ORIGIN_CITY_NAME',\n",
       " 'ORIGIN_STATE_ABR',\n",
       " 'ORIGIN_STATE_FIPS',\n",
       " 'ORIGIN_STATE_NM',\n",
       " 'ORIGIN_WAC',\n",
       " 'DEST_AIRPORT_ID',\n",
       " 'DEST_AIRPORT_SEQ_ID',\n",
       " 'DEST_CITY_MARKET_ID',\n",
       " 'DEST',\n",
       " 'DEST_CITY_NAME',\n",
       " 'DEST_STATE_ABR',\n",
       " 'DEST_STATE_FIPS',\n",
       " 'DEST_STATE_NM',\n",
       " 'DEST_WAC',\n",
       " 'CRS_DEP_TIME',\n",
       " 'DEP_TIME',\n",
       " 'DEP_DELAY',\n",
       " 'DEP_DELAY_NEW',\n",
       " 'DEP_DEL15',\n",
       " 'DEP_DELAY_GROUP',\n",
       " 'DEP_TIME_BLK',\n",
       " 'TAXI_OUT',\n",
       " 'WHEELS_OFF',\n",
       " 'WHEELS_ON',\n",
       " 'TAXI_IN',\n",
       " 'CRS_ARR_TIME',\n",
       " 'ARR_TIME',\n",
       " 'ARR_DELAY',\n",
       " 'ARR_DELAY_NEW',\n",
       " 'ARR_DEL15',\n",
       " 'ARR_DELAY_GROUP',\n",
       " 'ARR_TIME_BLK',\n",
       " 'CANCELLED',\n",
       " 'CANCELLATION_CODE',\n",
       " 'DIVERTED',\n",
       " 'CRS_ELAPSED_TIME',\n",
       " 'ACTUAL_ELAPSED_TIME',\n",
       " 'AIR_TIME',\n",
       " 'FLIGHTS',\n",
       " 'DISTANCE',\n",
       " 'DISTANCE_GROUP',\n",
       " 'CARRIER_DELAY',\n",
       " 'WEATHER_DELAY',\n",
       " 'NAS_DELAY',\n",
       " 'SECURITY_DELAY',\n",
       " 'LATE_AIRCRAFT_DELAY',\n",
       " 'FIRST_DEP_TIME',\n",
       " 'TOTAL_ADD_GTIME',\n",
       " 'LONGEST_ADD_GTIME',\n",
       " 'DIV_AIRPORT_LANDINGS',\n",
       " 'DIV_REACHED_DEST',\n",
       " 'DIV_ACTUAL_ELAPSED_TIME',\n",
       " 'DIV_ARR_DELAY',\n",
       " 'DIV_DISTANCE',\n",
       " 'DIV1_AIRPORT',\n",
       " 'DIV1_AIRPORT_ID',\n",
       " 'DIV1_AIRPORT_SEQ_ID',\n",
       " 'DIV1_WHEELS_ON',\n",
       " 'DIV1_TOTAL_GTIME',\n",
       " 'DIV1_LONGEST_GTIME',\n",
       " 'DIV1_WHEELS_OFF',\n",
       " 'DIV1_TAIL_NUM',\n",
       " 'DIV2_AIRPORT',\n",
       " 'DIV2_AIRPORT_ID',\n",
       " 'DIV2_AIRPORT_SEQ_ID',\n",
       " 'DIV2_WHEELS_ON',\n",
       " 'DIV2_TOTAL_GTIME',\n",
       " 'DIV2_LONGEST_GTIME',\n",
       " 'DIV2_WHEELS_OFF',\n",
       " 'DIV2_TAIL_NUM',\n",
       " 'DIV3_AIRPORT',\n",
       " 'DIV3_AIRPORT_ID',\n",
       " 'DIV3_AIRPORT_SEQ_ID',\n",
       " 'DIV3_WHEELS_ON',\n",
       " 'DIV3_TOTAL_GTIME',\n",
       " 'DIV3_LONGEST_GTIME',\n",
       " 'DIV3_WHEELS_OFF',\n",
       " 'DIV3_TAIL_NUM',\n",
       " 'DIV4_AIRPORT',\n",
       " 'DIV4_AIRPORT_ID',\n",
       " 'DIV4_AIRPORT_SEQ_ID',\n",
       " 'DIV4_WHEELS_ON',\n",
       " 'DIV4_TOTAL_GTIME',\n",
       " 'DIV4_LONGEST_GTIME',\n",
       " 'DIV4_WHEELS_OFF',\n",
       " 'DIV4_TAIL_NUM',\n",
       " 'DIV5_AIRPORT',\n",
       " 'DIV5_AIRPORT_ID',\n",
       " 'DIV5_AIRPORT_SEQ_ID',\n",
       " 'DIV5_WHEELS_ON',\n",
       " 'DIV5_TOTAL_GTIME',\n",
       " 'DIV5_LONGEST_GTIME',\n",
       " 'DIV5_WHEELS_OFF',\n",
       " 'DIV5_TAIL_NUM',\n",
       " 'YEAR']"
      ]
     },
     "execution_count": 28,
     "metadata": {},
     "output_type": "execute_result"
    }
   ],
   "source": [
    "df_flights1.columns"
   ]
  },
  {
   "cell_type": "code",
   "execution_count": 0,
   "metadata": {
    "application/vnd.databricks.v1+cell": {
     "cellMetadata": {
      "byteLimit": 2048000,
      "rowLimit": 10000
     },
     "inputWidgets": {},
     "nuid": "3971f190-a6f9-494a-aea2-c15cdfaf3ed0",
     "showTitle": false,
     "tableResultSettingsMap": {},
     "title": ""
    }
   },
   "outputs": [
    {
     "output_type": "execute_result",
     "data": {
      "text/plain": [
       "['STATION',\n",
       " 'DATE',\n",
       " 'LATITUDE',\n",
       " 'LONGITUDE',\n",
       " 'ELEVATION',\n",
       " 'NAME',\n",
       " 'REPORT_TYPE',\n",
       " 'SOURCE',\n",
       " 'HourlyAltimeterSetting',\n",
       " 'HourlyDewPointTemperature',\n",
       " 'HourlyDryBulbTemperature',\n",
       " 'HourlyPrecipitation',\n",
       " 'HourlyPresentWeatherType',\n",
       " 'HourlyPressureChange',\n",
       " 'HourlyPressureTendency',\n",
       " 'HourlyRelativeHumidity',\n",
       " 'HourlySkyConditions',\n",
       " 'HourlySeaLevelPressure',\n",
       " 'HourlyStationPressure',\n",
       " 'HourlyVisibility',\n",
       " 'HourlyWetBulbTemperature',\n",
       " 'HourlyWindDirection',\n",
       " 'HourlyWindGustSpeed',\n",
       " 'HourlyWindSpeed',\n",
       " 'Sunrise',\n",
       " 'Sunset',\n",
       " 'DailyAverageDewPointTemperature',\n",
       " 'DailyAverageDryBulbTemperature',\n",
       " 'DailyAverageRelativeHumidity',\n",
       " 'DailyAverageSeaLevelPressure',\n",
       " 'DailyAverageStationPressure',\n",
       " 'DailyAverageWetBulbTemperature',\n",
       " 'DailyAverageWindSpeed',\n",
       " 'DailyCoolingDegreeDays',\n",
       " 'DailyDepartureFromNormalAverageTemperature',\n",
       " 'DailyHeatingDegreeDays',\n",
       " 'DailyMaximumDryBulbTemperature',\n",
       " 'DailyMinimumDryBulbTemperature',\n",
       " 'DailyPeakWindDirection',\n",
       " 'DailyPeakWindSpeed',\n",
       " 'DailyPrecipitation',\n",
       " 'DailySnowDepth',\n",
       " 'DailySnowfall',\n",
       " 'DailySustainedWindDirection',\n",
       " 'DailySustainedWindSpeed',\n",
       " 'DailyWeather',\n",
       " 'MonthlyAverageRH',\n",
       " 'MonthlyDaysWithGT001Precip',\n",
       " 'MonthlyDaysWithGT010Precip',\n",
       " 'MonthlyDaysWithGT32Temp',\n",
       " 'MonthlyDaysWithGT90Temp',\n",
       " 'MonthlyDaysWithLT0Temp',\n",
       " 'MonthlyDaysWithLT32Temp',\n",
       " 'MonthlyDepartureFromNormalAverageTemperature',\n",
       " 'MonthlyDepartureFromNormalCoolingDegreeDays',\n",
       " 'MonthlyDepartureFromNormalHeatingDegreeDays',\n",
       " 'MonthlyDepartureFromNormalMaximumTemperature',\n",
       " 'MonthlyDepartureFromNormalMinimumTemperature',\n",
       " 'MonthlyDepartureFromNormalPrecipitation',\n",
       " 'MonthlyDewpointTemperature',\n",
       " 'MonthlyGreatestPrecip',\n",
       " 'MonthlyGreatestPrecipDate',\n",
       " 'MonthlyGreatestSnowDepth',\n",
       " 'MonthlyGreatestSnowDepthDate',\n",
       " 'MonthlyGreatestSnowfall',\n",
       " 'MonthlyGreatestSnowfallDate',\n",
       " 'MonthlyMaxSeaLevelPressureValue',\n",
       " 'MonthlyMaxSeaLevelPressureValueDate',\n",
       " 'MonthlyMaxSeaLevelPressureValueTime',\n",
       " 'MonthlyMaximumTemperature',\n",
       " 'MonthlyMeanTemperature',\n",
       " 'MonthlyMinSeaLevelPressureValue',\n",
       " 'MonthlyMinSeaLevelPressureValueDate',\n",
       " 'MonthlyMinSeaLevelPressureValueTime',\n",
       " 'MonthlyMinimumTemperature',\n",
       " 'MonthlySeaLevelPressure',\n",
       " 'MonthlyStationPressure',\n",
       " 'MonthlyTotalLiquidPrecipitation',\n",
       " 'MonthlyTotalSnowfall',\n",
       " 'MonthlyWetBulb',\n",
       " 'AWND',\n",
       " 'CDSD',\n",
       " 'CLDD',\n",
       " 'DSNW',\n",
       " 'HDSD',\n",
       " 'HTDD',\n",
       " 'NormalsCoolingDegreeDay',\n",
       " 'NormalsHeatingDegreeDay',\n",
       " 'ShortDurationEndDate005',\n",
       " 'ShortDurationEndDate010',\n",
       " 'ShortDurationEndDate015',\n",
       " 'ShortDurationEndDate020',\n",
       " 'ShortDurationEndDate030',\n",
       " 'ShortDurationEndDate045',\n",
       " 'ShortDurationEndDate060',\n",
       " 'ShortDurationEndDate080',\n",
       " 'ShortDurationEndDate100',\n",
       " 'ShortDurationEndDate120',\n",
       " 'ShortDurationEndDate150',\n",
       " 'ShortDurationEndDate180',\n",
       " 'ShortDurationPrecipitationValue005',\n",
       " 'ShortDurationPrecipitationValue010',\n",
       " 'ShortDurationPrecipitationValue015',\n",
       " 'ShortDurationPrecipitationValue020',\n",
       " 'ShortDurationPrecipitationValue030',\n",
       " 'ShortDurationPrecipitationValue045',\n",
       " 'ShortDurationPrecipitationValue060',\n",
       " 'ShortDurationPrecipitationValue080',\n",
       " 'ShortDurationPrecipitationValue100',\n",
       " 'ShortDurationPrecipitationValue120',\n",
       " 'ShortDurationPrecipitationValue150',\n",
       " 'ShortDurationPrecipitationValue180',\n",
       " 'REM',\n",
       " 'BackupDirection',\n",
       " 'BackupDistance',\n",
       " 'BackupDistanceUnit',\n",
       " 'BackupElements',\n",
       " 'BackupElevation',\n",
       " 'BackupEquipment',\n",
       " 'BackupLatitude',\n",
       " 'BackupLongitude',\n",
       " 'BackupName',\n",
       " 'WindEquipmentChangeDate',\n",
       " 'YEAR']"
      ]
     },
     "execution_count": 29,
     "metadata": {},
     "output_type": "execute_result"
    }
   ],
   "source": [
    "df_weather1.columns"
   ]
  },
  {
   "cell_type": "code",
   "execution_count": 0,
   "metadata": {
    "application/vnd.databricks.v1+cell": {
     "cellMetadata": {
      "byteLimit": 2048000,
      "rowLimit": 10000
     },
     "inputWidgets": {},
     "nuid": "d352369e-4609-4852-8398-5957df009e85",
     "showTitle": false,
     "tableResultSettingsMap": {},
     "title": ""
    }
   },
   "outputs": [
    {
     "output_type": "stream",
     "name": "stdout",
     "output_type": "stream",
     "text": [
      "+------+\n|SOURCE|\n+------+\n|4     |\n|4     |\n|4     |\n|4     |\n|4     |\n+------+\nonly showing top 5 rows\n"
     ]
    }
   ],
   "source": [
    "df_weather1.select(\"SOURCE\").show(5, truncate=False)"
   ]
  },
  {
   "cell_type": "code",
   "execution_count": 0,
   "metadata": {
    "application/vnd.databricks.v1+cell": {
     "cellMetadata": {
      "byteLimit": 2048000,
      "rowLimit": 10000
     },
     "inputWidgets": {},
     "nuid": "4e9da562-0638-49e8-bb06-a333032a6111",
     "showTitle": false,
     "tableResultSettingsMap": {},
     "title": ""
    }
   },
   "outputs": [
    {
     "output_type": "stream",
     "name": "stdout",
     "output_type": "stream",
     "text": [
      "+-----------------+\n|ORIGIN_AIRPORT_ID|\n+-----------------+\n|14100            |\n|13487            |\n|14122            |\n|12266            |\n|10721            |\n+-----------------+\nonly showing top 5 rows\n"
     ]
    }
   ],
   "source": [
    "df_flights1.select(\"ORIGIN_AIRPORT_ID\").show(5, truncate=False)"
   ]
  },
  {
   "cell_type": "code",
   "execution_count": 0,
   "metadata": {
    "application/vnd.databricks.v1+cell": {
     "cellMetadata": {
      "byteLimit": 2048000,
      "rowLimit": 10000
     },
     "inputWidgets": {},
     "nuid": "2edb6f8c-9f19-4481-95f6-b36840295b12",
     "showTitle": false,
     "tableResultSettingsMap": {},
     "title": ""
    }
   },
   "outputs": [
    {
     "output_type": "stream",
     "name": "stdout",
     "output_type": "stream",
     "text": [
      "+----------+------+----------------+----------------------------------+-------------------+\n|FL_DATE   |ORIGIN|ORIGIN_STATE_ABR|NAME                              |DATE               |\n+----------+------+----------------+----------------------------------+-------------------+\n|2017-02-16|SMF   |CA              |RED BLUFF MUNICIPAL AIRPORT, CA US|2017-02-16T00:54:00|\n|2017-02-16|SMF   |CA              |RED BLUFF MUNICIPAL AIRPORT, CA US|2017-02-16T01:54:00|\n|2017-02-16|SMF   |CA              |RED BLUFF MUNICIPAL AIRPORT, CA US|2017-02-16T02:54:00|\n|2017-02-16|SMF   |CA              |RED BLUFF MUNICIPAL AIRPORT, CA US|2017-02-16T03:54:00|\n|2017-02-16|SMF   |CA              |RED BLUFF MUNICIPAL AIRPORT, CA US|2017-02-16T04:00:00|\n+----------+------+----------------+----------------------------------+-------------------+\nonly showing top 5 rows\n"
     ]
    }
   ],
   "source": [
    "from pyspark.sql.functions import regexp_extract, to_date, col\n",
    "\n",
    "# Step 1: Extract state abbreviation from NAME \n",
    "df_weather_filtered = df_weather.filter(col(\"NAME\").endswith(\"US\"))\n",
    "df_weather_filtered = df_weather_filtered.withColumn(\n",
    "    \"WEATHER_STATE_ABR\",\n",
    "    regexp_extract(col(\"NAME\"), r\", (\\w{2}) US$\", 1)\n",
    ")\n",
    "\n",
    "# Step 2: Convert DATE and FL_DATE to proper date format\n",
    "df_weather_filtered = df_weather_filtered.withColumn(\"weather_date\", to_date(\"DATE\"))\n",
    "df_flights = df_flights.withColumn(\"flight_date\", to_date(\"FL_DATE\"))\n",
    "\n",
    "# Step 3: Join on state abbreviation and date\n",
    "joined_df = df_flights.join(\n",
    "    df_weather_filtered,\n",
    "    (df_flights[\"ORIGIN_STATE_ABR\"] == df_weather_filtered[\"WEATHER_STATE_ABR\"]) &\n",
    "    (df_flights[\"flight_date\"] == df_weather_filtered[\"weather_date\"]),\n",
    "    how=\"left\"\n",
    ")\n",
    "\n",
    "# Optional: Preview result\n",
    "joined_df.select(\"FL_DATE\", \"ORIGIN\", \"ORIGIN_STATE_ABR\", \"NAME\", \"DATE\").show(5, truncate=False)\n"
   ]
  },
  {
   "cell_type": "code",
   "execution_count": 0,
   "metadata": {
    "application/vnd.databricks.v1+cell": {
     "cellMetadata": {
      "byteLimit": 2048000,
      "rowLimit": 10000
     },
     "inputWidgets": {},
     "nuid": "02491724-80cd-44c9-b515-d5a17fc38e9b",
     "showTitle": false,
     "tableResultSettingsMap": {},
     "title": ""
    }
   },
   "outputs": [
    {
     "output_type": "stream",
     "name": "stdout",
     "output_type": "stream",
     "text": [
      "+-------+------------+-----------+----------+-----------------+---------------------+----------+--------+-----------------+-----------------+---------------------+---------------------+------+--------------------+----------------+-----------------+---------------+----------+---------------+-------------------+-------------------+----+---------------+--------------+---------------+-------------+--------+------------+--------+---------+-------------+---------+---------------+------------+--------+----------+---------+-------+------------+--------+---------+-------------+---------+---------------+------------+---------+-----------------+--------+----------------+-------------------+--------+-------+--------+--------------+-------------+-------------+---------+--------------+-------------------+--------------+---------------+-----------------+----+-----+--------------------+--------------------+-----------------+----------------+-----------+-------------+-------------+------------------+------------------+------------------+------------------+------------------+--------------------+--------------------+---------------+--------------+---------+-------------+-----------+----------------+----------------+----------------+----------------+----------------+----------------------+--------------------------+---------------------------+--------------------------+-----------+-------------------+--------+---------+---------+--------------------+-----------+------+----------------------+-------------------------+------------------------+-------------------+------------------------+--------------------+----------------------+----------------------+--------------------+----------------------+---------------------+----------------+------------------------+-------------------+-------------------+---------------+-------+------+-------------------------------+------------------------------+----------------------------+----------------------------+---------------------------+------------------------------+---------------------+----------------------+------------------------------------------+----------------------+------------------------------+------------------------------+----------------------+------------------+------------------+--------------+-------------+---------------------------+-----------------------+------------+----------------+--------------------------+--------------------------+-----------------------+-----------------------+----------------------+-----------------------+--------------------------------------------+-------------------------------------------+-------------------------------------------+--------------------------------------------+--------------------------------------------+---------------------------------------+--------------------------+---------------------+-------------------------+------------------------+----------------------------+-----------------------+---------------------------+-------------------------------+-----------------------------------+-----------------------------------+-------------------------+----------------------+-------------------------------+-----------------------------------+-----------------------------------+-------------------------+-----------------------+----------------------+-------------------------------+--------------------+--------------+----+----+----+----+----+----+-----------------------+-----------------------+-----------------------+-----------------------+-----------------------+-----------------------+-----------------------+-----------------------+-----------------------+-----------------------+-----------------------+-----------------------+-----------------------+-----------------------+----------------------------------+----------------------------------+----------------------------------+----------------------------------+----------------------------------+----------------------------------+----------------------------------+----------------------------------+----------------------------------+----------------------------------+----------------------------------+----------------------------------+--------------------+---------------+--------------+------------------+------------------+---------------+-------------------+--------------+---------------+----------+-----------------------+---------+\n|QUARTER|DAY_OF_MONTH|DAY_OF_WEEK|   FL_DATE|OP_UNIQUE_CARRIER|OP_CARRIER_AIRLINE_ID|OP_CARRIER|TAIL_NUM|OP_CARRIER_FL_NUM|ORIGIN_AIRPORT_ID|ORIGIN_AIRPORT_SEQ_ID|ORIGIN_CITY_MARKET_ID|ORIGIN|    ORIGIN_CITY_NAME|ORIGIN_STATE_ABR|ORIGIN_STATE_FIPS|ORIGIN_STATE_NM|ORIGIN_WAC|DEST_AIRPORT_ID|DEST_AIRPORT_SEQ_ID|DEST_CITY_MARKET_ID|DEST| DEST_CITY_NAME|DEST_STATE_ABR|DEST_STATE_FIPS|DEST_STATE_NM|DEST_WAC|CRS_DEP_TIME|DEP_TIME|DEP_DELAY|DEP_DELAY_NEW|DEP_DEL15|DEP_DELAY_GROUP|DEP_TIME_BLK|TAXI_OUT|WHEELS_OFF|WHEELS_ON|TAXI_IN|CRS_ARR_TIME|ARR_TIME|ARR_DELAY|ARR_DELAY_NEW|ARR_DEL15|ARR_DELAY_GROUP|ARR_TIME_BLK|CANCELLED|CANCELLATION_CODE|DIVERTED|CRS_ELAPSED_TIME|ACTUAL_ELAPSED_TIME|AIR_TIME|FLIGHTS|DISTANCE|DISTANCE_GROUP|CARRIER_DELAY|WEATHER_DELAY|NAS_DELAY|SECURITY_DELAY|LATE_AIRCRAFT_DELAY|FIRST_DEP_TIME|TOTAL_ADD_GTIME|LONGEST_ADD_GTIME|YEAR|MONTH| origin_airport_name| origin_station_name|origin_station_id|origin_iata_code|origin_icao|  origin_type|origin_region|origin_station_lat|origin_station_lon|origin_airport_lat|origin_airport_lon|origin_station_dis|   dest_airport_name|   dest_station_name|dest_station_id|dest_iata_code|dest_icao|    dest_type|dest_region|dest_station_lat|dest_station_lon|dest_airport_lat|dest_airport_lon|dest_station_dis|sched_depart_date_time|sched_depart_date_time_UTC|four_hours_prior_depart_UTC|two_hours_prior_depart_UTC|    STATION|               DATE|LATITUDE|LONGITUDE|ELEVATION|                NAME|REPORT_TYPE|SOURCE|HourlyAltimeterSetting|HourlyDewPointTemperature|HourlyDryBulbTemperature|HourlyPrecipitation|HourlyPresentWeatherType|HourlyPressureChange|HourlyPressureTendency|HourlyRelativeHumidity| HourlySkyConditions|HourlySeaLevelPressure|HourlyStationPressure|HourlyVisibility|HourlyWetBulbTemperature|HourlyWindDirection|HourlyWindGustSpeed|HourlyWindSpeed|Sunrise|Sunset|DailyAverageDewPointTemperature|DailyAverageDryBulbTemperature|DailyAverageRelativeHumidity|DailyAverageSeaLevelPressure|DailyAverageStationPressure|DailyAverageWetBulbTemperature|DailyAverageWindSpeed|DailyCoolingDegreeDays|DailyDepartureFromNormalAverageTemperature|DailyHeatingDegreeDays|DailyMaximumDryBulbTemperature|DailyMinimumDryBulbTemperature|DailyPeakWindDirection|DailyPeakWindSpeed|DailyPrecipitation|DailySnowDepth|DailySnowfall|DailySustainedWindDirection|DailySustainedWindSpeed|DailyWeather|MonthlyAverageRH|MonthlyDaysWithGT001Precip|MonthlyDaysWithGT010Precip|MonthlyDaysWithGT32Temp|MonthlyDaysWithGT90Temp|MonthlyDaysWithLT0Temp|MonthlyDaysWithLT32Temp|MonthlyDepartureFromNormalAverageTemperature|MonthlyDepartureFromNormalCoolingDegreeDays|MonthlyDepartureFromNormalHeatingDegreeDays|MonthlyDepartureFromNormalMaximumTemperature|MonthlyDepartureFromNormalMinimumTemperature|MonthlyDepartureFromNormalPrecipitation|MonthlyDewpointTemperature|MonthlyGreatestPrecip|MonthlyGreatestPrecipDate|MonthlyGreatestSnowDepth|MonthlyGreatestSnowDepthDate|MonthlyGreatestSnowfall|MonthlyGreatestSnowfallDate|MonthlyMaxSeaLevelPressureValue|MonthlyMaxSeaLevelPressureValueDate|MonthlyMaxSeaLevelPressureValueTime|MonthlyMaximumTemperature|MonthlyMeanTemperature|MonthlyMinSeaLevelPressureValue|MonthlyMinSeaLevelPressureValueDate|MonthlyMinSeaLevelPressureValueTime|MonthlyMinimumTemperature|MonthlySeaLevelPressure|MonthlyStationPressure|MonthlyTotalLiquidPrecipitation|MonthlyTotalSnowfall|MonthlyWetBulb|AWND|CDSD|CLDD|DSNW|HDSD|HTDD|NormalsCoolingDegreeDay|NormalsHeatingDegreeDay|ShortDurationEndDate005|ShortDurationEndDate010|ShortDurationEndDate015|ShortDurationEndDate020|ShortDurationEndDate030|ShortDurationEndDate045|ShortDurationEndDate060|ShortDurationEndDate080|ShortDurationEndDate100|ShortDurationEndDate120|ShortDurationEndDate150|ShortDurationEndDate180|ShortDurationPrecipitationValue005|ShortDurationPrecipitationValue010|ShortDurationPrecipitationValue015|ShortDurationPrecipitationValue020|ShortDurationPrecipitationValue030|ShortDurationPrecipitationValue045|ShortDurationPrecipitationValue060|ShortDurationPrecipitationValue080|ShortDurationPrecipitationValue100|ShortDurationPrecipitationValue120|ShortDurationPrecipitationValue150|ShortDurationPrecipitationValue180|                 REM|BackupDirection|BackupDistance|BackupDistanceUnit|    BackupElements|BackupElevation|    BackupEquipment|BackupLatitude|BackupLongitude|BackupName|WindEquipmentChangeDate|_row_desc|\n+-------+------------+-----------+----------+-----------------+---------------------+----------+--------+-----------------+-----------------+---------------------+---------------------+------+--------------------+----------------+-----------------+---------------+----------+---------------+-------------------+-------------------+----+---------------+--------------+---------------+-------------+--------+------------+--------+---------+-------------+---------+---------------+------------+--------+----------+---------+-------+------------+--------+---------+-------------+---------+---------------+------------+---------+-----------------+--------+----------------+-------------------+--------+-------+--------+--------------+-------------+-------------+---------+--------------+-------------------+--------------+---------------+-----------------+----+-----+--------------------+--------------------+-----------------+----------------+-----------+-------------+-------------+------------------+------------------+------------------+------------------+------------------+--------------------+--------------------+---------------+--------------+---------+-------------+-----------+----------------+----------------+----------------+----------------+----------------+----------------------+--------------------------+---------------------------+--------------------------+-----------+-------------------+--------+---------+---------+--------------------+-----------+------+----------------------+-------------------------+------------------------+-------------------+------------------------+--------------------+----------------------+----------------------+--------------------+----------------------+---------------------+----------------+------------------------+-------------------+-------------------+---------------+-------+------+-------------------------------+------------------------------+----------------------------+----------------------------+---------------------------+------------------------------+---------------------+----------------------+------------------------------------------+----------------------+------------------------------+------------------------------+----------------------+------------------+------------------+--------------+-------------+---------------------------+-----------------------+------------+----------------+--------------------------+--------------------------+-----------------------+-----------------------+----------------------+-----------------------+--------------------------------------------+-------------------------------------------+-------------------------------------------+--------------------------------------------+--------------------------------------------+---------------------------------------+--------------------------+---------------------+-------------------------+------------------------+----------------------------+-----------------------+---------------------------+-------------------------------+-----------------------------------+-----------------------------------+-------------------------+----------------------+-------------------------------+-----------------------------------+-----------------------------------+-------------------------+-----------------------+----------------------+-------------------------------+--------------------+--------------+----+----+----+----+----+----+-----------------------+-----------------------+-----------------------+-----------------------+-----------------------+-----------------------+-----------------------+-----------------------+-----------------------+-----------------------+-----------------------+-----------------------+-----------------------+-----------------------+----------------------------------+----------------------------------+----------------------------------+----------------------------------+----------------------------------+----------------------------------+----------------------------------+----------------------------------+----------------------------------+----------------------------------+----------------------------------+----------------------------------+--------------------+---------------+--------------+------------------+------------------+---------------+-------------------+--------------+---------------+----------+-----------------------+---------+\n|      1|          25|          3|2015-03-25|               AA|                19805|        AA|  N793AA|                1|            12478|              1247802|                31703|   JFK|        New York, NY|              NY|               36|       New York|        22|          12892|            1289203|              32575| LAX|Los Angeles, CA|            CA|              6|   California|      91|         900|     851|     -9.0|          0.0|      0.0|             -1|   0900-0959|    22.0|       913|     1202|   19.0|        1241|    1221|    -20.0|          0.0|      0.0|             -2|   1200-1259|      0.0|             NULL|     0.0|           401.0|              390.0|   349.0|    1.0|  2475.0|            10|         NULL|         NULL|     NULL|          NULL|               NULL|          NULL|           NULL|             NULL|2015|    3|John F Kennedy In...|JOHN F KENNEDY IN...|      74486094789|             JFK|       KJFK|large_airport|        US-NY|              40.6|             -73.8|              40.6|             -73.8|               0.0|Los Angeles Inter...|LOS ANGELES INTER...|    72295023174|           LAX|     KLAX|large_airport|      US-CA|            33.9|          -118.4|            33.9|          -118.4|             0.0|   2015-03-25T09:00:00|       2015-03-25T13:00:00|        2015-03-25T09:00:00|       2015-03-25T11:00:00|74486094789|2015-03-25T09:51:00|40.63915|-73.76401|      3.4|JFK INTERNATIONAL...|      FM-15|     7|                 30.43|                       16|                      44|               0.00|                    NULL|               -0.01|                     1|                    32|          BKN:07 250|                 30.43|                30.40|           10.00|                      34|                200|               NULL|              7|   NULL|  NULL|                           NULL|                          NULL|                        NULL|                        NULL|                       NULL|                          NULL|                 NULL|                  NULL|                                      NULL|                  NULL|                          NULL|                          NULL|                  NULL|              NULL|              NULL|          NULL|         NULL|                       NULL|                   NULL|        NULL|            NULL|                      NULL|                      NULL|                   NULL|                   NULL|                  NULL|                   NULL|                                        NULL|                                       NULL|                                       NULL|                                        NULL|                                        NULL|                                   NULL|                      NULL|                 NULL|                     NULL|                    NULL|                        NULL|                   NULL|                       NULL|                           NULL|                               NULL|                               NULL|                     NULL|                  NULL|                           NULL|                               NULL|                               NULL|                     NULL|                   NULL|                  NULL|                           NULL|                NULL|          NULL|NULL|NULL|NULL|NULL|NULL|NULL|                   NULL|                   NULL|                   NULL|                   NULL|                   NULL|                   NULL|                   NULL|                   NULL|                   NULL|                   NULL|                   NULL|                   NULL|                   NULL|                   NULL|                              NULL|                              NULL|                              NULL|                              NULL|                              NULL|                              NULL|                              NULL|                              NULL|                              NULL|                              NULL|                              NULL|                              NULL|MET10503/25/15 09...|            ESE|           1.5|                mi|TEMP, PRECIP, SNOW|           NULL|PSY, SRG, SNOWBOARD|          NULL|           NULL|   FAA CWO|             2009-05-01|        1|\n|      1|          10|          2|2015-02-10|               AA|                19805|        AA|  N798AA|                2|            12892|              1289203|                32575|   LAX|     Los Angeles, CA|              CA|                6|     California|        91|          12478|            1247802|              31703| JFK|   New York, NY|            NY|             36|     New York|      22|         900|     900|      0.0|          0.0|      0.0|              0|   0900-0959|    13.0|       913|     1644|   11.0|        1729|    1655|    -34.0|          0.0|      0.0|             -2|   1700-1759|      0.0|             NULL|     0.0|           329.0|              295.0|   271.0|    1.0|  2475.0|            10|         NULL|         NULL|     NULL|          NULL|               NULL|          NULL|           NULL|             NULL|2015|    2|Los Angeles Inter...|LOS ANGELES INTER...|      72295023174|             LAX|       KLAX|large_airport|        US-CA|              33.9|            -118.4|              33.9|            -118.4|               0.0|John F Kennedy In...|JOHN F KENNEDY IN...|    74486094789|           JFK|     KJFK|large_airport|      US-NY|            40.6|           -73.8|            40.6|           -73.8|             0.0|   2015-02-10T09:00:00|       2015-02-10T17:00:00|        2015-02-10T13:00:00|       2015-02-10T15:00:00|72295023174|2015-02-10T13:53:00|  33.938|-118.3888|     29.6|LOS ANGELES INTER...|      FM-15|     7|                 29.92|                       51|                      67|               0.00|                    NULL|                NULL|                  NULL|                    57|          FEW:02 100|                 29.92|                29.57|           10.00|                      58|                280|               NULL|             13|   NULL|  NULL|                           NULL|                          NULL|                        NULL|                        NULL|                       NULL|                          NULL|                 NULL|                  NULL|                                      NULL|                  NULL|                          NULL|                          NULL|                  NULL|              NULL|              NULL|          NULL|         NULL|                       NULL|                   NULL|        NULL|            NULL|                      NULL|                      NULL|                   NULL|                   NULL|                  NULL|                   NULL|                                        NULL|                                       NULL|                                       NULL|                                        NULL|                                        NULL|                                   NULL|                      NULL|                 NULL|                     NULL|                    NULL|                        NULL|                   NULL|                       NULL|                           NULL|                               NULL|                               NULL|                     NULL|                  NULL|                           NULL|                               NULL|                               NULL|                     NULL|                   NULL|                  NULL|                           NULL|                NULL|          NULL|NULL|NULL|NULL|NULL|NULL|NULL|                   NULL|                   NULL|                   NULL|                   NULL|                   NULL|                   NULL|                   NULL|                   NULL|                   NULL|                   NULL|                   NULL|                   NULL|                   NULL|                   NULL|                              NULL|                              NULL|                              NULL|                              NULL|                              NULL|                              NULL|                              NULL|                              NULL|                              NULL|                              NULL|                              NULL|                              NULL|MET10102/10/15 13...|           NULL|          NULL|              NULL|              NULL|           NULL|               NULL|          NULL|           NULL|      NULL|                   NULL|        1|\n|      3|           3|          5|2015-07-03|               AA|                19805|        AA|  N794AA|                4|            12892|              1289203|                32575|   LAX|     Los Angeles, CA|              CA|                6|     California|        91|          12478|            1247802|              31703| JFK|   New York, NY|            NY|             36|     New York|      22|        1215|    1209|     -6.0|          0.0|      0.0|             -1|   1200-1259|    12.0|      1221|     2016|    6.0|        2059|    2022|    -37.0|          0.0|      0.0|             -2|   2000-2059|      0.0|             NULL|     0.0|           344.0|              313.0|   295.0|    1.0|  2475.0|            10|         NULL|         NULL|     NULL|          NULL|               NULL|          NULL|           NULL|             NULL|2015|    7|Los Angeles Inter...|LOS ANGELES INTER...|      72295023174|             LAX|       KLAX|large_airport|        US-CA|              33.9|            -118.4|              33.9|            -118.4|               0.0|John F Kennedy In...|JOHN F KENNEDY IN...|    74486094789|           JFK|     KJFK|large_airport|      US-NY|            40.6|           -73.8|            40.6|           -73.8|             0.0|   2015-07-03T12:15:00|       2015-07-03T19:15:00|        2015-07-03T15:15:00|       2015-07-03T17:15:00|72295023174|2015-07-03T15:51:00|  33.938|-118.3888|     29.6|LOS ANGELES INTER...|      FM-16|     6|                 29.87|                       61|                      66|               NULL|                    NULL|                NULL|                  NULL|                    83|BKN:07 10 BKN:07 ...|                  NULL|                29.52|           10.00|                      63|                250|               NULL|             16|   NULL|  NULL|                           NULL|                          NULL|                        NULL|                        NULL|                       NULL|                          NULL|                 NULL|                  NULL|                                      NULL|                  NULL|                          NULL|                          NULL|                  NULL|              NULL|              NULL|          NULL|         NULL|                       NULL|                   NULL|        NULL|            NULL|                      NULL|                      NULL|                   NULL|                   NULL|                  NULL|                   NULL|                                        NULL|                                       NULL|                                       NULL|                                        NULL|                                        NULL|                                   NULL|                      NULL|                 NULL|                     NULL|                    NULL|                        NULL|                   NULL|                       NULL|                           NULL|                               NULL|                               NULL|                     NULL|                  NULL|                           NULL|                               NULL|                               NULL|                     NULL|                   NULL|                  NULL|                           NULL|                NULL|          NULL|NULL|NULL|NULL|NULL|NULL|NULL|                   NULL|                   NULL|                   NULL|                   NULL|                   NULL|                   NULL|                   NULL|                   NULL|                   NULL|                   NULL|                   NULL|                   NULL|                   NULL|                   NULL|                              NULL|                              NULL|                              NULL|                              NULL|                              NULL|                              NULL|                              NULL|                              NULL|                              NULL|                              NULL|                              NULL|                              NULL|MET10007/03/15 15...|           NULL|          NULL|              NULL|              NULL|           NULL|               NULL|          NULL|           NULL|      NULL|                   NULL|        1|\n|      4|          11|          5|2015-12-11|               AA|                19805|        AA|  N792AA|                4|            12892|              1289203|                32575|   LAX|     Los Angeles, CA|              CA|                6|     California|        91|          12478|            1247803|              31703| JFK|   New York, NY|            NY|             36|     New York|      22|        1215|    1232|     17.0|         17.0|      1.0|              1|   1200-1259|    25.0|      1257|     2017|   12.0|        2045|    2029|    -16.0|          0.0|      0.0|             -2|   2000-2059|      0.0|             NULL|     0.0|           330.0|              297.0|   260.0|    1.0|  2475.0|            10|         NULL|         NULL|     NULL|          NULL|               NULL|          NULL|           NULL|             NULL|2015|   12|Los Angeles Inter...|LOS ANGELES INTER...|      72295023174|             LAX|       KLAX|large_airport|        US-CA|              33.9|            -118.4|              33.9|            -118.4|               0.0|John F Kennedy In...|JOHN F KENNEDY IN...|    74486094789|           JFK|     KJFK|large_airport|      US-NY|            40.6|           -73.8|            40.6|           -73.8|             0.0|   2015-12-11T12:15:00|       2015-12-11T20:15:00|        2015-12-11T16:15:00|       2015-12-11T18:15:00|72295023174|2015-12-11T16:53:00|  33.938|-118.3888|     29.6|LOS ANGELES INTER...|      FM-15|     7|                 29.78|                       32|                      60|               0.00|                    NULL|                NULL|                  NULL|                    35|FEW:02 38 SCT:04 ...|                 29.78|                29.43|           10.00|                      47|                330|                 16|             10|   NULL|  NULL|                           NULL|                          NULL|                        NULL|                        NULL|                       NULL|                          NULL|                 NULL|                  NULL|                                      NULL|                  NULL|                          NULL|                          NULL|                  NULL|              NULL|              NULL|          NULL|         NULL|                       NULL|                   NULL|        NULL|            NULL|                      NULL|                      NULL|                   NULL|                   NULL|                  NULL|                   NULL|                                        NULL|                                       NULL|                                       NULL|                                        NULL|                                        NULL|                                   NULL|                      NULL|                 NULL|                     NULL|                    NULL|                        NULL|                   NULL|                       NULL|                           NULL|                               NULL|                               NULL|                     NULL|                  NULL|                           NULL|                               NULL|                               NULL|                     NULL|                   NULL|                  NULL|                           NULL|                NULL|          NULL|NULL|NULL|NULL|NULL|NULL|NULL|                   NULL|                   NULL|                   NULL|                   NULL|                   NULL|                   NULL|                   NULL|                   NULL|                   NULL|                   NULL|                   NULL|                   NULL|                   NULL|                   NULL|                              NULL|                              NULL|                              NULL|                              NULL|                              NULL|                              NULL|                              NULL|                              NULL|                              NULL|                              NULL|                              NULL|                              NULL|MET11012/11/15 16...|           NULL|          NULL|              NULL|              NULL|           NULL|               NULL|          NULL|           NULL|      NULL|                   NULL|        1|\n|      2|          27|          1|2015-04-27|               AA|                19805|        AA|  N358AA|                5|            11298|              1129804|                30194|   DFW|Dallas/Fort Worth...|              TX|               48|          Texas|        74|          12173|            1217302|              32134| HNL|   Honolulu, HI|            HI|             15|       Hawaii|       2|        1350|    1425|     35.0|         35.0|      1.0|              2|   1300-1359|    20.0|      1445|     1805|    6.0|        1722|    1811|     49.0|         49.0|      1.0|              3|   1700-1759|      0.0|             NULL|     0.0|           512.0|              526.0|   500.0|    1.0|  3784.0|            11|         35.0|          0.0|     14.0|           0.0|                0.0|          NULL|           NULL|             NULL|2015|    4|Dallas Fort Worth...|DALLAS/FT WORTH I...|      72259003927|             DFW|       KDFW|large_airport|        US-TX|              32.9|             -97.0|              32.9|             -97.0|               0.0|Daniel K Inouye I...|HONOLULU INTERNAT...|    91182022521|           HNL|     PHNL|large_airport|      US-HI|            21.3|          -157.9|            21.3|          -157.9|             0.0|   2015-04-27T13:50:00|       2015-04-27T18:50:00|        2015-04-27T14:50:00|       2015-04-27T16:50:00|72259003927|2015-04-27T14:53:00| 32.8978| -97.0189|    170.7|DAL FTW WSCMO AIR...|      FM-15|     7|                 29.73|                       58|                      68|               0.00|                    NULL|               +0.04|                     8|                    70|           OVC:08 38|                 29.70|                29.09|           10.00|                      62|                080|               NULL|             15|   NULL|  NULL|                           NULL|                          NULL|                        NULL|                        NULL|                       NULL|                          NULL|                 NULL|                  NULL|                                      NULL|                  NULL|                          NULL|                          NULL|                  NULL|              NULL|              NULL|          NULL|         NULL|                       NULL|                   NULL|        NULL|            NULL|                      NULL|                      NULL|                   NULL|                   NULL|                  NULL|                   NULL|                                        NULL|                                       NULL|                                       NULL|                                        NULL|                                        NULL|                                   NULL|                      NULL|                 NULL|                     NULL|                    NULL|                        NULL|                   NULL|                       NULL|                           NULL|                               NULL|                               NULL|                     NULL|                  NULL|                           NULL|                               NULL|                               NULL|                     NULL|                   NULL|                  NULL|                           NULL|                NULL|          NULL|NULL|NULL|NULL|NULL|NULL|NULL|                   NULL|                   NULL|                   NULL|                   NULL|                   NULL|                   NULL|                   NULL|                   NULL|                   NULL|                   NULL|                   NULL|                   NULL|                   NULL|                   NULL|                              NULL|                              NULL|                              NULL|                              NULL|                              NULL|                              NULL|                              NULL|                              NULL|                              NULL|                              NULL|                              NULL|                              NULL|MET10404/27/15 14...|           NULL|          NULL|              NULL|              NULL|           NULL|               NULL|          NULL|           NULL|      NULL|             2009-05-27|        1|\n+-------+------------+-----------+----------+-----------------+---------------------+----------+--------+-----------------+-----------------+---------------------+---------------------+------+--------------------+----------------+-----------------+---------------+----------+---------------+-------------------+-------------------+----+---------------+--------------+---------------+-------------+--------+------------+--------+---------+-------------+---------+---------------+------------+--------+----------+---------+-------+------------+--------+---------+-------------+---------+---------------+------------+---------+-----------------+--------+----------------+-------------------+--------+-------+--------+--------------+-------------+-------------+---------+--------------+-------------------+--------------+---------------+-----------------+----+-----+--------------------+--------------------+-----------------+----------------+-----------+-------------+-------------+------------------+------------------+------------------+------------------+------------------+--------------------+--------------------+---------------+--------------+---------+-------------+-----------+----------------+----------------+----------------+----------------+----------------+----------------------+--------------------------+---------------------------+--------------------------+-----------+-------------------+--------+---------+---------+--------------------+-----------+------+----------------------+-------------------------+------------------------+-------------------+------------------------+--------------------+----------------------+----------------------+--------------------+----------------------+---------------------+----------------+------------------------+-------------------+-------------------+---------------+-------+------+-------------------------------+------------------------------+----------------------------+----------------------------+---------------------------+------------------------------+---------------------+----------------------+------------------------------------------+----------------------+------------------------------+------------------------------+----------------------+------------------+------------------+--------------+-------------+---------------------------+-----------------------+------------+----------------+--------------------------+--------------------------+-----------------------+-----------------------+----------------------+-----------------------+--------------------------------------------+-------------------------------------------+-------------------------------------------+--------------------------------------------+--------------------------------------------+---------------------------------------+--------------------------+---------------------+-------------------------+------------------------+----------------------------+-----------------------+---------------------------+-------------------------------+-----------------------------------+-----------------------------------+-------------------------+----------------------+-------------------------------+-----------------------------------+-----------------------------------+-------------------------+-----------------------+----------------------+-------------------------------+--------------------+--------------+----+----+----+----+----+----+-----------------------+-----------------------+-----------------------+-----------------------+-----------------------+-----------------------+-----------------------+-----------------------+-----------------------+-----------------------+-----------------------+-----------------------+-----------------------+-----------------------+----------------------------------+----------------------------------+----------------------------------+----------------------------------+----------------------------------+----------------------------------+----------------------------------+----------------------------------+----------------------------------+----------------------------------+----------------------------------+----------------------------------+--------------------+---------------+--------------+------------------+------------------+---------------+-------------------+--------------+---------------+----------+-----------------------+---------+\nonly showing top 5 rows\n"
     ]
    }
   ],
   "source": [
    "df_otpw = spark.read.format(\"csv\").option(\"header\",\"true\").load(f\"dbfs:/mnt/mids-w261/OTPW_12M/OTPW_12M/\")\n",
    "df_otpw.show(5)"
   ]
  },
  {
   "cell_type": "code",
   "execution_count": 0,
   "metadata": {
    "application/vnd.databricks.v1+cell": {
     "cellMetadata": {
      "byteLimit": 2048000,
      "rowLimit": 10000
     },
     "inputWidgets": {},
     "nuid": "c70e59a7-6e5d-4c28-8a37-9eb9792f9ce9",
     "showTitle": false,
     "tableResultSettingsMap": {},
     "title": ""
    }
   },
   "outputs": [
    {
     "output_type": "stream",
     "name": "stdout",
     "output_type": "stream",
     "text": [
      "RMSE: 36.89879943521466\nR^2: 0.004498860942711902\n"
     ]
    }
   ],
   "source": [
    "from pyspark.ml.feature import VectorAssembler\n",
    "from pyspark.ml.regression import LinearRegression\n",
    "from pyspark.sql.functions import col\n",
    "\n",
    "# Step 1: Select relevant numeric columns\n",
    "selected_cols = [\n",
    "    \"DEP_DELAY\",            # Target\n",
    "    \"TAXI_OUT\",\n",
    "    \"CRS_ELAPSED_TIME\",\n",
    "    \"DISTANCE\",\n",
    "    \"MONTH\",\n",
    "    \"DAY_OF_MONTH\",\n",
    "    \"DAY_OF_WEEK\" \n",
    "]\n",
    "\n",
    "# Step 2: Cast selected columns to float\n",
    "for col_name in selected_cols:\n",
    "    df_otpw = df_otpw.withColumn(col_name, col(col_name).cast(\"float\"))\n",
    "\n",
    "# Step 3: Drop rows with nulls in selected columns\n",
    "df_clean = df_otpw.select(selected_cols).dropna()\n",
    "\n",
    "# Step 4: Assemble features\n",
    "assembler = VectorAssembler(\n",
    "    inputCols=[col for col in selected_cols if col != \"DEP_DELAY\"],\n",
    "    outputCol=\"features\"\n",
    ")\n",
    "df_vector = assembler.transform(df_clean).select(\"features\", \"DEP_DELAY\")\n",
    "\n",
    "# Step 5: Train Linear Regression Model\n",
    "lr = LinearRegression(featuresCol=\"features\", labelCol=\"DEP_DELAY\")\n",
    "lr_model = lr.fit(df_vector)\n",
    "\n",
    "# Step 6: Print model summary\n",
    "training_summary = lr_model.summary\n",
    "print(\"RMSE:\", training_summary.rootMeanSquaredError)\n",
    "print(\"R^2:\", training_summary.r2)\n"
   ]
  },
  {
   "cell_type": "code",
   "execution_count": 0,
   "metadata": {
    "application/vnd.databricks.v1+cell": {
     "cellMetadata": {
      "byteLimit": 2048000,
      "rowLimit": 10000
     },
     "inputWidgets": {},
     "nuid": "7cad50c6-b326-45df-a826-928ab1733a41",
     "showTitle": false,
     "tableResultSettingsMap": {},
     "title": ""
    }
   },
   "outputs": [
    {
     "output_type": "display_data",
     "data": {
      "image/png": "[encoded data removed]",
      "text/plain": [
       "<Figure size 1000x600 with 1 Axes>"
      ]
     },
     "metadata": {},
     "output_type": "display_data"
    }
   ],
   "source": [
    "import matplotlib.pyplot as plt\n",
    "import seaborn as sns\n",
    "predictions = lr_model.transform(df_vector).select(\"DEP_DELAY\", \"prediction\")\n",
    "pred_pd = predictions.toPandas()\n",
    "pred_pd[\"residuals\"] = pred_pd[\"DEP_DELAY\"] - pred_pd[\"prediction\"]\n",
    "plt.figure(figsize=(10, 6))\n",
    "sns.scatterplot(x=pred_pd[\"DEP_DELAY\"], y=pred_pd[\"prediction\"])\n",
    "plt.plot([pred_pd[\"DEP_DELAY\"].min(), pred_pd[\"DEP_DELAY\"].max()],\n",
    "         [pred_pd[\"DEP_DELAY\"].min(), pred_pd[\"DEP_DELAY\"].max()],\n",
    "         color=\"red\", linestyle=\"--\")\n",
    "plt.xlabel(\"Actual Departure Delay\")\n",
    "plt.ylabel(\"Predicted Departure Delay\")\n",
    "plt.title(\"Predicted vs. Actual Departure Delay\")\n",
    "plt.show()\n"
   ]
  },
  {
   "cell_type": "code",
   "execution_count": 0,
   "metadata": {
    "application/vnd.databricks.v1+cell": {
     "cellMetadata": {
      "byteLimit": 2048000,
      "rowLimit": 10000
     },
     "inputWidgets": {},
     "nuid": "caba1610-94d1-4b4e-91df-86151703313f",
     "showTitle": false,
     "tableResultSettingsMap": {},
     "title": ""
    }
   },
   "outputs": [
    {
     "output_type": "display_data",
     "data": {
      "text/plain": [
       ""
      ]
     },
     "metadata": {
      "application/vnd.databricks.v1+output": {
       "addedWidgets": {},
       "arguments": {},
       "datasetInfos": [],
       "jupyterProps": null,
       "metadata": {
        "errorSummary": "Command skipped"
       },
       "removedWidgets": [],
       "sqlProps": null,
       "stackFrames": [],
       "type": "baseError"
      }
     },
     "output_type": "display_data"
    }
   ],
   "source": [
    "df_otpw1 = spark.read.format(\"csv\").option(\"header\",\"true\").load(f\"dbfs:/mnt/mids-w261/OTPW_12M/OTPW_12M/\")\n",
    "df_otpw1.show(5)"
   ]
  },
  {
   "cell_type": "code",
   "execution_count": 0,
   "metadata": {
    "application/vnd.databricks.v1+cell": {
     "cellMetadata": {
      "byteLimit": 2048000,
      "rowLimit": 10000
     },
     "inputWidgets": {},
     "nuid": "cc98f5db-4a8e-400d-a1ae-8da7752790ac",
     "showTitle": false,
     "tableResultSettingsMap": {},
     "title": ""
    }
   },
   "outputs": [],
   "source": [
    "from pyspark.sql.functions import col, pow, sqrt, to_date, row_number\n",
    "from pyspark.sql.window import Window\n",
    "\n",
    "#Read in airport codes file\n",
    "df_airports = spark.read.format(\"csv\").option(\"header\", \"true\").load(\"dbfs:/mnt/mids-w261/airport-codes_csv.csv\")\n",
    "\n",
    "#Join flights with airport metadata on IATA airport code\n",
    "df_flights_airports = df_flights1.join(\n",
    "    df_airports,\n",
    "    df_flights1[\"ORIGIN\"] == df_airports[\"iata_code\"],\n",
    "    how=\"left\"\n",
    ")\n",
    "\n",
    "#Cross join with stations and compute distance\n",
    "df_joined = df_flights_airports.crossJoin(df_stations).withColumn(\n",
    "    \"distance\",\n",
    "    sqrt(\n",
    "        pow(col(\"lat\") - col(\"neighbor_lat\"), 2) +\n",
    "        pow(col(\"lon\") - col(\"neighbor_lon\"), 2)\n",
    "    )\n",
    ")\n",
    "\n",
    "#Select the closest station per ORIGIN\n",
    "windowSpec = Window.partitionBy(\"ORIGIN\").orderBy(\"distance\")\n",
    "df_nearest = df_joined.withColumn(\"rank\", row_number().over(windowSpec)).filter(col(\"rank\") == 1)\n",
    "\n",
    "#Prepare weather data for join\n",
    "df_weather = df_weather1.withColumnRenamed(\"STATION\", \"STATION_ID\")\n",
    "df_weather = df_weather1.withColumn(\"weather_date\", to_date(\"DATE\"))\n",
    "\n",
    "#Final join on closest weather station and date\n",
    "df_final = df_nearest.join(\n",
    "    df_weather,\n",
    "    (df_nearest[\"neighbor_id\"] == df_weather[\"STATION_ID\"]) &\n",
    "    (to_date(df_nearest[\"FL_DATE\"]) == df_weather[\"weather_date\"]),\n",
    "    how=\"inner\"\n",
    ")\n"
   ]
  },
  {
   "cell_type": "code",
   "execution_count": 0,
   "metadata": {
    "application/vnd.databricks.v1+cell": {
     "cellMetadata": {},
     "inputWidgets": {},
     "nuid": "e6659c5c-693b-4302-b55e-e867e4b5aedc",
     "showTitle": false,
     "tableResultSettingsMap": {},
     "title": ""
    }
   },
   "outputs": [],
   "source": []
  }
 ],
 "metadata": {
  "application/vnd.databricks.v1+notebook": {
   "computePreferences": null,
   "dashboards": [],
   "environmentMetadata": {
    "base_environment": "",
    "environment_version": "2"
   },
   "inputWidgetPreferences": null,
   "language": "python",
   "notebookMetadata": {
    "pythonIndentUnit": 4
   },
   "notebookName": "(Clone) LinRegAndEDA",
   "widgets": {}
  },
  "language_info": {
   "name": "python"
  }
 },
 "nbformat": 4,
 "nbformat_minor": 0
}